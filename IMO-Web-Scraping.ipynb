{
 "cells": [
  {
   "cell_type": "code",
   "execution_count": 1,
   "metadata": {},
   "outputs": [],
   "source": [
    "# # # # Web scraping: Africa in International Math Olympiads # # # # "
   ]
  },
  {
   "cell_type": "code",
   "execution_count": 2,
   "metadata": {},
   "outputs": [],
   "source": [
    "# Help here: https://realpython.com/beautiful-soup-web-scraper-python/"
   ]
  },
  {
   "cell_type": "code",
   "execution_count": 3,
   "metadata": {},
   "outputs": [],
   "source": [
    "import requests\n",
    "from bs4 import BeautifulSoup"
   ]
  },
  {
   "cell_type": "code",
   "execution_count": 174,
   "metadata": {},
   "outputs": [],
   "source": [
    "URL = 'https://www.imo-official.org/results.aspx'\n",
    "page = requests.get(URL)\n",
    "soup = BeautifulSoup(page.content, 'html.parser')\n",
    "results = soup.find(id='main')"
   ]
  },
  {
   "cell_type": "code",
   "execution_count": 175,
   "metadata": {},
   "outputs": [],
   "source": [
    "countries = results.find_all('tr')\n",
    "countries.pop(0)\n",
    "countries.pop(0)\n",
    "\n",
    "year = [results.find_all('tr')[0]('th')[i]('a')[0]['title'][4:] for i in range(1,len(results.find_all('tr')[0]('th'))-1)]\n",
    "code = [0 for i in range(len(countries))]\n",
    "name = [0 for i in range(len(countries))]\n",
    "data = [[0 for y in year] for i in code]\n",
    "\n",
    "for i in range(len(countries)):\n",
    "    code[i] = countries[i].a.text\n",
    "    name[i] = countries[i].a['title']"
   ]
  },
  {
   "cell_type": "code",
   "execution_count": 176,
   "metadata": {},
   "outputs": [],
   "source": [
    "for c in range(len(code)):\n",
    "    for y in range(len(year)):\n",
    "        if not (countries[c].find_all('td')[y+1].a is None):\n",
    "            if (\"team_r.aspx?\" in countries[c].find_all('td')[y+1].a[\"href\"]):\n",
    "                data[c][y] = countries[c].find_all('td')[y+1].a.text"
   ]
  }
 ],
 "metadata": {
  "kernelspec": {
   "display_name": "Python 3",
   "language": "python",
   "name": "python3"
  },
  "language_info": {
   "codemirror_mode": {
    "name": "ipython",
    "version": 3
   },
   "file_extension": ".py",
   "mimetype": "text/x-python",
   "name": "python",
   "nbconvert_exporter": "python",
   "pygments_lexer": "ipython3",
   "version": "3.7.1"
  }
 },
 "nbformat": 4,
 "nbformat_minor": 2
}
