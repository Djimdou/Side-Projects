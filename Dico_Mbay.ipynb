{
  "nbformat": 4,
  "nbformat_minor": 0,
  "metadata": {
    "colab": {
      "name": "Dico Mbay.ipynb",
      "provenance": [],
      "collapsed_sections": [],
      "authorship_tag": "ABX9TyMtHgOraxHbKECjmL03zBG4"
    },
    "kernelspec": {
      "name": "python3",
      "display_name": "Python 3"
    }
  },
  "cells": [
    {
      "cell_type": "code",
      "metadata": {
        "id": "iZBjcBLoxlBS",
        "colab_type": "code",
        "colab": {}
      },
      "source": [
        "import requests\n",
        "from bs4 import BeautifulSoup\n",
        "#!pip install audioscrape\n",
        "#import audioscrape"
      ],
      "execution_count": 1,
      "outputs": []
    },
    {
      "cell_type": "code",
      "metadata": {
        "id": "hqwITPf94wzL",
        "colab_type": "code",
        "colab": {}
      },
      "source": [
        "URL = 'http://morkegbooks.com/Services/World/Languages/SaraBagirmi/SoundDictionary/Mbay/'\n",
        "page = requests.get(URL)\n",
        "\n",
        "dico_mbaye = BeautifulSoup(page.content, 'html.parser').find(id='dict-content')\n",
        "#results = dico_mbaye.find(id='dict-content')\n",
        "#phrases = results.find_all('div')"
      ],
      "execution_count": 2,
      "outputs": []
    },
    {
      "cell_type": "code",
      "metadata": {
        "id": "hgI5KE2D9qBs",
        "colab_type": "code",
        "colab": {}
      },
      "source": [
        "phrases = dico_mbaye.find_all('div',{\"class\": \"def\"})#.find_all('span',{\"class\": \"word\"})\n",
        "\n",
        "# Phrases, words, main entries and alternative spellings\n",
        "\n",
        "word = ['' for i in range(len(phrases))]\n",
        "alternative = ['' for i in range(len(phrases))]\n",
        "\n",
        "for i in range(len(phrases)):\n",
        "  end_word =  phrases[i].span.text.find('\\n',2)\n",
        "  if (phrases[i].span.text.find('\\n',1) != phrases[i].span.text.find('\\n',2)):# if the text is in the form \"\\n\\n à\\n\\n\"\n",
        "    begin_word = phrases[i].span.text.find('\\n',1)\n",
        "    word[i] = phrases[i].span.text[(begin_word+2):end_word].replace(\" \", \"\").split(\",\")\n",
        "  else:# if the text is in the form \"\\n-á\\n\"\n",
        "    begin_word = phrases[i].span.text.find('\\n')\n",
        "    word[i] = phrases[i].span.text[(begin_word+1):end_word].replace(\" \", \"\").split(\",\")\n",
        "\n",
        "  if (word[i][0].find('[') != -1): # there is an alternative spelling\n",
        "    begin_alter = word[i][0].find('[')\n",
        "    end_alter = word[i][0].find(']')\n",
        "    alternative[i] = word[i][0][(begin_alter+1):end_alter]\n",
        "    word[i] = word[i][0][0:begin_alter]\n",
        "\n",
        "# Synonyms\n",
        "\n",
        "synonym = []\n",
        "if (phrases[i].span.text.find('Syn:') != -1):\n",
        "  begin_synonym = phrases[i].span.text.find('Syn:')\n",
        "  end_synonym = phrases[i].span.text.find(')')\n",
        "  synonym = phrases[i].span.text[(begin_synonym+5):end_synonym]\n",
        "\n",
        "# Borrowings\n",
        "\n",
        "begin_borrow = phrases[i].span.text.find('\\n\\n',2)\n",
        "borrow = phrases[i].span.text[(begin_borrow+2):-1]\n",
        "\n",
        "# Types\n",
        "\n",
        "phrase_type = phrases[i].find_all('span',{\"class\": \"type\"})[0].text.replace(\" \", \"\")"
      ],
      "execution_count": 3,
      "outputs": []
    },
    {
      "cell_type": "code",
      "metadata": {
        "id": "evozc6SUe-Wr",
        "colab_type": "code",
        "colab": {}
      },
      "source": [
        "# Phrases, words, main entries and alternative spellings\n",
        "\n",
        "word = ['' for i in range(len(phrases))]\n",
        "alternative = ['' for i in range(len(phrases))]\n",
        "\n",
        "for i in range(len(phrases)):\n",
        "  end_word =  phrases[i].span.text.find('\\n',2)\n",
        "  if (phrases[i].span.text.find('\\n',1) != phrases[i].span.text.find('\\n',2)):# if the text is in the form \"\\n\\n à\\n\\n\"\n",
        "    begin_word = phrases[i].span.text.find('\\n',1)\n",
        "    word[i] = phrases[i].span.text[(begin_word+2):end_word].replace(\" \", \"\").split(\",\")\n",
        "  else:# if the text is in the form \"\\n-á\\n\"\n",
        "    begin_word = phrases[i].span.text.find('\\n')\n",
        "    word[i] = phrases[i].span.text[(begin_word+1):end_word].replace(\" \", \"\").split(\",\")\n",
        "\n",
        "  if (word[i][0].find('[') != -1): # there is an alternative spelling\n",
        "    begin_alter = word[i][0].find('[')\n",
        "    end_alter = word[i][0].find(']')\n",
        "    alternative[i] = word[i][0][(begin_alter+1):end_alter]\n",
        "    word[i] = word[i][0][0:begin_alter]"
      ],
      "execution_count": 323,
      "outputs": []
    },
    {
      "cell_type": "code",
      "metadata": {
        "id": "Tih1_b_WjbVE",
        "colab_type": "code",
        "colab": {}
      },
      "source": [
        ""
      ],
      "execution_count": null,
      "outputs": []
    },
    {
      "cell_type": "code",
      "metadata": {
        "id": "CQugpnD7MfSk",
        "colab_type": "code",
        "colab": {
          "base_uri": "https://localhost:8080/",
          "height": 853
        },
        "outputId": "5a4ef549-e379-41d6-e308-17fcc0aa3d86"
      },
      "source": [
        "for i in range(2500,2550):\n",
        "  print(word[i])"
      ],
      "execution_count": 329,
      "outputs": [
        {
          "output_type": "stream",
          "text": [
            "['Kōrōó']\n",
            "['kórō']\n",
            "['kóróng']\n",
            "['kóróng']\n",
            "['kóróng']\n",
            "['kósā']\n",
            "['kòsɨ̄']\n",
            "['kòsɨ́']\n",
            "['kósɨ̄']\n",
            "['kósɨ̄']\n",
            "['kòsɨ́-lò-súu']\n",
            "['kósòĺ']\n",
            "['kòsòng']\n",
            "['kòtɨ̀']\n",
            "['kòtɨ́']\n",
            "['kótɨ̄']\n",
            "['kótɨ́']\n",
            "['kótɨ́']\n",
            "['kòtɨ̀-nél']\n",
            "['kòtɨ̀-nél-kɨ́-ngāl']\n",
            "['Kótɨ̀kò']\n",
            "['kótɨ́ḿ']\n",
            "['kòw']\n",
            "['Kówàsī']\n",
            "['kòy']\n",
            "['Kōy']\n",
            "['kōý-kɨ̄ngā']\n",
            "['kòy-mòngɨ̀r']\n",
            "['kōý-ndòō']\n",
            "['kòy-sátɨ̀']\n",
            "['kóyɨ́m']\n",
            "['kōyō']\n",
            "['kò̰o̰']\n",
            "['kó̰o̰']\n",
            "['kò̰o̰']\n",
            "['kò̰ō̰']\n",
            "['kò̰o̰-ɓēe']\n",
            "['kò̰o̰-ɓēe']\n",
            "['kó̰o̰-kīlē']\n",
            "['kó̰o̰-ḿ-kɔ́r̄-m̄-kɨ̀-ɗí']\n",
            "['kó̰o̰-ndīi']\n",
            "['kó̰o̰-pārēe']\n",
            "['kò̰o̰-tàl̄']\n",
            "['kō̰dē']\n",
            "['kó̰ró̰ró̰']\n",
            "['kɔ̀ɔ̀']\n",
            "['kɔ̀ɔ̄']\n",
            "['Kɔ̄ɔ̄']\n",
            "['kɔ̄ɔ́']\n",
            "['kɔ́ɔ́']\n"
          ],
          "name": "stdout"
        }
      ]
    },
    {
      "cell_type": "code",
      "metadata": {
        "id": "l1SmY-35ec5B",
        "colab_type": "code",
        "colab": {}
      },
      "source": [
        "!pip install deepl\n",
        "\n",
        "from translate import Translator\n",
        "\n",
        "# Translation using Google Translate\n",
        "\n",
        "translation = Translator(to_lang=\"fr\").translate(\"This is a pen!\")"
      ],
      "execution_count": null,
      "outputs": []
    },
    {
      "cell_type": "code",
      "metadata": {
        "id": "6l780w-qf1AW",
        "colab_type": "code",
        "colab": {
          "base_uri": "https://localhost:8080/",
          "height": 33
        },
        "outputId": "0a4b24da-4d02-4336-a8ce-7d69ef177685"
      },
      "source": [
        "translation = Translator(to_lang=\"fr\").translate(\"This is a beautiful pencil!\")\n",
        "print(translation)"
      ],
      "execution_count": null,
      "outputs": [
        {
          "output_type": "stream",
          "text": [
            "Ceci est un beau crayon!\n"
          ],
          "name": "stdout"
        }
      ]
    }
  ]
}