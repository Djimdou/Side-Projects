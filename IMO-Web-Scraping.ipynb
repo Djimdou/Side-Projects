{
 "cells": [
  {
   "cell_type": "code",
   "execution_count": 208,
   "metadata": {},
   "outputs": [],
   "source": [
    "# # # # Web scraping: Africa in International Math Olympiads # # # # "
   ]
  },
  {
   "cell_type": "code",
   "execution_count": 209,
   "metadata": {},
   "outputs": [],
   "source": [
    "import requests\n",
    "from bs4 import BeautifulSoup"
   ]
  },
  {
   "cell_type": "code",
   "execution_count": 210,
   "metadata": {},
   "outputs": [],
   "source": [
    "URL_imo = 'https://www.imo-official.org/results.aspx'\n",
    "page_imo = requests.get(URL_imo)\n",
    "imo = BeautifulSoup(page_imo.content, 'html.parser')\n",
    "results_imo = imo.find(id='main')"
   ]
  },
  {
   "cell_type": "code",
   "execution_count": 211,
   "metadata": {},
   "outputs": [],
   "source": [
    "countries_imo = results_imo.find_all('tr')\n",
    "countries_imo.pop(0)\n",
    "countries_imo.pop(0)\n",
    "\n",
    "year = [results_imo.find_all('tr')[0]('th')[i]('a')[0]['title'][4:] for i in range(1,len(results_imo.find_all('tr')[0]('th'))-1)]\n",
    "code = [0 for i in range(len(countries_imo))] # country codes\n",
    "name = [0 for i in range(len(countries_imo))] # country names\n",
    "data = [[0 for y in year] for i in code] # country performance at IMO\n",
    "\n",
    "for i in range(len(countries_imo)):\n",
    "    code[i] = countries_imo[i].a.text\n",
    "    name[i] = countries_imo[i].a['title']"
   ]
  },
  {
   "cell_type": "code",
   "execution_count": 212,
   "metadata": {},
   "outputs": [],
   "source": [
    "for c in range(len(code)):\n",
    "    for y in range(len(year)):\n",
    "        if not (countries_imo[c].find_all('td')[y+1].a is None): # making sure <a> exists\n",
    "            if (\"team_r.aspx?\" in countries_imo[c].find_all('td')[y+1].a[\"href\"]): # if the country c participated the year y\n",
    "                data[c][y] = countries_imo[c].find_all('td')[y+1].a.text"
   ]
  },
  {
   "cell_type": "code",
   "execution_count": 213,
   "metadata": {},
   "outputs": [],
   "source": [
    "# Need to identify African countries\n",
    "\n",
    "URL_africa = 'https://allafrica.com/misc/sitemap/countries.html' # list of African countries\n",
    "page_africa = requests.get(URL_africa)\n",
    "africa = BeautifulSoup(page_africa.content, 'html.parser')\n",
    "results_africa = africa.find(class_='category-grid')\n",
    "countries_africa = [results_africa.find_all('a')[c].text for c in range(1,56)]"
   ]
  }
 ],
 "metadata": {
  "kernelspec": {
   "display_name": "Python 3",
   "language": "python",
   "name": "python3"
  },
  "language_info": {
   "codemirror_mode": {
    "name": "ipython",
    "version": 3
   },
   "file_extension": ".py",
   "mimetype": "text/x-python",
   "name": "python",
   "nbconvert_exporter": "python",
   "pygments_lexer": "ipython3",
   "version": "3.7.1"
  }
 },
 "nbformat": 4,
 "nbformat_minor": 2
}
