{
  "nbformat": 4,
  "nbformat_minor": 0,
  "metadata": {
    "colab": {
      "name": "Mbay Song Classification",
      "provenance": [],
      "private_outputs": true,
      "collapsed_sections": []
    },
    "kernelspec": {
      "name": "python3",
      "display_name": "Python 3"
    },
    "accelerator": "GPU"
  },
  "cells": [
    {
      "cell_type": "markdown",
      "metadata": {
        "id": "cr_y1NN4coZJ",
        "colab_type": "text"
      },
      "source": [
        "Aim: classification on mbay songs: given a mbay song, can we predict its genre?"
      ]
    },
    {
      "cell_type": "code",
      "metadata": {
        "id": "dHDJD9aKY9YK",
        "colab_type": "code",
        "colab": {}
      },
      "source": [
        "# loading packages\n",
        "\n",
        "%tensorflow_version 1.x\n",
        "import librosa\n",
        "import pandas as pd\n",
        "import numpy as np\n",
        "import matplotlib.pyplot as plt\n",
        "%matplotlib inline\n",
        "import os\n",
        "from PIL import Image\n",
        "import pathlib\n",
        "import csv\n",
        "from sklearn.model_selection import train_test_split\n",
        "from sklearn.preprocessing import LabelEncoder, StandardScaler\n",
        "import keras\n",
        "from keras import layers\n",
        "import keras\n",
        "from keras.models import Sequential\n",
        "import warnings\n",
        "from sklearn.metrics import classification_report,confusion_matrix\n",
        "from numpy import argmax\n",
        "import librosa.display\n",
        "import IPython.display\n",
        "import random\n",
        "from keras.layers import Activation, Dense, Dropout, Conv2D, Flatten, MaxPooling2D, GlobalMaxPooling2D, GlobalAveragePooling1D, AveragePooling2D, Input, Add\n",
        "from keras.optimizers import SGD\n",
        "from keras.callbacks import EarlyStopping\n",
        "from google.colab import drive\n",
        "from sklearn.neural_network import MLPClassifier\n",
        "from sklearn.linear_model import LogisticRegression\n",
        "from sklearn import svm\n",
        "from sklearn.ensemble import RandomForestClassifier\n",
        "from sklearn.datasets import make_classification\n",
        "from sklearn import neighbors, datasets\n",
        "from keras.preprocessing.image import ImageDataGenerator\n",
        "!pip install split_folders\n",
        "import split_folders\n",
        "from sklearn.naive_bayes import GaussianNB\n",
        "from sklearn.discriminant_analysis import LinearDiscriminantAnalysis\n",
        "from random import sample\n",
        "\n",
        "warnings.filterwarnings('ignore')"
      ],
      "execution_count": 0,
      "outputs": []
    },
    {
      "cell_type": "code",
      "metadata": {
        "id": "Hkk1bNnBUX1E",
        "colab_type": "code",
        "colab": {}
      },
      "source": [
        "# Work directory\n",
        "\n",
        "drive.mount('/content/gdrive', force_remount=True)"
      ],
      "execution_count": 0,
      "outputs": []
    },
    {
      "cell_type": "code",
      "metadata": {
        "id": "JI0u-bZE3edA",
        "colab_type": "code",
        "colab": {}
      },
      "source": [
        "duree = 15 # sample duration to take from the audio file for analysis\n",
        "genres = 'Bang Bordero Klag Terta'.split()\n",
        "MaxNbFiles = 75 # maximum number of songs of each genre to consider for analysis"
      ],
      "execution_count": 0,
      "outputs": []
    },
    {
      "cell_type": "markdown",
      "metadata": {
        "id": "1qtT7S44sKRb",
        "colab_type": "text"
      },
      "source": [
        "Waveplots and spectograms of a sample of each genre"
      ]
    },
    {
      "cell_type": "code",
      "metadata": {
        "id": "3toIH0FzhJeW",
        "colab_type": "code",
        "colab": {}
      },
      "source": [
        "# Help: https://www.kdnuggets.com/2020/02/audio-data-analysis-deep-learning-python-part-1.html\n",
        "\n",
        "# Files: https://drive.google.com/drive/folders/0B-znYQjmJbqKTWVGUG9mQVNPZTQ"
      ],
      "execution_count": 0,
      "outputs": []
    },
    {
      "cell_type": "code",
      "metadata": {
        "id": "cynvxHRDjqoP",
        "colab_type": "code",
        "colab": {}
      },
      "source": [
        "# Images for poster\n",
        "\n",
        "pathlib.Path(f'img_data/').mkdir(parents=True, exist_ok=True)\n",
        "\n",
        "cmap = plt.get_cmap('inferno')\n",
        "plt.figure(figsize=(14,5))\n",
        "\n",
        "for g in genres:\n",
        "  filename = sample(os.listdir(f'/content/gdrive/My Drive/Discothèque Mbaye/{g}'),1)[0]\n",
        "  songname = f'/content/gdrive/My Drive/Discothèque Mbaye/{g}/{filename}'\n",
        "\n",
        "  x, srx = librosa.load(songname, mono=True)\n",
        "  y, sr = librosa.load(songname, mono=True,offset=librosa.get_duration(x)/2, duration=duree)\n",
        "\n",
        "  librosa.display.waveplot(y, sr=sr,offset=librosa.get_duration(x)/2);\n",
        "  plt.savefig(f'img_data/wave_{g}.png')\n",
        "  plt.clf()\n",
        "\n",
        "  plt.specgram(y, NFFT=2048, Fs=2, Fc=0, noverlap=128, cmap=cmap, sides='default', mode='default', scale='dB');\n",
        "  plt.savefig(f'img_data/spect_{g}.png')\n",
        "  plt.clf()"
      ],
      "execution_count": 0,
      "outputs": []
    },
    {
      "cell_type": "markdown",
      "metadata": {
        "id": "t8sqJoeaacyi",
        "colab_type": "text"
      },
      "source": [
        "Working on features from spectogram (stored in a csv file)"
      ]
    },
    {
      "cell_type": "code",
      "metadata": {
        "id": "8E-B89vt7LlK",
        "colab_type": "code",
        "colab": {}
      },
      "source": [
        "# # Read the songs, extract the features and write the data in a csv file\n",
        "# Skip this cell if data are already stored in a csv file\n",
        "\n",
        "# Header for our CSV file\n",
        "\n",
        "header = 'filename chroma_stft rmse spectral_centroid spectral_bandwidth rolloff zero_crossing_rate'\n",
        "for i in range(1, 21):\n",
        "    header += f' mfcc{i}'\n",
        "header += ' label'\n",
        "header = header.split()\n",
        "\n",
        "# Extracting features from Spectrogram: Mel-frequency cepstral coefficients (MFCC), Spectral Centroid, Zero Crossing Rate, Chroma Frequencies, and Spectral Roll-off\n",
        "\n",
        "file = open('dataset_'+str(duree)+'s.csv', 'w', newline='') # 'a' for openning an existing file for writing\n",
        "with file:\n",
        "    writer = csv.writer(file,delimiter=';')\n",
        "    writer.writerow(header)\n",
        "\n",
        "for g in genres:\n",
        "  NbFiles = len(os.listdir(f'/content/gdrive/My Drive/Discothèque Mbaye/{g}'))\n",
        "  i = 1\n",
        "  while (i <= min(MaxNbFiles,NbFiles)):\n",
        "    filename = os.listdir(f'/content/gdrive/My Drive/Discothèque Mbaye/{g}')[i-1]\n",
        "    songname = f'/content/gdrive/My Drive/Discothèque Mbaye/{g}/{filename}'\n",
        "    x, srx = librosa.load(songname, mono=True)\n",
        "    y, sr = librosa.load(songname, mono=True,offset=librosa.get_duration(x)/2, duration=duree)\n",
        "    rmse = librosa.feature.rmse(y=y)\n",
        "    chroma_stft = librosa.feature.chroma_stft(y=y, sr=sr)\n",
        "    spec_cent = librosa.feature.spectral_centroid(y=y, sr=sr)\n",
        "    spec_bw = librosa.feature.spectral_bandwidth(y=y, sr=sr)\n",
        "    rolloff = librosa.feature.spectral_rolloff(y=y, sr=sr)\n",
        "    zcr = librosa.feature.zero_crossing_rate(y)\n",
        "    mfcc = librosa.feature.mfcc(y=y, sr=sr)\n",
        "    filename = 'song' + str(i)\n",
        "    to_append = f'{filename} {np.mean(chroma_stft)} {np.mean(rmse)} {np.mean(spec_cent)} {np.mean(spec_bw)} {np.mean(rolloff)} {np.mean(zcr)}'    \n",
        "    for e in mfcc:\n",
        "      to_append += f' {np.mean(e)}'\n",
        "    to_append += f' {g}'\n",
        "    file = open('dataset_'+str(duree)+'s.csv', 'a', newline='')\n",
        "    with file:\n",
        "      writer = csv.writer(file,delimiter=';')\n",
        "      writer.writerow(to_append.split())\n",
        "    i=i+1"
      ],
      "execution_count": 0,
      "outputs": []
    },
    {
      "cell_type": "code",
      "metadata": {
        "id": "Fi8Z86coKZc_",
        "colab_type": "code",
        "colab": {}
      },
      "source": [
        "# Reading the csv file\n",
        "\n",
        "data = pd.read_csv('/content/dataset_15s.csv', sep=';')\n",
        "data.head()# Dropping unneccesary columns\n",
        "data = data.drop(['filename'],axis=1)\n",
        "\n",
        "# Converting to numeric type\n",
        "numeric = list(data.columns)\n",
        "del numeric[-1]\n",
        "data[numeric] = data[numeric].apply(pd.to_numeric, errors='coerce')\n",
        "\n",
        "#data['label'].unique() # checking we have all the genres\n",
        "\n",
        "# Encoding the Labels\n",
        "genre_list = data.iloc[:, -1]\n",
        "encoder = LabelEncoder()\n",
        "y = encoder.fit_transform(genre_list)#Scaling the Feature columns\n",
        "scaler = StandardScaler()\n",
        "X = scaler.fit_transform(np.array(data.iloc[:, :-1], dtype = float))\n",
        "\n",
        "# Dividing data into training and Testing set\n",
        "X_train, X_test, y_train, y_test = train_test_split(X, y, random_state = 0,test_size=0.3)\n",
        "\n",
        "print(X_train.shape); print(X_test.shape)"
      ],
      "execution_count": 0,
      "outputs": []
    },
    {
      "cell_type": "code",
      "metadata": {
        "id": "8JKpUF0aIWSx",
        "colab_type": "code",
        "colab": {}
      },
      "source": [
        "# Table for poster\n",
        "\n",
        "train = pd.crosstab(index=encoder.inverse_transform(y_train), columns=\"number\", margins=True, margins_name = 'Total')\n",
        "test = pd.crosstab(index=encoder.inverse_transform(y_test), columns=\"number\", margins=True, margins_name = 'Total')\n",
        "pd.DataFrame({'train': train['number'], 'test': test['number']});"
      ],
      "execution_count": 0,
      "outputs": []
    },
    {
      "cell_type": "markdown",
      "metadata": {
        "id": "TnpsmFwSaOFL",
        "colab_type": "text"
      },
      "source": [
        "Multi-Layer Perceptron Classifier"
      ]
    },
    {
      "cell_type": "code",
      "metadata": {
        "id": "qHGQIdR6LtSV",
        "colab_type": "code",
        "colab": {}
      },
      "source": [
        "# From https://www.pluralsight.com/guides/machine-learning-neural-networks-scikit-learn\n",
        "\n",
        "mlp = MLPClassifier(hidden_layer_sizes=(8,8,8), activation='relu', solver='adam', max_iter=500)\n",
        "y_pred = mlp.fit(X_train,y_train).predict(X_test)\n",
        "\n",
        "MLPreport = classification_report(y_pred,y_test,output_dict=True)\n",
        "MLPprecision = pd.DataFrame(MLPreport).transpose().precision[0:4]\n",
        "MLPrecall = pd.DataFrame(MLPreport).transpose().recall[0:4]\n",
        "\n",
        "position = classification_report(y_pred,y_test).replace(\" \", \"\").find('accuracy');\n",
        "MLPperf = float(classification_report(y_pred,y_test).replace(\" \", \"\")[(position+8):(position+12)]); "
      ],
      "execution_count": 0,
      "outputs": []
    },
    {
      "cell_type": "markdown",
      "metadata": {
        "id": "EiwMTtORapGE",
        "colab_type": "text"
      },
      "source": [
        "Artificial Neural Networks"
      ]
    },
    {
      "cell_type": "code",
      "metadata": {
        "id": "trbF5wv2i1mb",
        "colab_type": "code",
        "colab": {}
      },
      "source": [
        "ANN = Sequential();\n",
        "ANN.add(layers.Dense(256, activation='relu', input_shape=(X_train.shape[1],)));\n",
        "ANN.add(layers.Dense(128, activation='relu'));\n",
        "ANN.add(layers.Dense(64, activation='relu'));\n",
        "ANN.add(layers.Dense(10, activation='softmax'));\n",
        "ANN.compile(optimizer='adam',\n",
        "              loss='sparse_categorical_crossentropy',\n",
        "              metrics=['accuracy']);\n",
        "\n",
        "ANN.fit(X_train,y_train,epochs=100,batch_size=128);\n",
        "\n",
        "y_pred = ANN.predict_classes(X_test);\n",
        "\n",
        "ANNreport = classification_report(y_pred,y_test,output_dict=True)\n",
        "ANNprecision = pd.DataFrame(ANNreport).transpose().precision[0:4]\n",
        "ANNrecall = pd.DataFrame(ANNreport).transpose().recall[0:4]\n",
        "\n",
        "position = classification_report(y_pred,y_test).replace(\" \", \"\").find('accuracy');\n",
        "ANNperf = float(classification_report(y_pred,y_test).replace(\" \", \"\")[(position+8):(position+12)]);"
      ],
      "execution_count": 0,
      "outputs": []
    },
    {
      "cell_type": "markdown",
      "metadata": {
        "id": "D2uDFaRiawzR",
        "colab_type": "text"
      },
      "source": [
        "Multinomial regression"
      ]
    },
    {
      "cell_type": "code",
      "metadata": {
        "id": "-HZOpcDlMF3c",
        "colab_type": "code",
        "colab": {}
      },
      "source": [
        "multi = LogisticRegression(random_state=0).fit(X_train, y_train)\n",
        "y_pred = multi.predict(X_test)\n",
        "\n",
        "MNRreport = classification_report(y_pred,y_test,output_dict=True)\n",
        "MNRprecision = pd.DataFrame(MNRreport).transpose().precision[0:4]\n",
        "MNRrecall = pd.DataFrame(MNRreport).transpose().recall[0:4]\n",
        "\n",
        "position = classification_report(y_pred,y_test).replace(\" \", \"\").find('accuracy');\n",
        "MNRperf = float(classification_report(y_pred,y_test).replace(\" \", \"\")[(position+8):(position+12)]);"
      ],
      "execution_count": 0,
      "outputs": []
    },
    {
      "cell_type": "markdown",
      "metadata": {
        "id": "wcRIffXta7cX",
        "colab_type": "text"
      },
      "source": [
        "K-Nearest Neighbors"
      ]
    },
    {
      "cell_type": "code",
      "metadata": {
        "id": "kqpaCpNvXm2B",
        "colab_type": "code",
        "colab": {}
      },
      "source": [
        "# https://scikit-learn.org/stable/modules/neighbors.html#classification\n",
        "# https://scikit-learn.org/stable/auto_examples/neighbors/plot_classification.html#sphx-glr-auto-examples-neighbors-plot-classification-py\n",
        "\n",
        "n_neighbors = 15\n",
        "nghbs = neighbors.KNeighborsClassifier(n_neighbors).fit(X_train, y_train)\n",
        "y_pred = nghbs.predict(X_test)\n",
        "\n",
        "KNNreport = classification_report(y_pred,y_test,output_dict=True)\n",
        "KNNprecision = pd.DataFrame(KNNreport).transpose().precision[0:4]\n",
        "KNNrecall = pd.DataFrame(KNNreport).transpose().recall[0:4]\n",
        "\n",
        "position = classification_report(y_pred,y_test).replace(\" \", \"\").find('accuracy');\n",
        "KNNperf = float(classification_report(y_pred,y_test).replace(\" \", \"\")[(position+8):(position+12)]);"
      ],
      "execution_count": 0,
      "outputs": []
    },
    {
      "cell_type": "markdown",
      "metadata": {
        "id": "1PN5VKgqbLoG",
        "colab_type": "text"
      },
      "source": [
        "Support Vector Machines"
      ]
    },
    {
      "cell_type": "code",
      "metadata": {
        "id": "_Ud7SS7pXw8p",
        "colab_type": "code",
        "colab": {}
      },
      "source": [
        "SVM_model = svm.SVC()#(kernel='linear')\n",
        "SVM_model.fit(X_train,y_train)\n",
        "y_pred = SVM_model.predict(X_test)\n",
        "\n",
        "SVMreport = classification_report(y_pred,y_test,output_dict=True)\n",
        "SVMprecision = pd.DataFrame(SVMreport).transpose().precision[0:4]\n",
        "SVMrecall = pd.DataFrame(SVMreport).transpose().recall[0:4]\n",
        "\n",
        "position = classification_report(y_pred,y_test).replace(\" \", \"\").find('accuracy');\n",
        "SVMperf = float(classification_report(y_pred,y_test).replace(\" \", \"\")[(position+8):(position+12)]);"
      ],
      "execution_count": 0,
      "outputs": []
    },
    {
      "cell_type": "markdown",
      "metadata": {
        "id": "PuN2GDEXbTTv",
        "colab_type": "text"
      },
      "source": [
        "Random Forests"
      ]
    },
    {
      "cell_type": "code",
      "metadata": {
        "id": "vSvRbbCFXyte",
        "colab_type": "code",
        "colab": {}
      },
      "source": [
        "ForAlea = RandomForestClassifier(max_depth=5, random_state=0)\n",
        "y_pred = ForAlea.fit(X_train, y_train).predict(X_test)\n",
        "\n",
        "RFreport = classification_report(y_pred,y_test,output_dict=True)\n",
        "RFprecision = pd.DataFrame(RFreport).transpose().precision[0:4]\n",
        "RFrecall = pd.DataFrame(RFreport).transpose().recall[0:4]\n",
        "\n",
        "position = classification_report(y_pred,y_test).replace(\" \", \"\").find('accuracy');\n",
        "RFperf = float(classification_report(y_pred,y_test).replace(\" \", \"\")[(position+8):(position+12)]);"
      ],
      "execution_count": 0,
      "outputs": []
    },
    {
      "cell_type": "markdown",
      "metadata": {
        "id": "3Kd399XPbXrp",
        "colab_type": "text"
      },
      "source": [
        "Naive Bayes"
      ]
    },
    {
      "cell_type": "code",
      "metadata": {
        "id": "b0ODWNxPX0uX",
        "colab_type": "code",
        "colab": {}
      },
      "source": [
        "gnb = GaussianNB()\n",
        "y_pred = gnb.fit(X_train, y_train).predict(X_test)\n",
        "\n",
        "NBreport = classification_report(y_pred,y_test,output_dict=True)\n",
        "NBprecision = pd.DataFrame(NBreport).transpose().precision[0:4]\n",
        "NBrecall = pd.DataFrame(NBreport).transpose().recall[0:4]\n",
        "\n",
        "position = classification_report(y_pred,y_test).replace(\" \", \"\").find('accuracy');\n",
        "NBperf = float(classification_report(y_pred,y_test).replace(\" \", \"\")[(position+8):(position+12)]); "
      ],
      "execution_count": 0,
      "outputs": []
    },
    {
      "cell_type": "markdown",
      "metadata": {
        "id": "Nbd8IaisbbZI",
        "colab_type": "text"
      },
      "source": [
        "Linear Discriminant Analysis"
      ]
    },
    {
      "cell_type": "code",
      "metadata": {
        "id": "SM5TDvJsX3Sg",
        "colab_type": "code",
        "colab": {}
      },
      "source": [
        "LinDis = LinearDiscriminantAnalysis()\n",
        "y_pred = LinDis.fit(X_train, y_train).predict(X_test)\n",
        "\n",
        "LDAreport = classification_report(y_pred,y_test,output_dict=True)\n",
        "LDAprecision = pd.DataFrame(LDAreport).transpose().precision[0:4]\n",
        "LDArecall = pd.DataFrame(LDAreport).transpose().recall[0:4]\n",
        "\n",
        "position = classification_report(y_pred,y_test).replace(\" \", \"\").find('accuracy');\n",
        "LDAperf = float(classification_report(y_pred,y_test).replace(\" \", \"\")[(position+8):(position+12)]);"
      ],
      "execution_count": 0,
      "outputs": []
    },
    {
      "cell_type": "markdown",
      "metadata": {
        "id": "ErUCrzoebkkY",
        "colab_type": "text"
      },
      "source": [
        "Convolutional Neural Networks"
      ]
    },
    {
      "cell_type": "code",
      "metadata": {
        "id": "7oyk3h1Xr4S6",
        "colab_type": "code",
        "colab": {}
      },
      "source": [
        "# https://levelup.gitconnected.com/audio-data-analysis-using-deep-learning-with-python-part-2-4a1f40d3708d\n",
        "# https://missinglink.ai/guides/convolutional-neural-networks/python-convolutional-neural-network-creating-cnn-keras-tensorflow-plain-python/\n",
        "\n",
        "# Extracting spectograms\n",
        "\n",
        "cmap = plt.get_cmap('inferno')\n",
        "plt.figure(figsize=(8,8))\n",
        "\n",
        "for g in genres:\n",
        "    pathlib.Path(f'img_data/{g}').mkdir(parents=True, exist_ok=True)\n",
        "    NbFiles = len(os.listdir(f'/content/gdrive/My Drive/Discothèque Mbaye/{g}'))\n",
        "    i=1\n",
        "    while (i <= min(MaxNbFiles,NbFiles)):\n",
        "        filename = os.listdir(f'/content/gdrive/My Drive/Discothèque Mbaye/{g}')[i-1]\n",
        "        songname = f'/content/gdrive/My Drive/Discothèque Mbaye/{g}/{filename}'\n",
        "        x, srx = librosa.load(songname, mono=True)\n",
        "        y, sr = librosa.load(songname, mono=True,offset=librosa.get_duration(x)/2, duration=duree)\n",
        "        plt.specgram(y, NFFT=2048, Fs=2, Fc=0, noverlap=128, cmap=cmap, sides='default', mode='default', scale='dB');\n",
        "        plt.axis('off');\n",
        "        filename = 'chanson' + str(i)\n",
        "        plt.savefig(f'img_data/{g}/{filename}.png')\n",
        "        plt.clf()\n",
        "        i=i+1"
      ],
      "execution_count": 0,
      "outputs": []
    },
    {
      "cell_type": "code",
      "metadata": {
        "id": "yZ9rax7xswk5",
        "colab_type": "code",
        "colab": {}
      },
      "source": [
        "# Split the data into the train set and test set\n",
        "\n",
        "split_folders.ratio('/content/img_data', output=\"/content/data\", seed=0, ratio=(.7, .3))"
      ],
      "execution_count": 0,
      "outputs": []
    },
    {
      "cell_type": "code",
      "metadata": {
        "id": "KXPBTci90eI9",
        "colab_type": "code",
        "colab": {}
      },
      "source": [
        "train_datagen = ImageDataGenerator(rescale=1./255)\n",
        "        #rescale=1./255, # rescale all pixel values from 0-255, so after this step all our pixel values are in range (0,1)\n",
        "        #shear_range=0.2, #to apply some random transformations\n",
        "        #zoom_range=0.2, #to apply zoom\n",
        "        #horizontal_flip=True) # image will be flipped horizontally\n",
        "\n",
        "test_datagen = ImageDataGenerator(rescale=1./255) #rescale=1./255\n",
        "\n",
        "training_set = train_datagen.flow_from_directory(\n",
        "        '/content/data/train',\n",
        "        target_size=(64, 64),\n",
        "        batch_size=25,\n",
        "        classes = genres,\n",
        "        class_mode='categorical',\n",
        "        shuffle = False)\n",
        "\n",
        "test_set = test_datagen.flow_from_directory(\n",
        "        '/content/data/val',\n",
        "        target_size=(64, 64),\n",
        "        batch_size=25,\n",
        "        classes = genres,\n",
        "        class_mode='categorical',\n",
        "        shuffle = False )"
      ],
      "execution_count": 0,
      "outputs": []
    },
    {
      "cell_type": "code",
      "metadata": {
        "id": "6NUJ_j8GXE1Y",
        "colab_type": "code",
        "colab": {}
      },
      "source": [
        "# Table for poster\n",
        "\n",
        "train = pd.crosstab(index=encoder.inverse_transform(training_set.classes), columns=\"number\", margins=True, margins_name = 'Total')\n",
        "test = pd.crosstab(index=encoder.inverse_transform(test_set.classes), columns=\"number\", margins=True, margins_name = 'Total')\n",
        "pd.DataFrame({'train': train['number'], 'test': test['number']})"
      ],
      "execution_count": 0,
      "outputs": []
    },
    {
      "cell_type": "code",
      "metadata": {
        "id": "kSx0zueksMPu",
        "colab_type": "code",
        "colab": {}
      },
      "source": [
        "model = Sequential()\n",
        "input_shape=(64, 64, 3)\n",
        "\n",
        "#1st hidden layer\n",
        "model.add(Conv2D(64, (3, 3), strides=(2, 2), input_shape=input_shape))\n",
        "model.add(AveragePooling2D((2, 2), strides=(2,2)))\n",
        "model.add(Activation('relu'))\n",
        "\n",
        "#2nd hidden layer\n",
        "model.add(Conv2D(64, (3, 3), padding=\"same\"))\n",
        "model.add(AveragePooling2D((2, 2), strides=(2,2)))\n",
        "model.add(Activation('relu'))\n",
        "\n",
        "#3rd hidden layer\n",
        "model.add(Conv2D(64, (3, 3), padding=\"same\"))\n",
        "model.add(AveragePooling2D((2, 2), strides=(2,2)))\n",
        "model.add(Activation('relu'))\n",
        "\n",
        "#Flatten\n",
        "model.add(Flatten())\n",
        "model.add(Dropout(rate=0.5))\n",
        "\n",
        "#Add fully connected layer.\n",
        "model.add(Dense(64))\n",
        "model.add(Activation('relu'))\n",
        "model.add(Dropout(rate=0.5))\n",
        "\n",
        "#Output layer\n",
        "model.add(Dense(4))\n",
        "model.add(Activation('softmax'))\n",
        "#model.summary()\n",
        "\n",
        "#epochs = 10\n",
        "#batch_size = 25\n",
        "#learning_rate = 0.0001\n",
        "#decay_rate = learning_rate / epochs\n",
        "#momentum = 0.9\n",
        "#sgd = SGD(lr=learning_rate\n",
        "          #, momentum=momentum, decay=decay_rate, nesterov=False\n",
        "#          )\n",
        "model.compile(optimizer=\"sgd\", loss=\"categorical_crossentropy\", metrics=['accuracy']);\n",
        "\n",
        "#history = model.fit_generator(training_set,  #steps_per_epoch=5, epochs=200 #,validation_data=test_set,validation_steps=25    );\n",
        "\n",
        "model.fit_generator(training_set, epochs=100);\n",
        "\n",
        "# patient early stopping\n",
        "es = EarlyStopping(monitor='val_loss', mode='min', verbose=1, patience=200)\n",
        "\n",
        "# evaluate the model\n",
        "#_, train_acc = model.evaluate(training_set, verbose=0)\n",
        "#_, test_acc = model.evaluate(test_set, verbose=0)\n",
        "#print('Train: %.3f, Test: %.3f' % (train_acc, test_acc))\n",
        "\n",
        "#plt.figure(figsize=(14,5))\n",
        "# plot training history\n",
        "#plt.plot(history.history['loss'], label='train')\n",
        "#plt.plot(history.history['val_loss'], label='test')\n",
        "#plt.legend()\n",
        "#plt.show()"
      ],
      "execution_count": 0,
      "outputs": []
    },
    {
      "cell_type": "code",
      "metadata": {
        "id": "wVbChGF4Ngpg",
        "colab_type": "code",
        "colab": {}
      },
      "source": [
        "test_set.reset()\n",
        "y_pred = model.predict_generator(test_set)\n",
        "\n",
        "predicted_class_indices=np.argmax(y_pred,axis=1)\n",
        "#print(classification_report(test_set.classes,predicted_class_indices))\n",
        "\n",
        "position = classification_report(test_set.classes,predicted_class_indices).replace(\" \", \"\").find('accuracy')\n",
        "CNNperf = float(classification_report(test_set.classes,predicted_class_indices).replace(\" \", \"\")[(position+8):(position+12)]);\n",
        "\n",
        "CNNreport = classification_report(test_set.classes,predicted_class_indices,output_dict=True)\n",
        "CNNprecision = pd.DataFrame(CNNreport).transpose().precision[0:4]\n",
        "CNNrecall = pd.DataFrame(CNNreport).transpose().recall[0:4]"
      ],
      "execution_count": 0,
      "outputs": []
    },
    {
      "cell_type": "markdown",
      "metadata": {
        "id": "wpiBWfC9bVNp",
        "colab_type": "text"
      },
      "source": [
        "Recapitulating performances"
      ]
    },
    {
      "cell_type": "code",
      "metadata": {
        "id": "7YpPvXlVXm5g",
        "colab_type": "code",
        "colab": {}
      },
      "source": [
        "performances = pd.DataFrame({'accuracy':[MLPperf, ANNperf, MNRperf, KNNperf,SVMperf, RFperf, NBperf, LDAperf]},#,CNNperf\n",
        "                            index=['MLP','ANN','MNR','KNN','SVM','RF','NB','LDA'])#,'CNN'\n",
        "#print(performances);"
      ],
      "execution_count": 0,
      "outputs": []
    },
    {
      "cell_type": "code",
      "metadata": {
        "id": "OEbbqhlxdALd",
        "colab_type": "code",
        "colab": {}
      },
      "source": [
        "# Arrow for overall performances\n",
        "\n",
        "# Help with annotations: https://www.oreilly.com/library/view/python-data-science/9781491912126/ch04.html\n",
        "\n",
        "plt.figure(figsize=(14,5))\n",
        "plt.arrow(0.15, 0.5, 0.75, 0, head_width=0.05, head_length=0.03, linewidth=4, color='g', length_includes_head=True,overhang=-0.25)\n",
        "#plt.text(0.5,0.7,'ANN',withdash=True,\n",
        "         #dashdirection=1,\n",
        "         #dashlength=50,\n",
        "           #dashpad=5,\n",
        "           #rotation=0,\n",
        "         # dashpush=10\n",
        "         #)\n",
        "for m in ['MLP','ANN','MNR','KNN','SVM']:\n",
        "  plt.annotate(m, xy=(performances.accuracy[m], 0.5),xytext=(performances.accuracy[m], 0.8),\n",
        "                   arrowprops=dict(arrowstyle=\"->\",connectionstyle=\"angle3,angleA=50,angleB=-75\"));\n",
        "\n",
        "for m in ['RF','NB','LDA']:#m = 'MLP'\n",
        "  plt.annotate(m, xy=(performances.accuracy[m], 0.5),xytext=(performances.accuracy[m], 0.2),\n",
        "                   arrowprops=dict(arrowstyle=\"->\",connectionstyle=\"angle3,angleA=50,angleB=-75\"));"
      ],
      "execution_count": 0,
      "outputs": []
    },
    {
      "cell_type": "code",
      "metadata": {
        "id": "emqSCCGKtj2P",
        "colab_type": "code",
        "colab": {}
      },
      "source": [
        "precision = [] # Accuracy of positive predictions: Precision = TP/(TP + FP)\n",
        "recall = [] # Fraction of positives that were correctly identified: Recall = TP/(TP+FN)\n",
        "method = []\n",
        "audio_genre = []\n",
        "\n",
        "for m in ['MLP','ANN','MNR','KNN','SVM','RF','NB','LDA','CNN']:\n",
        "  for i in range(4):\n",
        "    precision.append(eval(m+'precision[i]'))\n",
        "    recall.append(eval(m+'recall[i]'))\n",
        "    audio_genre.append(encoder.inverse_transform([i])[0])\n",
        "    method.append(m)\n",
        "\n",
        "recap = pd.DataFrame({'genre':audio_genre,'precision':precision,'recall':recall,'method':method})"
      ],
      "execution_count": 0,
      "outputs": []
    },
    {
      "cell_type": "markdown",
      "metadata": {
        "id": "KtGPwbB2b-Tr",
        "colab_type": "text"
      },
      "source": [
        "Spider chart"
      ]
    },
    {
      "cell_type": "code",
      "metadata": {
        "id": "TTK9tyBshb6U",
        "colab_type": "code",
        "colab": {}
      },
      "source": [
        "# Help: https://plotly.com/python/radar-chart/\n",
        "\n",
        "import plotly.express as px\n",
        "\n",
        "fig = px.line_polar(recap, r=\"precision\", theta=\"genre\", color=\"method\", line_close=True,\n",
        "                    color_discrete_sequence=px.colors.sequential.Plasma_r)\n",
        "fig.show()"
      ],
      "execution_count": 0,
      "outputs": []
    },
    {
      "cell_type": "code",
      "metadata": {
        "id": "-ODI8ZZ3n__u",
        "colab_type": "code",
        "colab": {}
      },
      "source": [
        "fig = px.line_polar(recap, r=\"recall\", theta=\"genre\",  line_close=True, color=\"method\",\n",
        "                    color_discrete_sequence=px.colors.sequential.Plasma_r)\n",
        "fig.show()"
      ],
      "execution_count": 0,
      "outputs": []
    }
  ]
}