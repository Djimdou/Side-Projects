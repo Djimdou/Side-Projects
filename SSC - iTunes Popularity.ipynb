{
 "cells": [
  {
   "cell_type": "code",
   "execution_count": 1,
   "metadata": {},
   "outputs": [],
   "source": [
    "# Packages\n",
    "\n",
    "import pandas as pd\n",
    "import csv"
   ]
  },
  {
   "cell_type": "code",
   "execution_count": 2,
   "metadata": {},
   "outputs": [],
   "source": [
    "# Importing data sets\n",
    "\n",
    "data_test = pd.read_csv('C:/Users/djimd/OneDrive/Documents/SSC/podcast_data_unlabelled_test.csv', delimiter=',')\n",
    "data_train = pd.read_csv('C:/Users/djimd/OneDrive/Documents/SSC/podcast_data.csv', delimiter=',')"
   ]
  },
  {
   "cell_type": "code",
   "execution_count": 4,
   "metadata": {},
   "outputs": [
    {
     "data": {
      "text/plain": [
       "((462885, 9), (1408901, 10))"
      ]
     },
     "execution_count": 4,
     "metadata": {},
     "output_type": "execute_result"
    }
   ],
   "source": [
    "data_test.shape,data_train.shape"
   ]
  },
  {
   "cell_type": "code",
   "execution_count": 6,
   "metadata": {},
   "outputs": [
    {
     "data": {
      "text/plain": [
       "Index(['title', 'summary', 'subcategory', 'artist', 'date', 'hour', 'release',\n",
       "       'rating_value', 'number_of_reviews', 'url'],\n",
       "      dtype='object')"
      ]
     },
     "execution_count": 6,
     "metadata": {},
     "output_type": "execute_result"
    }
   ],
   "source": [
    "data_train.columns"
   ]
  },
  {
   "cell_type": "code",
   "execution_count": 7,
   "metadata": {},
   "outputs": [
    {
     "data": {
      "text/plain": [
       "Index(['title', 'summary', 'subcategory', 'artist', 'date', 'hour', 'release',\n",
       "       'rating_value', 'url'],\n",
       "      dtype='object')"
      ]
     },
     "execution_count": 7,
     "metadata": {},
     "output_type": "execute_result"
    }
   ],
   "source": [
    "data_test.columns"
   ]
  },
  {
   "cell_type": "code",
   "execution_count": 13,
   "metadata": {},
   "outputs": [
    {
     "data": {
      "text/plain": [
       "pandas.core.frame.DataFrame"
      ]
     },
     "execution_count": 13,
     "metadata": {},
     "output_type": "execute_result"
    }
   ],
   "source": [
    "type(data_train)"
   ]
  },
  {
   "cell_type": "code",
   "execution_count": 21,
   "metadata": {},
   "outputs": [
    {
     "data": {
      "text/plain": [
       "count        1408901\n",
       "unique            85\n",
       "top       Technology\n",
       "freq          144228\n",
       "Name: subcategory, dtype: object"
      ]
     },
     "execution_count": 21,
     "metadata": {},
     "output_type": "execute_result"
    }
   ],
   "source": [
    "data_train.subcategory.describe()"
   ]
  },
  {
   "cell_type": "code",
   "execution_count": 37,
   "metadata": {},
   "outputs": [
    {
     "data": {
      "text/plain": [
       "array(['Music', 'Comedy', 'Music Interviews', 'Music History',\n",
       "       'Education for Kids', 'Design', 'Personal Journals',\n",
       "       'Fashion & Beauty', 'Food', 'Visual Arts', 'Arts', 'Documentary',\n",
       "       'Technology', 'Tech News', 'Courses', 'Language Learning',\n",
       "       'Self-Improvement', 'Education', 'How To', 'Society & Culture',\n",
       "       'Relationships', 'Christianity', 'Religion & Spirituality',\n",
       "       'Spirituality', 'Judaism', 'Philosophy', 'Places & Travel',\n",
       "       'Religion', 'Buddhism', 'Books', 'Performing Arts', 'Investing',\n",
       "       'Entrepreneurship', 'Business', 'Careers', 'Hinduism', 'Marketing',\n",
       "       'Management', 'True Crime', 'Sports', 'Politics', 'Life Sciences',\n",
       "       'News', 'Drama', 'Mental Health', 'Daily News', 'Health & Fitness',\n",
       "       'History', 'Fantasy Sports', 'Kids & Family', 'Pets & Animals',\n",
       "       'Parenting', 'Comedy Interviews', 'Science', 'News Commentary',\n",
       "       'Science Fiction', 'Wilderness', 'TV & Film', 'Stories for Kids',\n",
       "       'Improv', 'Social Sciences', 'Fiction', 'Film Reviews',\n",
       "       'After Shows', 'Film History', 'TV Reviews', 'Film Interviews',\n",
       "       'Wrestling', 'Natural Sciences', 'Basketball', 'Music Commentary',\n",
       "       'Sports News', 'Islam', 'Nutrition', 'Automotive', 'Home & Garden',\n",
       "       'Nature', 'Stand-Up', 'Medicine', 'Non-Profit', 'Podcasts',\n",
       "       'Comedy Fiction', 'Alternative Health', 'Leisure', 'Astronomy'],\n",
       "      dtype=object)"
      ]
     },
     "execution_count": 37,
     "metadata": {},
     "output_type": "execute_result"
    }
   ],
   "source": [
    "data_train.subcategory.unique()"
   ]
  },
  {
   "cell_type": "code",
   "execution_count": 22,
   "metadata": {},
   "outputs": [
    {
     "data": {
      "text/plain": [
       "count         462885\n",
       "unique            79\n",
       "top       Technology\n",
       "freq           45481\n",
       "Name: subcategory, dtype: object"
      ]
     },
     "execution_count": 22,
     "metadata": {},
     "output_type": "execute_result"
    }
   ],
   "source": [
    "data_test.subcategory.describe()"
   ]
  },
  {
   "cell_type": "code",
   "execution_count": 25,
   "metadata": {},
   "outputs": [
    {
     "data": {
      "text/plain": [
       "array(['TV & Film', 'History', 'Entrepreneurship', 'Language Learning',\n",
       "       'Self-Improvement', 'Society & Culture', 'Business', 'Food',\n",
       "       'Investing', 'Arts', 'Books', 'Christianity', 'Improv',\n",
       "       'Performing Arts', 'Visual Arts', 'Education', 'Design',\n",
       "       'Fashion & Beauty', 'Careers', 'Management', 'Marketing',\n",
       "       'Documentary', 'Personal Journals', 'Philosophy',\n",
       "       'Places & Travel', 'Relationships', 'Technology', 'Spirituality',\n",
       "       'Judaism', 'Religion & Spirituality', 'Courses', 'How To',\n",
       "       'Buddhism', 'Religion', 'Islam', 'Kids & Family',\n",
       "       'Education for Kids', 'Stories for Kids', 'Parenting',\n",
       "       'Pets & Animals', 'Music Commentary', 'Music', 'Music Interviews',\n",
       "       'Hinduism', 'Music History', 'Comedy Interviews', 'Comedy',\n",
       "       'Stand-Up', 'Basketball', 'Business News', 'Football',\n",
       "       'True Crime', 'News', 'Health & Fitness', 'Sports', 'Nutrition',\n",
       "       'Medicine', 'Politics', 'Science', 'Wilderness',\n",
       "       'Entertainment News', 'Natural Sciences', 'Drama',\n",
       "       'News Commentary', 'Life Sciences', 'Mental Health', 'Daily News',\n",
       "       'Social Sciences', 'After Shows', 'Film Reviews', 'TV Reviews',\n",
       "       'Film Interviews', 'Film History', 'Science Fiction', 'Fiction',\n",
       "       'Astronomy', 'Sports News', 'Automotive', 'Alternative Health'],\n",
       "      dtype=object)"
      ]
     },
     "execution_count": 25,
     "metadata": {},
     "output_type": "execute_result"
    }
   ],
   "source": [
    "data_test.subcategory.unique()"
   ]
  },
  {
   "cell_type": "code",
   "execution_count": 26,
   "metadata": {},
   "outputs": [
    {
     "name": "stdout",
     "output_type": "stream",
     "text": [
      "Business News\n",
      "Football\n",
      "Entertainment News\n"
     ]
    }
   ],
   "source": [
    "# subcategories of the test (unlabelled) that do not appear in the training data set\n",
    "\n",
    "for i in data_test.subcategory.unique():\n",
    "    if not(i in data_train.subcategory.unique()):\n",
    "        print(i)"
   ]
  },
  {
   "cell_type": "code",
   "execution_count": 38,
   "metadata": {},
   "outputs": [
    {
     "data": {
      "text/html": [
       "<div>\n",
       "<style scoped>\n",
       "    .dataframe tbody tr th:only-of-type {\n",
       "        vertical-align: middle;\n",
       "    }\n",
       "\n",
       "    .dataframe tbody tr th {\n",
       "        vertical-align: top;\n",
       "    }\n",
       "\n",
       "    .dataframe thead th {\n",
       "        text-align: right;\n",
       "    }\n",
       "</style>\n",
       "<table border=\"1\" class=\"dataframe\">\n",
       "  <thead>\n",
       "    <tr style=\"text-align: right;\">\n",
       "      <th></th>\n",
       "      <th>subcategory</th>\n",
       "    </tr>\n",
       "  </thead>\n",
       "  <tbody>\n",
       "    <tr>\n",
       "      <th>63</th>\n",
       "      <td>After Shows</td>\n",
       "    </tr>\n",
       "    <tr>\n",
       "      <th>82</th>\n",
       "      <td>Alternative Health</td>\n",
       "    </tr>\n",
       "    <tr>\n",
       "      <th>10</th>\n",
       "      <td>Arts</td>\n",
       "    </tr>\n",
       "    <tr>\n",
       "      <th>84</th>\n",
       "      <td>Astronomy</td>\n",
       "    </tr>\n",
       "    <tr>\n",
       "      <th>74</th>\n",
       "      <td>Automotive</td>\n",
       "    </tr>\n",
       "    <tr>\n",
       "      <th>69</th>\n",
       "      <td>Basketball</td>\n",
       "    </tr>\n",
       "    <tr>\n",
       "      <th>29</th>\n",
       "      <td>Books</td>\n",
       "    </tr>\n",
       "    <tr>\n",
       "      <th>28</th>\n",
       "      <td>Buddhism</td>\n",
       "    </tr>\n",
       "    <tr>\n",
       "      <th>33</th>\n",
       "      <td>Business</td>\n",
       "    </tr>\n",
       "    <tr>\n",
       "      <th>34</th>\n",
       "      <td>Careers</td>\n",
       "    </tr>\n",
       "    <tr>\n",
       "      <th>21</th>\n",
       "      <td>Christianity</td>\n",
       "    </tr>\n",
       "    <tr>\n",
       "      <th>1</th>\n",
       "      <td>Comedy</td>\n",
       "    </tr>\n",
       "    <tr>\n",
       "      <th>81</th>\n",
       "      <td>Comedy Fiction</td>\n",
       "    </tr>\n",
       "    <tr>\n",
       "      <th>52</th>\n",
       "      <td>Comedy Interviews</td>\n",
       "    </tr>\n",
       "    <tr>\n",
       "      <th>14</th>\n",
       "      <td>Courses</td>\n",
       "    </tr>\n",
       "    <tr>\n",
       "      <th>45</th>\n",
       "      <td>Daily News</td>\n",
       "    </tr>\n",
       "    <tr>\n",
       "      <th>5</th>\n",
       "      <td>Design</td>\n",
       "    </tr>\n",
       "    <tr>\n",
       "      <th>11</th>\n",
       "      <td>Documentary</td>\n",
       "    </tr>\n",
       "    <tr>\n",
       "      <th>43</th>\n",
       "      <td>Drama</td>\n",
       "    </tr>\n",
       "    <tr>\n",
       "      <th>17</th>\n",
       "      <td>Education</td>\n",
       "    </tr>\n",
       "    <tr>\n",
       "      <th>4</th>\n",
       "      <td>Education for Kids</td>\n",
       "    </tr>\n",
       "    <tr>\n",
       "      <th>32</th>\n",
       "      <td>Entrepreneurship</td>\n",
       "    </tr>\n",
       "    <tr>\n",
       "      <th>48</th>\n",
       "      <td>Fantasy Sports</td>\n",
       "    </tr>\n",
       "    <tr>\n",
       "      <th>7</th>\n",
       "      <td>Fashion &amp; Beauty</td>\n",
       "    </tr>\n",
       "    <tr>\n",
       "      <th>61</th>\n",
       "      <td>Fiction</td>\n",
       "    </tr>\n",
       "    <tr>\n",
       "      <th>64</th>\n",
       "      <td>Film History</td>\n",
       "    </tr>\n",
       "    <tr>\n",
       "      <th>66</th>\n",
       "      <td>Film Interviews</td>\n",
       "    </tr>\n",
       "    <tr>\n",
       "      <th>62</th>\n",
       "      <td>Film Reviews</td>\n",
       "    </tr>\n",
       "    <tr>\n",
       "      <th>8</th>\n",
       "      <td>Food</td>\n",
       "    </tr>\n",
       "    <tr>\n",
       "      <th>46</th>\n",
       "      <td>Health &amp; Fitness</td>\n",
       "    </tr>\n",
       "    <tr>\n",
       "      <th>...</th>\n",
       "      <td>...</td>\n",
       "    </tr>\n",
       "    <tr>\n",
       "      <th>73</th>\n",
       "      <td>Nutrition</td>\n",
       "    </tr>\n",
       "    <tr>\n",
       "      <th>51</th>\n",
       "      <td>Parenting</td>\n",
       "    </tr>\n",
       "    <tr>\n",
       "      <th>30</th>\n",
       "      <td>Performing Arts</td>\n",
       "    </tr>\n",
       "    <tr>\n",
       "      <th>6</th>\n",
       "      <td>Personal Journals</td>\n",
       "    </tr>\n",
       "    <tr>\n",
       "      <th>50</th>\n",
       "      <td>Pets &amp; Animals</td>\n",
       "    </tr>\n",
       "    <tr>\n",
       "      <th>25</th>\n",
       "      <td>Philosophy</td>\n",
       "    </tr>\n",
       "    <tr>\n",
       "      <th>26</th>\n",
       "      <td>Places &amp; Travel</td>\n",
       "    </tr>\n",
       "    <tr>\n",
       "      <th>80</th>\n",
       "      <td>Podcasts</td>\n",
       "    </tr>\n",
       "    <tr>\n",
       "      <th>40</th>\n",
       "      <td>Politics</td>\n",
       "    </tr>\n",
       "    <tr>\n",
       "      <th>20</th>\n",
       "      <td>Relationships</td>\n",
       "    </tr>\n",
       "    <tr>\n",
       "      <th>27</th>\n",
       "      <td>Religion</td>\n",
       "    </tr>\n",
       "    <tr>\n",
       "      <th>22</th>\n",
       "      <td>Religion &amp; Spirituality</td>\n",
       "    </tr>\n",
       "    <tr>\n",
       "      <th>53</th>\n",
       "      <td>Science</td>\n",
       "    </tr>\n",
       "    <tr>\n",
       "      <th>55</th>\n",
       "      <td>Science Fiction</td>\n",
       "    </tr>\n",
       "    <tr>\n",
       "      <th>16</th>\n",
       "      <td>Self-Improvement</td>\n",
       "    </tr>\n",
       "    <tr>\n",
       "      <th>60</th>\n",
       "      <td>Social Sciences</td>\n",
       "    </tr>\n",
       "    <tr>\n",
       "      <th>19</th>\n",
       "      <td>Society &amp; Culture</td>\n",
       "    </tr>\n",
       "    <tr>\n",
       "      <th>23</th>\n",
       "      <td>Spirituality</td>\n",
       "    </tr>\n",
       "    <tr>\n",
       "      <th>39</th>\n",
       "      <td>Sports</td>\n",
       "    </tr>\n",
       "    <tr>\n",
       "      <th>71</th>\n",
       "      <td>Sports News</td>\n",
       "    </tr>\n",
       "    <tr>\n",
       "      <th>77</th>\n",
       "      <td>Stand-Up</td>\n",
       "    </tr>\n",
       "    <tr>\n",
       "      <th>58</th>\n",
       "      <td>Stories for Kids</td>\n",
       "    </tr>\n",
       "    <tr>\n",
       "      <th>57</th>\n",
       "      <td>TV &amp; Film</td>\n",
       "    </tr>\n",
       "    <tr>\n",
       "      <th>65</th>\n",
       "      <td>TV Reviews</td>\n",
       "    </tr>\n",
       "    <tr>\n",
       "      <th>13</th>\n",
       "      <td>Tech News</td>\n",
       "    </tr>\n",
       "    <tr>\n",
       "      <th>12</th>\n",
       "      <td>Technology</td>\n",
       "    </tr>\n",
       "    <tr>\n",
       "      <th>38</th>\n",
       "      <td>True Crime</td>\n",
       "    </tr>\n",
       "    <tr>\n",
       "      <th>9</th>\n",
       "      <td>Visual Arts</td>\n",
       "    </tr>\n",
       "    <tr>\n",
       "      <th>56</th>\n",
       "      <td>Wilderness</td>\n",
       "    </tr>\n",
       "    <tr>\n",
       "      <th>67</th>\n",
       "      <td>Wrestling</td>\n",
       "    </tr>\n",
       "  </tbody>\n",
       "</table>\n",
       "<p>85 rows × 1 columns</p>\n",
       "</div>"
      ],
      "text/plain": [
       "                subcategory\n",
       "63              After Shows\n",
       "82       Alternative Health\n",
       "10                     Arts\n",
       "84                Astronomy\n",
       "74               Automotive\n",
       "69               Basketball\n",
       "29                    Books\n",
       "28                 Buddhism\n",
       "33                 Business\n",
       "34                  Careers\n",
       "21             Christianity\n",
       "1                    Comedy\n",
       "81           Comedy Fiction\n",
       "52        Comedy Interviews\n",
       "14                  Courses\n",
       "45               Daily News\n",
       "5                    Design\n",
       "11              Documentary\n",
       "43                    Drama\n",
       "17                Education\n",
       "4        Education for Kids\n",
       "32         Entrepreneurship\n",
       "48           Fantasy Sports\n",
       "7          Fashion & Beauty\n",
       "61                  Fiction\n",
       "64             Film History\n",
       "66          Film Interviews\n",
       "62             Film Reviews\n",
       "8                      Food\n",
       "46         Health & Fitness\n",
       "..                      ...\n",
       "73                Nutrition\n",
       "51                Parenting\n",
       "30          Performing Arts\n",
       "6         Personal Journals\n",
       "50           Pets & Animals\n",
       "25               Philosophy\n",
       "26          Places & Travel\n",
       "80                 Podcasts\n",
       "40                 Politics\n",
       "20            Relationships\n",
       "27                 Religion\n",
       "22  Religion & Spirituality\n",
       "53                  Science\n",
       "55          Science Fiction\n",
       "16         Self-Improvement\n",
       "60          Social Sciences\n",
       "19        Society & Culture\n",
       "23             Spirituality\n",
       "39                   Sports\n",
       "71              Sports News\n",
       "77                 Stand-Up\n",
       "58         Stories for Kids\n",
       "57                TV & Film\n",
       "65               TV Reviews\n",
       "13                Tech News\n",
       "12               Technology\n",
       "38               True Crime\n",
       "9               Visual Arts\n",
       "56               Wilderness\n",
       "67                Wrestling\n",
       "\n",
       "[85 rows x 1 columns]"
      ]
     },
     "execution_count": 38,
     "metadata": {},
     "output_type": "execute_result"
    }
   ],
   "source": [
    "pd.DataFrame({'subcategory': data_train.subcategory.unique()}).sort_values(by='subcategory')"
   ]
  }
 ],
 "metadata": {
  "kernelspec": {
   "display_name": "Python 3",
   "language": "python",
   "name": "python3"
  },
  "language_info": {
   "codemirror_mode": {
    "name": "ipython",
    "version": 3
   },
   "file_extension": ".py",
   "mimetype": "text/x-python",
   "name": "python",
   "nbconvert_exporter": "python",
   "pygments_lexer": "ipython3",
   "version": "3.7.1"
  }
 },
 "nbformat": 4,
 "nbformat_minor": 2
}
