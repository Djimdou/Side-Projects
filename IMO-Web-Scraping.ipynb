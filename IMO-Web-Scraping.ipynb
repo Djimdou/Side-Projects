{
 "cells": [
  {
   "cell_type": "code",
   "execution_count": 1,
   "metadata": {},
   "outputs": [],
   "source": [
    "# # # # Web scraping: Africa in International Math Olympiads # # # # "
   ]
  },
  {
   "cell_type": "code",
   "execution_count": 2,
   "metadata": {},
   "outputs": [],
   "source": [
    "# Importing packages\n",
    "\n",
    "import requests,math\n",
    "import numpy as np\n",
    "from bs4 import BeautifulSoup"
   ]
  },
  {
   "cell_type": "code",
   "execution_count": 3,
   "metadata": {},
   "outputs": [],
   "source": [
    "# # Data about performance of countries at the IMO\n",
    "\n",
    "URL_imo = 'https://www.imo-official.org/results.aspx'\n",
    "page_imo = requests.get(URL_imo)\n",
    "imo = BeautifulSoup(page_imo.content, 'html.parser')\n",
    "results_imo = imo.find(id='main')\n",
    "\n",
    "countries_imo = results_imo.find_all('tr')\n",
    "countries_imo.pop(0)\n",
    "countries_imo.pop(0)\n",
    "\n",
    "year = [results_imo.find_all('tr')[0]('th')[i]('a')[0]['title'][4:] for i in range(1,len(results_imo.find_all('tr')[0]('th'))-1)]\n",
    "code = [0 for i in range(len(countries_imo))] # country codes\n",
    "name = [0 for i in range(len(countries_imo))] # country names\n",
    "data = [[float('nan') for y in year] for i in code] # country performance at IMO\n",
    "\n",
    "for i in range(len(countries_imo)):\n",
    "    code[i] = countries_imo[i].a.text\n",
    "    name[i] = countries_imo[i].a['title']\n",
    "    \n",
    "for c in range(len(code)):\n",
    "    for y in range(len(year)):\n",
    "        if not (countries_imo[c].find_all('td')[y+1].a is None): # making sure <a> exists\n",
    "            if (\"team_r.aspx?\" in countries_imo[c].find_all('td')[y+1].a[\"href\"]): # if the country c participated the year y\n",
    "                data[c][y] = int(countries_imo[c].find_all('td')[y+1].a.text)"
   ]
  },
  {
   "cell_type": "code",
   "execution_count": 4,
   "metadata": {},
   "outputs": [],
   "source": [
    "# # African countries\n",
    "\n",
    "URL_africa = 'https://allafrica.com/misc/sitemap/countries.html' # list of African countries\n",
    "page_africa = requests.get(URL_africa)\n",
    "africa = BeautifulSoup(page_africa.content, 'html.parser')\n",
    "results_africa = africa.find(class_='category-grid')\n",
    "countries_africa = [results_africa.find_all('a')[c].text.replace(u'\\xa0', u' ') for c in range(1,len(results_africa.find_all('a')))]"
   ]
  },
  {
   "cell_type": "code",
   "execution_count": 5,
   "metadata": {},
   "outputs": [],
   "source": [
    "# # Need to identify African countries (linking the two data bases)\n",
    "\n",
    "#african_participant = [0 for c in name] # value 0 if African country never participated to IMO\n",
    "african_participant = []\n",
    "\n",
    "i=0\n",
    "for c in range(len(name)):\n",
    "    if name[c] in countries_africa:\n",
    "        #african_participant[c] = 1 # value 1 if African country  participated to at least one IMO edition\n",
    "        african_participant.append(c) # their position in IMO countries list ('name')\n",
    "    i=i+1\n",
    "\n",
    "africa_performance = [data[a] for a in african_participant] # performance of African countries"
   ]
  },
  {
   "cell_type": "code",
   "execution_count": 6,
   "metadata": {},
   "outputs": [
    {
     "data": {
      "text/plain": [
       "(110.0, 3)"
      ]
     },
     "execution_count": 6,
     "metadata": {},
     "output_type": "execute_result"
    }
   ],
   "source": [
    "# # Some statistics\n",
    "\n",
    "len(african_participant) # 19 African countries at the IMO\n",
    "\n",
    "np.nanmin(africa_performance,axis=1) # best performance for each African country\n",
    "name[african_participant[np.argmin(np.nanmin(africa_performance,axis=1))]],np.nanmin(africa_performance),year[np.nanargmin(data[african_participant[np.argmin(np.nanmin(africa_performance,axis=1))]])]\n",
    "# Morocco achieved the best performance for an African country, 18, in 1982\n",
    "\n",
    "np.nanmax(africa_performance),sum(sum(africa_performance[a]==np.nanmax(africa_performance) for a in range(len(africa_performance)-1))) # worst performance accross all African countries:110. Achieved 3 times"
   ]
  },
  {
   "cell_type": "code",
   "execution_count": 6,
   "metadata": {},
   "outputs": [],
   "source": [
    "# Relative performance: rank divided by number of participants\n",
    "\n",
    "data_standardized = [[float('nan') for y in year] for i in code]\n",
    "\n",
    "for i in range(len(code)):\n",
    "    for y in range(len(year)):\n",
    "        if not(math.isnan(data[i][y])):\n",
    "            data_standardized[i][y] = np.divide(data[i][y],np.nanmax(data,axis=0)[y])\n",
    "            \n",
    "africa_performance_standardized = [data_standardized[a] for a in african_participant] # performance of African countries"
   ]
  },
  {
   "cell_type": "code",
   "execution_count": 9,
   "metadata": {},
   "outputs": [
    {
     "data": {
      "text/plain": [
       "('Morocco', 0.3287671232876712, '1986')"
      ]
     },
     "execution_count": 9,
     "metadata": {},
     "output_type": "execute_result"
    }
   ],
   "source": [
    "np.nanmin(africa_performance_standardized,axis=1) # best relative performance for each African country\n",
    "name[african_participant[np.argmin(np.nanmin(africa_performance_standardized,axis=1))]],np.nanmin(africa_performance_standardized),year[np.nanargmin(data[african_participant[np.argmin(np.nanmin(africa_performance_standardized,axis=1))]])]\n",
    "# Morocco achieved the best relative performance for an African country in 1982"
   ]
  },
  {
   "cell_type": "code",
   "execution_count": null,
   "metadata": {},
   "outputs": [],
   "source": [
    "# Plot: for each African country, evolution of its performance at IMO"
   ]
  },
  {
   "cell_type": "code",
   "execution_count": null,
   "metadata": {},
   "outputs": [],
   "source": [
    "# Map: for each African country, number of its participations at IMO\n",
    "\n",
    "# Help 1: https://ramiro.org/notebook/basemap-choropleth/ # Not working properly\n",
    "\n",
    "# Help 2: https://medium.com/using-specialist-business-databases/creating-a-choropleth-map-using-geopandas-and-financial-data-c76419258746"
   ]
  },
  {
   "cell_type": "code",
   "execution_count": null,
   "metadata": {},
   "outputs": [],
   "source": [
    "# Needed to install geopandas through Anaconda Prompt, by running the code \"conda install -c conda-forge geopandas\""
   ]
  },
  {
   "cell_type": "code",
   "execution_count": 7,
   "metadata": {},
   "outputs": [],
   "source": [
    "import pandas as pd #used to read in the revenue file \n",
    "import matplotlib.pyplot as plt #for plotting\n",
    "#to read in shape file and provides high #level interface with #matplotlib library for making maps\n",
    "import geopandas as gpd\n",
    "\n",
    "# Available data sets\n",
    "# gpd.datasets.available\n",
    "\n",
    "#import world shape map externally, no need to have a saved file\n",
    "world = gpd.read_file(gpd.datasets.get_path('naturalearth_lowres'))\n",
    "\n",
    "# view first 5 rows\n",
    "# world.head()\n",
    "\n",
    "#inspect count\n",
    "# world.info()"
   ]
  },
  {
   "cell_type": "code",
   "execution_count": 67,
   "metadata": {},
   "outputs": [],
   "source": [
    "# merge both data sets using country code/iso_a3 as unique identifiers\n",
    "\n",
    "score = pd.DataFrame({'abs_rank':np.nanmin(data,axis=1),'rel_rank':np.nanmin(data_standardized,axis=1)},index=code) # consider working with DataFrames from the beginning.\n",
    "\n",
    "for_plotting = world.merge(score, left_on = 'iso_a3', right_index=True)\n",
    "#check the occurrence\n",
    "#for_plotting.info()"
   ]
  }
 ],
 "metadata": {
  "kernelspec": {
   "display_name": "Python 3",
   "language": "python",
   "name": "python3"
  },
  "language_info": {
   "codemirror_mode": {
    "name": "ipython",
    "version": 3
   },
   "file_extension": ".py",
   "mimetype": "text/x-python",
   "name": "python",
   "nbconvert_exporter": "python",
   "pygments_lexer": "ipython3",
   "version": "3.7.1"
  }
 },
 "nbformat": 4,
 "nbformat_minor": 2
}
