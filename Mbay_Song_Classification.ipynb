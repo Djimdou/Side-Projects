{
  "nbformat": 4,
  "nbformat_minor": 0,
  "metadata": {
    "colab": {
      "name": "Mbay Song Classification",
      "provenance": [],
      "collapsed_sections": []
    },
    "kernelspec": {
      "name": "python3",
      "display_name": "Python 3"
    }
  },
  "cells": [
    {
      "cell_type": "markdown",
      "metadata": {
        "id": "cr_y1NN4coZJ",
        "colab_type": "text"
      },
      "source": [
        "Aim: classification on mbay songs: given a mbay song, can we predict its genre?"
      ]
    },
    {
      "cell_type": "code",
      "metadata": {
        "id": "3toIH0FzhJeW",
        "colab_type": "code",
        "colab": {}
      },
      "source": [
        "# Help: https://www.kdnuggets.com/2020/02/audio-data-analysis-deep-learning-python-part-1.html\n",
        "\n",
        "# Files: https://drive.google.com/drive/folders/0B-znYQjmJbqKTWVGUG9mQVNPZTQ"
      ],
      "execution_count": 0,
      "outputs": []
    },
    {
      "cell_type": "code",
      "metadata": {
        "id": "dHDJD9aKY9YK",
        "colab_type": "code",
        "outputId": "444e2314-5080-4c5a-f1da-390b95d6d262",
        "colab": {
          "base_uri": "https://localhost:8080/",
          "height": 50
        }
      },
      "source": [
        "# loading packages\n",
        "\n",
        "%tensorflow_version 1.x\n",
        "import librosa\n",
        "import pandas as pd\n",
        "import numpy as np\n",
        "import matplotlib.pyplot as plt\n",
        "%matplotlib inline\n",
        "import os\n",
        "from PIL import Image\n",
        "import pathlib\n",
        "import csv\n",
        "from sklearn.model_selection import train_test_split\n",
        "from sklearn.preprocessing import LabelEncoder, StandardScaler\n",
        "import keras\n",
        "from keras import layers\n",
        "import keras\n",
        "from keras.models import Sequential\n",
        "import warnings\n",
        "from sklearn.metrics import classification_report,confusion_matrix\n",
        "from numpy import argmax\n",
        "import librosa.display\n",
        "import IPython.display\n",
        "import random\n",
        "from keras.layers import Activation, Dense, Dropout, Conv2D, Flatten, MaxPooling2D, GlobalMaxPooling2D, GlobalAveragePooling1D, AveragePooling2D, Input, Add\n",
        "from keras.optimizers import SGD\n",
        "\n",
        "warnings.filterwarnings('ignore')"
      ],
      "execution_count": 0,
      "outputs": [
        {
          "output_type": "stream",
          "text": [
            "TensorFlow 1.x selected.\n"
          ],
          "name": "stdout"
        },
        {
          "output_type": "stream",
          "text": [
            "Using TensorFlow backend.\n"
          ],
          "name": "stderr"
        }
      ]
    },
    {
      "cell_type": "code",
      "metadata": {
        "id": "Hkk1bNnBUX1E",
        "colab_type": "code",
        "outputId": "9d8858cc-87c9-4b67-c76c-d30cdd810572",
        "colab": {
          "base_uri": "https://localhost:8080/",
          "height": 34
        }
      },
      "source": [
        "# Work directory\n",
        "\n",
        "from google.colab import drive\n",
        "\n",
        "drive.mount('/content/gdrive', force_remount=True)"
      ],
      "execution_count": 0,
      "outputs": [
        {
          "output_type": "stream",
          "text": [
            "Mounted at /content/gdrive\n"
          ],
          "name": "stdout"
        }
      ]
    },
    {
      "cell_type": "code",
      "metadata": {
        "id": "JI0u-bZE3edA",
        "colab_type": "code",
        "colab": {}
      },
      "source": [
        "duree = 30 # sample duration to take from the audio file for analysis\n",
        "genres = 'Bang Bordero Klag Baïgn'.split()\n",
        "MaxNbFiles = 75 # maximum number of songs of a genre to consider for analysis"
      ],
      "execution_count": 0,
      "outputs": []
    },
    {
      "cell_type": "markdown",
      "metadata": {
        "id": "1qtT7S44sKRb",
        "colab_type": "text"
      },
      "source": [
        "Waveplots and spectograms of a sample of each genre"
      ]
    },
    {
      "cell_type": "code",
      "metadata": {
        "id": "cynvxHRDjqoP",
        "colab_type": "code",
        "outputId": "30eb50b0-22d2-470e-ec29-34039e655124",
        "colab": {
          "base_uri": "https://localhost:8080/",
          "height": 34
        }
      },
      "source": [
        "pathlib.Path(f'img_data/').mkdir(parents=True, exist_ok=True)\n",
        "\n",
        "cmap = plt.get_cmap('inferno')\n",
        "plt.figure(figsize=(14,5))\n",
        "\n",
        "for g in genres:\n",
        "  filename = os.listdir(f'/content/gdrive/My Drive/Discothèque Mbaye/{g}')[0]\n",
        "  songname = f'/content/gdrive/My Drive/Discothèque Mbaye/{g}/{filename}'\n",
        "\n",
        "  x, srx = librosa.load(songname, mono=True)\n",
        "  y, sr = librosa.load(songname, mono=True,offset=librosa.get_duration(x)/2, duration=duree)\n",
        "\n",
        "  librosa.display.waveplot(y, sr=sr,offset=librosa.get_duration(x)/2);\n",
        "  plt.savefig(f'img_data/wave_{g}.png')\n",
        "  plt.clf()\n",
        "\n",
        "  plt.specgram(y, NFFT=2048, Fs=2, Fc=0, noverlap=128, cmap=cmap, sides='default', mode='default', scale='dB');\n",
        "  plt.savefig(f'img_data/spect_{g}.png')\n",
        "  plt.clf()"
      ],
      "execution_count": 0,
      "outputs": [
        {
          "output_type": "display_data",
          "data": {
            "text/plain": [
              "<Figure size 1008x360 with 0 Axes>"
            ]
          },
          "metadata": {
            "tags": []
          }
        }
      ]
    },
    {
      "cell_type": "markdown",
      "metadata": {
        "id": "t8sqJoeaacyi",
        "colab_type": "text"
      },
      "source": [
        "Working on features from spectogram (stored in a csv file)"
      ]
    },
    {
      "cell_type": "code",
      "metadata": {
        "id": "8E-B89vt7LlK",
        "colab_type": "code",
        "colab": {}
      },
      "source": [
        "# # Read the songs, extract the features and write the data in a csv file\n",
        "\n",
        "# Header for our CSV file\n",
        "\n",
        "header = 'filename chroma_stft rmse spectral_centroid spectral_bandwidth rolloff zero_crossing_rate'\n",
        "for i in range(1, 21):\n",
        "    header += f' mfcc{i}'\n",
        "header += ' label'\n",
        "header = header.split()\n",
        "\n",
        "# Extracting features from Spectrogram: Mel-frequency cepstral coefficients (MFCC), Spectral Centroid, Zero Crossing Rate, Chroma Frequencies, and Spectral Roll-off\n",
        "\n",
        "file = open('dataset_'+str(duree)+'s.csv', 'w', newline='') # 'a' for openning an existing file for writing\n",
        "with file:\n",
        "    writer = csv.writer(file,delimiter=';')\n",
        "    writer.writerow(header)\n",
        "\n",
        "for g in genres:\n",
        "  NbFiles = len(os.listdir(f'/content/gdrive/My Drive/Discothèque Mbaye/{g}'))\n",
        "  i = 1\n",
        "  while (i <= min(MaxNbFiles,NbFiles)):\n",
        "    filename = os.listdir(f'/content/gdrive/My Drive/Discothèque Mbaye/{g}')[i-1]\n",
        "    songname = f'/content/gdrive/My Drive/Discothèque Mbaye/{g}/{filename}'\n",
        "    x, srx = librosa.load(songname, mono=True)\n",
        "    y, sr = librosa.load(songname, mono=True,offset=librosa.get_duration(x)/2, duration=duree)\n",
        "    rmse = librosa.feature.rmse(y=y)\n",
        "    chroma_stft = librosa.feature.chroma_stft(y=y, sr=sr)\n",
        "    spec_cent = librosa.feature.spectral_centroid(y=y, sr=sr)\n",
        "    spec_bw = librosa.feature.spectral_bandwidth(y=y, sr=sr)\n",
        "    rolloff = librosa.feature.spectral_rolloff(y=y, sr=sr)\n",
        "    zcr = librosa.feature.zero_crossing_rate(y)\n",
        "    mfcc = librosa.feature.mfcc(y=y, sr=sr)\n",
        "    filename = 'song' + str(i)\n",
        "    to_append = f'{filename} {np.mean(chroma_stft)} {np.mean(rmse)} {np.mean(spec_cent)} {np.mean(spec_bw)} {np.mean(rolloff)} {np.mean(zcr)}'    \n",
        "    for e in mfcc:\n",
        "      to_append += f' {np.mean(e)}'\n",
        "    to_append += f' {g}'\n",
        "    file = open('dataset_'+str(duree)+'s.csv', 'a', newline='')\n",
        "    with file:\n",
        "      writer = csv.writer(file,delimiter=';')\n",
        "      writer.writerow(to_append.split())\n",
        "    i=i+1"
      ],
      "execution_count": 0,
      "outputs": []
    },
    {
      "cell_type": "code",
      "metadata": {
        "id": "Fi8Z86coKZc_",
        "colab_type": "code",
        "outputId": "e0cf0117-b62e-4d80-aa47-fb7ef4d41971",
        "colab": {
          "base_uri": "https://localhost:8080/",
          "height": 50
        }
      },
      "source": [
        "# Reading the csv file\n",
        "\n",
        "data = pd.read_csv('/content/dataset_30s.csv', sep=';')\n",
        "data.head()# Dropping unneccesary columns\n",
        "data = data.drop(['filename'],axis=1)\n",
        "\n",
        "# Converting to numeric type\n",
        "numeric = list(data.columns)\n",
        "del numeric[-1]\n",
        "data[numeric] = data[numeric].apply(pd.to_numeric, errors='coerce')\n",
        "\n",
        "#data['label'].unique() # checking we have all the genres\n",
        "\n",
        "# Encoding the Labels\n",
        "genre_list = data.iloc[:, -1]\n",
        "encoder = LabelEncoder()\n",
        "y = encoder.fit_transform(genre_list)#Scaling the Feature columns\n",
        "scaler = StandardScaler()\n",
        "X = scaler.fit_transform(np.array(data.iloc[:, :-1], dtype = float))\n",
        "\n",
        "# Dividing data into training and Testing set\n",
        "X_train, X_test, y_train, y_test = train_test_split(X, y, random_state = 0,test_size=0.3)\n",
        "\n",
        "print(X_train.shape); print(X_test.shape)"
      ],
      "execution_count": 0,
      "outputs": [
        {
          "output_type": "stream",
          "text": [
            "(123, 26)\n",
            "(53, 26)\n"
          ],
          "name": "stdout"
        }
      ]
    },
    {
      "cell_type": "markdown",
      "metadata": {
        "id": "TnpsmFwSaOFL",
        "colab_type": "text"
      },
      "source": [
        "Multi-Layer Perceptron Classifier"
      ]
    },
    {
      "cell_type": "code",
      "metadata": {
        "id": "qHGQIdR6LtSV",
        "colab_type": "code",
        "outputId": "a7783b3a-4916-4bb3-fa02-6a55398ddba5",
        "colab": {
          "base_uri": "https://localhost:8080/",
          "height": 202
        }
      },
      "source": [
        "# From https://www.pluralsight.com/guides/machine-learning-neural-networks-scikit-learn\n",
        "\n",
        "from sklearn.neural_network import MLPClassifier\n",
        "\n",
        "mlp = MLPClassifier(hidden_layer_sizes=(8,8,8), activation='relu', solver='adam', max_iter=500)\n",
        "y_pred = mlp.fit(X_train,y_train).predict(X_test)\n",
        "#print(confusion_matrix(y_test,predict_test))\n",
        "print(classification_report(y_pred,y_test))"
      ],
      "execution_count": 0,
      "outputs": [
        {
          "output_type": "stream",
          "text": [
            "              precision    recall  f1-score   support\n",
            "\n",
            "           0       0.78      0.69      0.73        26\n",
            "           1       0.00      0.00      0.00         0\n",
            "           2       0.81      0.74      0.77        23\n",
            "           3       0.38      0.75      0.50         4\n",
            "\n",
            "    accuracy                           0.72        53\n",
            "   macro avg       0.49      0.55      0.50        53\n",
            "weighted avg       0.76      0.72      0.73        53\n",
            "\n"
          ],
          "name": "stdout"
        }
      ]
    },
    {
      "cell_type": "markdown",
      "metadata": {
        "id": "EiwMTtORapGE",
        "colab_type": "text"
      },
      "source": [
        "Artificial Neural Networks"
      ]
    },
    {
      "cell_type": "code",
      "metadata": {
        "id": "trbF5wv2i1mb",
        "colab_type": "code",
        "outputId": "bf580a3b-3f46-499b-8f13-2225017e52e6",
        "colab": {
          "base_uri": "https://localhost:8080/",
          "height": 1000
        }
      },
      "source": [
        "ANN = Sequential();\n",
        "ANN.add(layers.Dense(256, activation='relu', input_shape=(X_train.shape[1],)));\n",
        "ANN.add(layers.Dense(128, activation='relu'));\n",
        "ANN.add(layers.Dense(64, activation='relu'));\n",
        "ANN.add(layers.Dense(10, activation='softmax'));\n",
        "ANN.compile(optimizer='adam',\n",
        "              loss='sparse_categorical_crossentropy',\n",
        "              metrics=['accuracy']);\n",
        "\n",
        "ANN.fit(X_train,y_train,epochs=100,batch_size=128);\n",
        "\n",
        "y_pred = ANN.predict_classes(X_test)\n",
        "print(classification_report(y_pred,y_test))"
      ],
      "execution_count": 0,
      "outputs": [
        {
          "output_type": "stream",
          "text": [
            "WARNING:tensorflow:From /tensorflow-1.15.2/python3.6/tensorflow_core/python/ops/resource_variable_ops.py:1630: calling BaseResourceVariable.__init__ (from tensorflow.python.ops.resource_variable_ops) with constraint is deprecated and will be removed in a future version.\n",
            "Instructions for updating:\n",
            "If using Keras pass *_constraint arguments to layers.\n",
            "WARNING:tensorflow:From /usr/local/lib/python3.6/dist-packages/keras/backend/tensorflow_backend.py:422: The name tf.global_variables is deprecated. Please use tf.compat.v1.global_variables instead.\n",
            "\n",
            "Epoch 1/100\n",
            "123/123 [==============================] - 0s 1ms/step - loss: 2.4872 - accuracy: 0.0000e+00\n",
            "Epoch 2/100\n",
            "123/123 [==============================] - 0s 55us/step - loss: 2.3567 - accuracy: 0.0894\n",
            "Epoch 3/100\n",
            "123/123 [==============================] - 0s 53us/step - loss: 2.2048 - accuracy: 0.3171\n",
            "Epoch 4/100\n",
            "123/123 [==============================] - 0s 48us/step - loss: 2.0868 - accuracy: 0.4228\n",
            "Epoch 5/100\n",
            "123/123 [==============================] - 0s 39us/step - loss: 1.9699 - accuracy: 0.4878\n",
            "Epoch 6/100\n",
            "123/123 [==============================] - 0s 44us/step - loss: 1.8620 - accuracy: 0.5203\n",
            "Epoch 7/100\n",
            "123/123 [==============================] - 0s 75us/step - loss: 1.7550 - accuracy: 0.5366\n",
            "Epoch 8/100\n",
            "123/123 [==============================] - 0s 57us/step - loss: 1.6499 - accuracy: 0.5447\n",
            "Epoch 9/100\n",
            "123/123 [==============================] - 0s 56us/step - loss: 1.5469 - accuracy: 0.5772\n",
            "Epoch 10/100\n",
            "123/123 [==============================] - 0s 56us/step - loss: 1.4477 - accuracy: 0.6260\n",
            "Epoch 11/100\n",
            "123/123 [==============================] - 0s 57us/step - loss: 1.3513 - accuracy: 0.6667\n",
            "Epoch 12/100\n",
            "123/123 [==============================] - 0s 30us/step - loss: 1.2600 - accuracy: 0.6829\n",
            "Epoch 13/100\n",
            "123/123 [==============================] - 0s 109us/step - loss: 1.1750 - accuracy: 0.6829\n",
            "Epoch 14/100\n",
            "123/123 [==============================] - 0s 75us/step - loss: 1.0962 - accuracy: 0.7073\n",
            "Epoch 15/100\n",
            "123/123 [==============================] - 0s 49us/step - loss: 1.0241 - accuracy: 0.7073\n",
            "Epoch 16/100\n",
            "123/123 [==============================] - 0s 48us/step - loss: 0.9604 - accuracy: 0.7154\n",
            "Epoch 17/100\n",
            "123/123 [==============================] - 0s 49us/step - loss: 0.9052 - accuracy: 0.7236\n",
            "Epoch 18/100\n",
            "123/123 [==============================] - 0s 54us/step - loss: 0.8578 - accuracy: 0.7317\n",
            "Epoch 19/100\n",
            "123/123 [==============================] - 0s 47us/step - loss: 0.8163 - accuracy: 0.7317\n",
            "Epoch 20/100\n",
            "123/123 [==============================] - 0s 52us/step - loss: 0.7778 - accuracy: 0.7317\n",
            "Epoch 21/100\n",
            "123/123 [==============================] - 0s 59us/step - loss: 0.7398 - accuracy: 0.7480\n",
            "Epoch 22/100\n",
            "123/123 [==============================] - 0s 55us/step - loss: 0.7010 - accuracy: 0.7642\n",
            "Epoch 23/100\n",
            "123/123 [==============================] - 0s 63us/step - loss: 0.6625 - accuracy: 0.7886\n",
            "Epoch 24/100\n",
            "123/123 [==============================] - 0s 55us/step - loss: 0.6265 - accuracy: 0.7967\n",
            "Epoch 25/100\n",
            "123/123 [==============================] - 0s 49us/step - loss: 0.5946 - accuracy: 0.8293\n",
            "Epoch 26/100\n",
            "123/123 [==============================] - 0s 48us/step - loss: 0.5664 - accuracy: 0.8293\n",
            "Epoch 27/100\n",
            "123/123 [==============================] - 0s 64us/step - loss: 0.5395 - accuracy: 0.8455\n",
            "Epoch 28/100\n",
            "123/123 [==============================] - 0s 51us/step - loss: 0.5122 - accuracy: 0.8618\n",
            "Epoch 29/100\n",
            "123/123 [==============================] - 0s 52us/step - loss: 0.4848 - accuracy: 0.8780\n",
            "Epoch 30/100\n",
            "123/123 [==============================] - 0s 68us/step - loss: 0.4586 - accuracy: 0.8699\n",
            "Epoch 31/100\n",
            "123/123 [==============================] - 0s 57us/step - loss: 0.4346 - accuracy: 0.8699\n",
            "Epoch 32/100\n",
            "123/123 [==============================] - 0s 31us/step - loss: 0.4137 - accuracy: 0.8699\n",
            "Epoch 33/100\n",
            "123/123 [==============================] - 0s 44us/step - loss: 0.3949 - accuracy: 0.8862\n",
            "Epoch 34/100\n",
            "123/123 [==============================] - 0s 49us/step - loss: 0.3769 - accuracy: 0.8862\n",
            "Epoch 35/100\n",
            "123/123 [==============================] - 0s 62us/step - loss: 0.3591 - accuracy: 0.9106\n",
            "Epoch 36/100\n",
            "123/123 [==============================] - 0s 58us/step - loss: 0.3411 - accuracy: 0.9187\n",
            "Epoch 37/100\n",
            "123/123 [==============================] - 0s 58us/step - loss: 0.3234 - accuracy: 0.9268\n",
            "Epoch 38/100\n",
            "123/123 [==============================] - 0s 46us/step - loss: 0.3065 - accuracy: 0.9268\n",
            "Epoch 39/100\n",
            "123/123 [==============================] - 0s 56us/step - loss: 0.2908 - accuracy: 0.9268\n",
            "Epoch 40/100\n",
            "123/123 [==============================] - 0s 62us/step - loss: 0.2760 - accuracy: 0.9268\n",
            "Epoch 41/100\n",
            "123/123 [==============================] - 0s 50us/step - loss: 0.2621 - accuracy: 0.9268\n",
            "Epoch 42/100\n",
            "123/123 [==============================] - 0s 52us/step - loss: 0.2485 - accuracy: 0.9350\n",
            "Epoch 43/100\n",
            "123/123 [==============================] - 0s 108us/step - loss: 0.2352 - accuracy: 0.9350\n",
            "Epoch 44/100\n",
            "123/123 [==============================] - 0s 98us/step - loss: 0.2226 - accuracy: 0.9431\n",
            "Epoch 45/100\n",
            "123/123 [==============================] - 0s 45us/step - loss: 0.2107 - accuracy: 0.9431\n",
            "Epoch 46/100\n",
            "123/123 [==============================] - 0s 113us/step - loss: 0.1995 - accuracy: 0.9431\n",
            "Epoch 47/100\n",
            "123/123 [==============================] - 0s 50us/step - loss: 0.1890 - accuracy: 0.9512\n",
            "Epoch 48/100\n",
            "123/123 [==============================] - 0s 87us/step - loss: 0.1789 - accuracy: 0.9756\n",
            "Epoch 49/100\n",
            "123/123 [==============================] - 0s 51us/step - loss: 0.1691 - accuracy: 0.9756\n",
            "Epoch 50/100\n",
            "123/123 [==============================] - 0s 48us/step - loss: 0.1599 - accuracy: 0.9756\n",
            "Epoch 51/100\n",
            "123/123 [==============================] - 0s 46us/step - loss: 0.1511 - accuracy: 0.9756\n",
            "Epoch 52/100\n",
            "123/123 [==============================] - 0s 47us/step - loss: 0.1429 - accuracy: 0.9756\n",
            "Epoch 53/100\n",
            "123/123 [==============================] - 0s 51us/step - loss: 0.1352 - accuracy: 0.9756\n",
            "Epoch 54/100\n",
            "123/123 [==============================] - 0s 48us/step - loss: 0.1278 - accuracy: 0.9756\n",
            "Epoch 55/100\n",
            "123/123 [==============================] - 0s 50us/step - loss: 0.1207 - accuracy: 0.9756\n",
            "Epoch 56/100\n",
            "123/123 [==============================] - 0s 43us/step - loss: 0.1139 - accuracy: 0.9756\n",
            "Epoch 57/100\n",
            "123/123 [==============================] - 0s 51us/step - loss: 0.1076 - accuracy: 0.9756\n",
            "Epoch 58/100\n",
            "123/123 [==============================] - 0s 45us/step - loss: 0.1018 - accuracy: 0.9756\n",
            "Epoch 59/100\n",
            "123/123 [==============================] - 0s 55us/step - loss: 0.0962 - accuracy: 0.9756\n",
            "Epoch 60/100\n",
            "123/123 [==============================] - 0s 42us/step - loss: 0.0910 - accuracy: 0.9756\n",
            "Epoch 61/100\n",
            "123/123 [==============================] - 0s 52us/step - loss: 0.0861 - accuracy: 0.9756\n",
            "Epoch 62/100\n",
            "123/123 [==============================] - 0s 41us/step - loss: 0.0815 - accuracy: 0.9756\n",
            "Epoch 63/100\n",
            "123/123 [==============================] - 0s 39us/step - loss: 0.0773 - accuracy: 0.9837\n",
            "Epoch 64/100\n",
            "123/123 [==============================] - 0s 50us/step - loss: 0.0733 - accuracy: 0.9837\n",
            "Epoch 65/100\n",
            "123/123 [==============================] - 0s 43us/step - loss: 0.0694 - accuracy: 0.9837\n",
            "Epoch 66/100\n",
            "123/123 [==============================] - 0s 54us/step - loss: 0.0658 - accuracy: 0.9837\n",
            "Epoch 67/100\n",
            "123/123 [==============================] - 0s 40us/step - loss: 0.0624 - accuracy: 0.9837\n",
            "Epoch 68/100\n",
            "123/123 [==============================] - 0s 47us/step - loss: 0.0592 - accuracy: 0.9837\n",
            "Epoch 69/100\n",
            "123/123 [==============================] - 0s 52us/step - loss: 0.0562 - accuracy: 0.9837\n",
            "Epoch 70/100\n",
            "123/123 [==============================] - 0s 53us/step - loss: 0.0533 - accuracy: 0.9837\n",
            "Epoch 71/100\n",
            "123/123 [==============================] - 0s 53us/step - loss: 0.0507 - accuracy: 0.9919\n",
            "Epoch 72/100\n",
            "123/123 [==============================] - 0s 51us/step - loss: 0.0481 - accuracy: 1.0000\n",
            "Epoch 73/100\n",
            "123/123 [==============================] - 0s 46us/step - loss: 0.0457 - accuracy: 1.0000\n",
            "Epoch 74/100\n",
            "123/123 [==============================] - 0s 47us/step - loss: 0.0434 - accuracy: 1.0000\n",
            "Epoch 75/100\n",
            "123/123 [==============================] - 0s 44us/step - loss: 0.0413 - accuracy: 1.0000\n",
            "Epoch 76/100\n",
            "123/123 [==============================] - 0s 50us/step - loss: 0.0393 - accuracy: 1.0000\n",
            "Epoch 77/100\n",
            "123/123 [==============================] - 0s 48us/step - loss: 0.0374 - accuracy: 1.0000\n",
            "Epoch 78/100\n",
            "123/123 [==============================] - 0s 50us/step - loss: 0.0357 - accuracy: 1.0000\n",
            "Epoch 79/100\n",
            "123/123 [==============================] - 0s 54us/step - loss: 0.0340 - accuracy: 1.0000\n",
            "Epoch 80/100\n",
            "123/123 [==============================] - 0s 37us/step - loss: 0.0325 - accuracy: 1.0000\n",
            "Epoch 81/100\n",
            "123/123 [==============================] - 0s 51us/step - loss: 0.0310 - accuracy: 1.0000\n",
            "Epoch 82/100\n",
            "123/123 [==============================] - 0s 41us/step - loss: 0.0297 - accuracy: 1.0000\n",
            "Epoch 83/100\n",
            "123/123 [==============================] - 0s 55us/step - loss: 0.0283 - accuracy: 1.0000\n",
            "Epoch 84/100\n",
            "123/123 [==============================] - 0s 46us/step - loss: 0.0270 - accuracy: 1.0000\n",
            "Epoch 85/100\n",
            "123/123 [==============================] - 0s 54us/step - loss: 0.0258 - accuracy: 1.0000\n",
            "Epoch 86/100\n",
            "123/123 [==============================] - 0s 59us/step - loss: 0.0247 - accuracy: 1.0000\n",
            "Epoch 87/100\n",
            "123/123 [==============================] - 0s 49us/step - loss: 0.0236 - accuracy: 1.0000\n",
            "Epoch 88/100\n",
            "123/123 [==============================] - 0s 52us/step - loss: 0.0226 - accuracy: 1.0000\n",
            "Epoch 89/100\n",
            "123/123 [==============================] - 0s 60us/step - loss: 0.0216 - accuracy: 1.0000\n",
            "Epoch 90/100\n",
            "123/123 [==============================] - 0s 60us/step - loss: 0.0207 - accuracy: 1.0000\n",
            "Epoch 91/100\n",
            "123/123 [==============================] - 0s 59us/step - loss: 0.0199 - accuracy: 1.0000\n",
            "Epoch 92/100\n",
            "123/123 [==============================] - 0s 54us/step - loss: 0.0191 - accuracy: 1.0000\n",
            "Epoch 93/100\n",
            "123/123 [==============================] - 0s 48us/step - loss: 0.0183 - accuracy: 1.0000\n",
            "Epoch 94/100\n",
            "123/123 [==============================] - 0s 47us/step - loss: 0.0176 - accuracy: 1.0000\n",
            "Epoch 95/100\n",
            "123/123 [==============================] - 0s 48us/step - loss: 0.0169 - accuracy: 1.0000\n",
            "Epoch 96/100\n",
            "123/123 [==============================] - 0s 45us/step - loss: 0.0162 - accuracy: 1.0000\n",
            "Epoch 97/100\n",
            "123/123 [==============================] - 0s 41us/step - loss: 0.0156 - accuracy: 1.0000\n",
            "Epoch 98/100\n",
            "123/123 [==============================] - 0s 35us/step - loss: 0.0150 - accuracy: 1.0000\n",
            "Epoch 99/100\n",
            "123/123 [==============================] - 0s 30us/step - loss: 0.0145 - accuracy: 1.0000\n",
            "Epoch 100/100\n",
            "123/123 [==============================] - 0s 39us/step - loss: 0.0139 - accuracy: 1.0000\n",
            "              precision    recall  f1-score   support\n",
            "\n",
            "           0       0.78      0.78      0.78        23\n",
            "           1       0.00      0.00      0.00         3\n",
            "           2       0.90      0.79      0.84        24\n",
            "           3       0.25      0.67      0.36         3\n",
            "\n",
            "    accuracy                           0.74        53\n",
            "   macro avg       0.48      0.56      0.50        53\n",
            "weighted avg       0.76      0.74      0.74        53\n",
            "\n"
          ],
          "name": "stdout"
        }
      ]
    },
    {
      "cell_type": "markdown",
      "metadata": {
        "id": "D2uDFaRiawzR",
        "colab_type": "text"
      },
      "source": [
        "Multinomial regression"
      ]
    },
    {
      "cell_type": "code",
      "metadata": {
        "id": "-HZOpcDlMF3c",
        "colab_type": "code",
        "outputId": "8df49d77-ef2c-49b0-efde-b2ae7704ab58",
        "colab": {
          "base_uri": "https://localhost:8080/",
          "height": 202
        }
      },
      "source": [
        "from sklearn.linear_model import LogisticRegression\n",
        "\n",
        "multi = LogisticRegression(random_state=0).fit(X_train, y_train)\n",
        "y_pred = multi.predict(X_test)\n",
        "print(classification_report(y_pred,y_test))"
      ],
      "execution_count": 0,
      "outputs": [
        {
          "output_type": "stream",
          "text": [
            "              precision    recall  f1-score   support\n",
            "\n",
            "           0       0.65      0.68      0.67        22\n",
            "           1       0.00      0.00      0.00         1\n",
            "           2       0.86      0.69      0.77        26\n",
            "           3       0.38      0.75      0.50         4\n",
            "\n",
            "    accuracy                           0.68        53\n",
            "   macro avg       0.47      0.53      0.48        53\n",
            "weighted avg       0.72      0.68      0.69        53\n",
            "\n"
          ],
          "name": "stdout"
        }
      ]
    },
    {
      "cell_type": "markdown",
      "metadata": {
        "id": "wcRIffXta7cX",
        "colab_type": "text"
      },
      "source": [
        "K-Nearest Neighbors"
      ]
    },
    {
      "cell_type": "code",
      "metadata": {
        "id": "kqpaCpNvXm2B",
        "colab_type": "code",
        "outputId": "64fecea6-7ad9-49d3-9021-458b21e6cdd2",
        "colab": {
          "base_uri": "https://localhost:8080/",
          "height": 202
        }
      },
      "source": [
        "# https://scikit-learn.org/stable/modules/neighbors.html#classification\n",
        "# https://scikit-learn.org/stable/auto_examples/neighbors/plot_classification.html#sphx-glr-auto-examples-neighbors-plot-classification-py\n",
        "\n",
        "from sklearn import neighbors, datasets\n",
        "\n",
        "n_neighbors = 15\n",
        "nghbs = neighbors.KNeighborsClassifier(n_neighbors).fit(X_train, y_train)\n",
        "y_pred = nghbs.predict(X_test)\n",
        "print(classification_report(y_pred,y_test))"
      ],
      "execution_count": 0,
      "outputs": [
        {
          "output_type": "stream",
          "text": [
            "              precision    recall  f1-score   support\n",
            "\n",
            "           0       0.65      0.71      0.68        21\n",
            "           1       0.00      0.00      0.00         0\n",
            "           2       0.95      0.67      0.78        30\n",
            "           3       0.25      1.00      0.40         2\n",
            "\n",
            "    accuracy                           0.70        53\n",
            "   macro avg       0.46      0.60      0.47        53\n",
            "weighted avg       0.81      0.70      0.73        53\n",
            "\n"
          ],
          "name": "stdout"
        }
      ]
    },
    {
      "cell_type": "markdown",
      "metadata": {
        "id": "1PN5VKgqbLoG",
        "colab_type": "text"
      },
      "source": [
        "Support Vector Machines"
      ]
    },
    {
      "cell_type": "code",
      "metadata": {
        "id": "_Ud7SS7pXw8p",
        "colab_type": "code",
        "outputId": "f36cd55f-df88-44f9-98ac-43cc7370d8b2",
        "colab": {
          "base_uri": "https://localhost:8080/",
          "height": 202
        }
      },
      "source": [
        "from sklearn import svm\n",
        "\n",
        "SVM_model = svm.SVC()#(kernel='linear')\n",
        "SVM_model.fit(X_train,y_train)\n",
        "y_pred = SVM_model.predict(X_test)\n",
        "print(classification_report(y_test,y_pred))"
      ],
      "execution_count": 0,
      "outputs": [
        {
          "output_type": "stream",
          "text": [
            "              precision    recall  f1-score   support\n",
            "\n",
            "           0       0.74      0.74      0.74        23\n",
            "           1       0.00      0.00      0.00         1\n",
            "           2       0.77      0.95      0.85        21\n",
            "           3       0.67      0.25      0.36         8\n",
            "\n",
            "    accuracy                           0.74        53\n",
            "   macro avg       0.54      0.49      0.49        53\n",
            "weighted avg       0.73      0.74      0.71        53\n",
            "\n"
          ],
          "name": "stdout"
        }
      ]
    },
    {
      "cell_type": "markdown",
      "metadata": {
        "id": "PuN2GDEXbTTv",
        "colab_type": "text"
      },
      "source": [
        "Random Forests"
      ]
    },
    {
      "cell_type": "code",
      "metadata": {
        "id": "vSvRbbCFXyte",
        "colab_type": "code",
        "outputId": "11876b77-d750-4328-c6a8-4c7a602fa064",
        "colab": {
          "base_uri": "https://localhost:8080/",
          "height": 202
        }
      },
      "source": [
        "from sklearn.ensemble import RandomForestClassifier\n",
        "from sklearn.datasets import make_classification\n",
        "\n",
        "ForAlea = RandomForestClassifier(max_depth=5, random_state=0)\n",
        "y_pred = ForAlea.fit(X_train, y_train).predict(X_test)\n",
        "print(classification_report(y_test,y_pred))"
      ],
      "execution_count": 0,
      "outputs": [
        {
          "output_type": "stream",
          "text": [
            "              precision    recall  f1-score   support\n",
            "\n",
            "           0       0.72      0.78      0.75        23\n",
            "           1       0.00      0.00      0.00         1\n",
            "           2       0.70      0.90      0.79        21\n",
            "           3       1.00      0.12      0.22         8\n",
            "\n",
            "    accuracy                           0.72        53\n",
            "   macro avg       0.61      0.45      0.44        53\n",
            "weighted avg       0.74      0.72      0.67        53\n",
            "\n"
          ],
          "name": "stdout"
        }
      ]
    },
    {
      "cell_type": "markdown",
      "metadata": {
        "id": "3Kd399XPbXrp",
        "colab_type": "text"
      },
      "source": [
        "Naive Bayes"
      ]
    },
    {
      "cell_type": "code",
      "metadata": {
        "id": "b0ODWNxPX0uX",
        "colab_type": "code",
        "outputId": "c88896b2-3d4a-4ab0-9c3d-3586969257e0",
        "colab": {
          "base_uri": "https://localhost:8080/",
          "height": 202
        }
      },
      "source": [
        "from sklearn.naive_bayes import GaussianNB\n",
        "gnb = GaussianNB()\n",
        "y_pred = gnb.fit(X_train, y_train).predict(X_test)\n",
        "print(classification_report(y_pred,y_test))"
      ],
      "execution_count": 0,
      "outputs": [
        {
          "output_type": "stream",
          "text": [
            "              precision    recall  f1-score   support\n",
            "\n",
            "           0       0.48      0.79      0.59        14\n",
            "           1       0.00      0.00      0.00         5\n",
            "           2       0.86      0.64      0.73        28\n",
            "           3       0.38      0.50      0.43         6\n",
            "\n",
            "    accuracy                           0.60        53\n",
            "   macro avg       0.43      0.48      0.44        53\n",
            "weighted avg       0.62      0.60      0.59        53\n",
            "\n"
          ],
          "name": "stdout"
        }
      ]
    },
    {
      "cell_type": "markdown",
      "metadata": {
        "id": "Nbd8IaisbbZI",
        "colab_type": "text"
      },
      "source": [
        "Linear Discriminant Analysis"
      ]
    },
    {
      "cell_type": "code",
      "metadata": {
        "id": "SM5TDvJsX3Sg",
        "colab_type": "code",
        "outputId": "397454b2-f6a7-4693-dcdf-dc0a178e60b7",
        "colab": {
          "base_uri": "https://localhost:8080/",
          "height": 202
        }
      },
      "source": [
        "from sklearn.discriminant_analysis import LinearDiscriminantAnalysis\n",
        "\n",
        "LinDis = LinearDiscriminantAnalysis()\n",
        "y_pred = LinDis.fit(X_train, y_train).predict(X_test)\n",
        "print(classification_report(y_pred,y_test))"
      ],
      "execution_count": 0,
      "outputs": [
        {
          "output_type": "stream",
          "text": [
            "              precision    recall  f1-score   support\n",
            "\n",
            "           0       0.74      0.74      0.74        23\n",
            "           1       0.00      0.00      0.00         3\n",
            "           2       0.81      0.77      0.79        22\n",
            "           3       0.38      0.60      0.46         5\n",
            "\n",
            "    accuracy                           0.70        53\n",
            "   macro avg       0.48      0.53      0.50        53\n",
            "weighted avg       0.69      0.70      0.69        53\n",
            "\n"
          ],
          "name": "stdout"
        }
      ]
    },
    {
      "cell_type": "markdown",
      "metadata": {
        "id": "ErUCrzoebkkY",
        "colab_type": "text"
      },
      "source": [
        "Convolutional Neural Networks"
      ]
    },
    {
      "cell_type": "code",
      "metadata": {
        "id": "7oyk3h1Xr4S6",
        "colab_type": "code",
        "colab": {}
      },
      "source": [
        "# https://levelup.gitconnected.com/audio-data-analysis-using-deep-learning-with-python-part-2-4a1f40d3708d\n",
        "# https://missinglink.ai/guides/convolutional-neural-networks/python-convolutional-neural-network-creating-cnn-keras-tensorflow-plain-python/\n",
        "\n",
        "# Extracting spectograms\n",
        "\n",
        "cmap = plt.get_cmap('inferno')\n",
        "plt.figure(figsize=(8,8))\n",
        "\n",
        "for g in genres:\n",
        "    pathlib.Path(f'img_data/{g}').mkdir(parents=True, exist_ok=True)\n",
        "    NbFiles = len(os.listdir(f'/content/gdrive/My Drive/Discothèque Mbaye/{g}'))\n",
        "    i=1\n",
        "    while (i <= min(MaxNbFiles,NbFiles)):\n",
        "        filename = os.listdir(f'/content/gdrive/My Drive/Discothèque Mbaye/{g}')[i-1]\n",
        "        songname = f'/content/gdrive/My Drive/Discothèque Mbaye/{g}/{filename}'\n",
        "        x, srx = librosa.load(songname, mono=True)\n",
        "        y, sr = librosa.load(songname, mono=True,offset=librosa.get_duration(x)/2, duration=duree)\n",
        "        plt.specgram(y, NFFT=2048, Fs=2, Fc=0, noverlap=128, cmap=cmap, sides='default', mode='default', scale='dB');\n",
        "        plt.axis('off');\n",
        "        filename = 'chanson' + str(i)\n",
        "        plt.savefig(f'img_data/{g}/{filename}.png')\n",
        "        plt.clf()\n",
        "        i=i+1"
      ],
      "execution_count": 0,
      "outputs": []
    },
    {
      "cell_type": "code",
      "metadata": {
        "id": "yZ9rax7xswk5",
        "colab_type": "code",
        "outputId": "1ec396ad-d53f-400c-910b-9c34b97e9745",
        "colab": {
          "base_uri": "https://localhost:8080/",
          "height": 50
        }
      },
      "source": [
        "# Split the data into the train set and test set\n",
        "!pip install split_folders\n",
        "\n",
        "import split_folders\n",
        "\n",
        "split_folders.ratio('/content/img_data', output=\"/content/data\", seed=0, ratio=(.7, .3))"
      ],
      "execution_count": 0,
      "outputs": [
        {
          "output_type": "stream",
          "text": [
            "Requirement already satisfied: split_folders in /usr/local/lib/python3.6/dist-packages (0.3.1)\n"
          ],
          "name": "stdout"
        },
        {
          "output_type": "stream",
          "text": [
            "Copying files: 176 files [00:00, 1225.25 files/s]\n"
          ],
          "name": "stderr"
        }
      ]
    },
    {
      "cell_type": "code",
      "metadata": {
        "id": "KXPBTci90eI9",
        "colab_type": "code",
        "outputId": "08a8c554-0230-439e-b1c3-f085d84d3f13",
        "colab": {
          "base_uri": "https://localhost:8080/",
          "height": 50
        }
      },
      "source": [
        "from keras.preprocessing.image import ImageDataGenerator\n",
        "\n",
        "train_datagen = ImageDataGenerator(rescale=1./255)\n",
        "        #rescale=1./255, # rescale all pixel values from 0-255, so after this step all our pixel values are in range (0,1)\n",
        "        #shear_range=0.2, #to apply some random transformations\n",
        "        #zoom_range=0.2, #to apply zoom\n",
        "        #horizontal_flip=True) # image will be flipped horizontally\n",
        "\n",
        "test_datagen = ImageDataGenerator(rescale=1./255) #rescale=1./255\n",
        "\n",
        "training_set = train_datagen.flow_from_directory(\n",
        "        '/content/data/train',\n",
        "        target_size=(64, 64),\n",
        "        batch_size=25,\n",
        "        classes = genres,\n",
        "        class_mode='categorical',\n",
        "        shuffle = False)\n",
        "\n",
        "test_set = test_datagen.flow_from_directory(\n",
        "        '/content/data/val',\n",
        "        target_size=(64, 64),\n",
        "        batch_size=25,\n",
        "        classes = genres,\n",
        "        class_mode='categorical',\n",
        "        shuffle = False )"
      ],
      "execution_count": 0,
      "outputs": [
        {
          "output_type": "stream",
          "text": [
            "Found 129 images belonging to 4 classes.\n",
            "Found 63 images belonging to 4 classes.\n"
          ],
          "name": "stdout"
        }
      ]
    },
    {
      "cell_type": "code",
      "metadata": {
        "id": "kSx0zueksMPu",
        "colab_type": "code",
        "outputId": "5f36fba5-a9f6-4e97-fe7f-3a6f09f68f16",
        "colab": {
          "base_uri": "https://localhost:8080/",
          "height": 1000
        }
      },
      "source": [
        "model = Sequential()\n",
        "input_shape=(64, 64, 3)\n",
        "\n",
        "#1st hidden layer\n",
        "model.add(Conv2D(64, (3, 3), strides=(2, 2), input_shape=input_shape))\n",
        "model.add(AveragePooling2D((2, 2), strides=(2,2)))\n",
        "model.add(Activation('relu'))\n",
        "\n",
        "#2nd hidden layer\n",
        "model.add(Conv2D(64, (3, 3), padding=\"same\"))\n",
        "model.add(AveragePooling2D((2, 2), strides=(2,2)))\n",
        "model.add(Activation('relu'))\n",
        "\n",
        "#3rd hidden layer\n",
        "model.add(Conv2D(64, (3, 3), padding=\"same\"))\n",
        "model.add(AveragePooling2D((2, 2), strides=(2,2)))\n",
        "model.add(Activation('relu'))\n",
        "\n",
        "#Flatten\n",
        "model.add(Flatten())\n",
        "model.add(Dropout(rate=0.5))\n",
        "\n",
        "#Add fully connected layer.\n",
        "model.add(Dense(64))\n",
        "model.add(Activation('relu'))\n",
        "model.add(Dropout(rate=0.5))\n",
        "\n",
        "#Output layer\n",
        "model.add(Dense(4))\n",
        "model.add(Activation('softmax'))\n",
        "#model.summary()\n",
        "\n",
        "epochs = 200\n",
        "batch_size = 25\n",
        "learning_rate = 0.01\n",
        "decay_rate = learning_rate / epochs\n",
        "momentum = 0.9\n",
        "sgd = SGD(lr=learning_rate, momentum=momentum, decay=decay_rate, nesterov=False)\n",
        "model.compile(optimizer=\"sgd\", loss=\"categorical_crossentropy\", metrics=['accuracy'])\n",
        "\n",
        "model.fit_generator(training_set,\n",
        "        #steps_per_epoch=5,\n",
        "        epochs=100 #,validation_data=test_set,validation_steps=25\n",
        "        )"
      ],
      "execution_count": 0,
      "outputs": [
        {
          "output_type": "stream",
          "text": [
            "WARNING:tensorflow:From /usr/local/lib/python3.6/dist-packages/keras/backend/tensorflow_backend.py:4074: The name tf.nn.avg_pool is deprecated. Please use tf.nn.avg_pool2d instead.\n",
            "\n",
            "Epoch 1/100\n",
            "6/6 [==============================] - 2s 337ms/step - loss: 1.4604 - accuracy: 0.1705\n",
            "Epoch 2/100\n",
            "6/6 [==============================] - 2s 333ms/step - loss: 1.3914 - accuracy: 0.2946\n",
            "Epoch 3/100\n",
            "6/6 [==============================] - 2s 341ms/step - loss: 1.3750 - accuracy: 0.3876\n",
            "Epoch 4/100\n",
            "6/6 [==============================] - 2s 339ms/step - loss: 1.3780 - accuracy: 0.4109\n",
            "Epoch 5/100\n",
            "6/6 [==============================] - 2s 339ms/step - loss: 1.3845 - accuracy: 0.2946\n",
            "Epoch 6/100\n",
            "6/6 [==============================] - 2s 340ms/step - loss: 1.4037 - accuracy: 0.3256\n",
            "Epoch 7/100\n",
            "6/6 [==============================] - 2s 348ms/step - loss: 1.3684 - accuracy: 0.4264\n",
            "Epoch 8/100\n",
            "6/6 [==============================] - 2s 343ms/step - loss: 1.3656 - accuracy: 0.4109\n",
            "Epoch 9/100\n",
            "6/6 [==============================] - 2s 351ms/step - loss: 1.3431 - accuracy: 0.4031\n",
            "Epoch 10/100\n",
            "6/6 [==============================] - 2s 343ms/step - loss: 1.3533 - accuracy: 0.4264\n",
            "Epoch 11/100\n",
            "6/6 [==============================] - 2s 346ms/step - loss: 1.3249 - accuracy: 0.4186\n",
            "Epoch 12/100\n",
            "6/6 [==============================] - 2s 340ms/step - loss: 1.3633 - accuracy: 0.3411\n",
            "Epoch 13/100\n",
            "6/6 [==============================] - 2s 346ms/step - loss: 1.3357 - accuracy: 0.4496\n",
            "Epoch 14/100\n",
            "6/6 [==============================] - 3s 503ms/step - loss: 1.3602 - accuracy: 0.3876\n",
            "Epoch 15/100\n",
            "6/6 [==============================] - 4s 670ms/step - loss: 1.3425 - accuracy: 0.3876\n",
            "Epoch 16/100\n",
            "6/6 [==============================] - 3s 494ms/step - loss: 1.3509 - accuracy: 0.4419\n",
            "Epoch 17/100\n",
            "6/6 [==============================] - 2s 344ms/step - loss: 1.3528 - accuracy: 0.4186\n",
            "Epoch 18/100\n",
            "6/6 [==============================] - 2s 339ms/step - loss: 1.3370 - accuracy: 0.3798\n",
            "Epoch 19/100\n",
            "6/6 [==============================] - 2s 341ms/step - loss: 1.3357 - accuracy: 0.4264\n",
            "Epoch 20/100\n",
            "6/6 [==============================] - 2s 340ms/step - loss: 1.3252 - accuracy: 0.3721\n",
            "Epoch 21/100\n",
            "6/6 [==============================] - 2s 338ms/step - loss: 1.3277 - accuracy: 0.4806\n",
            "Epoch 22/100\n",
            "6/6 [==============================] - 2s 343ms/step - loss: 1.3278 - accuracy: 0.4496\n",
            "Epoch 23/100\n",
            "6/6 [==============================] - 2s 340ms/step - loss: 1.3441 - accuracy: 0.3798\n",
            "Epoch 24/100\n",
            "6/6 [==============================] - 2s 343ms/step - loss: 1.3495 - accuracy: 0.3953\n",
            "Epoch 25/100\n",
            "6/6 [==============================] - 2s 342ms/step - loss: 1.3210 - accuracy: 0.4264\n",
            "Epoch 26/100\n",
            "6/6 [==============================] - 2s 343ms/step - loss: 1.3364 - accuracy: 0.4186\n",
            "Epoch 27/100\n",
            "6/6 [==============================] - 2s 349ms/step - loss: 1.3328 - accuracy: 0.4031\n",
            "Epoch 28/100\n",
            "6/6 [==============================] - 2s 331ms/step - loss: 1.3040 - accuracy: 0.4341\n",
            "Epoch 29/100\n",
            "6/6 [==============================] - 2s 337ms/step - loss: 1.3018 - accuracy: 0.4264\n",
            "Epoch 30/100\n",
            "6/6 [==============================] - 2s 334ms/step - loss: 1.2963 - accuracy: 0.4496\n",
            "Epoch 31/100\n",
            "6/6 [==============================] - 2s 332ms/step - loss: 1.3293 - accuracy: 0.3798\n",
            "Epoch 32/100\n",
            "6/6 [==============================] - 2s 342ms/step - loss: 1.3280 - accuracy: 0.4109\n",
            "Epoch 33/100\n",
            "6/6 [==============================] - 2s 344ms/step - loss: 1.3251 - accuracy: 0.4264\n",
            "Epoch 34/100\n",
            "6/6 [==============================] - 2s 338ms/step - loss: 1.3348 - accuracy: 0.3333\n",
            "Epoch 35/100\n",
            "6/6 [==============================] - 2s 342ms/step - loss: 1.3057 - accuracy: 0.4031\n",
            "Epoch 36/100\n",
            "6/6 [==============================] - 2s 337ms/step - loss: 1.3166 - accuracy: 0.4264\n",
            "Epoch 37/100\n",
            "6/6 [==============================] - 2s 348ms/step - loss: 1.3393 - accuracy: 0.3566\n",
            "Epoch 38/100\n",
            "6/6 [==============================] - 2s 344ms/step - loss: 1.3509 - accuracy: 0.4186\n",
            "Epoch 39/100\n",
            "6/6 [==============================] - 2s 349ms/step - loss: 1.3370 - accuracy: 0.3798\n",
            "Epoch 40/100\n",
            "6/6 [==============================] - 2s 333ms/step - loss: 1.3197 - accuracy: 0.4496\n",
            "Epoch 41/100\n",
            "6/6 [==============================] - 2s 340ms/step - loss: 1.3178 - accuracy: 0.3256\n",
            "Epoch 42/100\n",
            "6/6 [==============================] - 2s 341ms/step - loss: 1.3103 - accuracy: 0.4186\n",
            "Epoch 43/100\n",
            "6/6 [==============================] - 2s 344ms/step - loss: 1.2970 - accuracy: 0.4341\n",
            "Epoch 44/100\n",
            "6/6 [==============================] - 2s 343ms/step - loss: 1.3175 - accuracy: 0.3643\n",
            "Epoch 45/100\n",
            "6/6 [==============================] - 2s 348ms/step - loss: 1.3159 - accuracy: 0.3798\n",
            "Epoch 46/100\n",
            "6/6 [==============================] - 2s 342ms/step - loss: 1.3016 - accuracy: 0.3566\n",
            "Epoch 47/100\n",
            "6/6 [==============================] - 2s 332ms/step - loss: 1.3387 - accuracy: 0.4031\n",
            "Epoch 48/100\n",
            "6/6 [==============================] - 2s 343ms/step - loss: 1.3164 - accuracy: 0.3798\n",
            "Epoch 49/100\n",
            "6/6 [==============================] - 2s 347ms/step - loss: 1.3842 - accuracy: 0.3333\n",
            "Epoch 50/100\n",
            "6/6 [==============================] - 2s 336ms/step - loss: 1.3344 - accuracy: 0.4109\n",
            "Epoch 51/100\n",
            "6/6 [==============================] - 2s 338ms/step - loss: 1.3104 - accuracy: 0.4109\n",
            "Epoch 52/100\n",
            "6/6 [==============================] - 2s 343ms/step - loss: 1.3157 - accuracy: 0.4574\n",
            "Epoch 53/100\n",
            "6/6 [==============================] - 2s 340ms/step - loss: 1.3353 - accuracy: 0.4109\n",
            "Epoch 54/100\n",
            "6/6 [==============================] - 2s 347ms/step - loss: 1.3395 - accuracy: 0.4496\n",
            "Epoch 55/100\n",
            "6/6 [==============================] - 2s 335ms/step - loss: 1.3076 - accuracy: 0.4574\n",
            "Epoch 56/100\n",
            "6/6 [==============================] - 2s 344ms/step - loss: 1.3154 - accuracy: 0.4264\n",
            "Epoch 57/100\n",
            "6/6 [==============================] - 2s 340ms/step - loss: 1.3091 - accuracy: 0.4109\n",
            "Epoch 58/100\n",
            "6/6 [==============================] - 2s 340ms/step - loss: 1.2862 - accuracy: 0.4419\n",
            "Epoch 59/100\n",
            "6/6 [==============================] - 2s 334ms/step - loss: 1.3247 - accuracy: 0.4496\n",
            "Epoch 60/100\n",
            "6/6 [==============================] - 2s 345ms/step - loss: 1.2859 - accuracy: 0.4186\n",
            "Epoch 61/100\n",
            "6/6 [==============================] - 2s 345ms/step - loss: 1.3255 - accuracy: 0.3953\n",
            "Epoch 62/100\n",
            "6/6 [==============================] - 2s 347ms/step - loss: 1.3094 - accuracy: 0.4651\n",
            "Epoch 63/100\n",
            "6/6 [==============================] - 2s 333ms/step - loss: 1.3190 - accuracy: 0.4264\n",
            "Epoch 64/100\n",
            "6/6 [==============================] - 2s 341ms/step - loss: 1.3126 - accuracy: 0.4806\n",
            "Epoch 65/100\n",
            "6/6 [==============================] - 2s 346ms/step - loss: 1.3084 - accuracy: 0.4341\n",
            "Epoch 66/100\n",
            "6/6 [==============================] - 2s 339ms/step - loss: 1.3155 - accuracy: 0.4341\n",
            "Epoch 67/100\n",
            "6/6 [==============================] - 2s 339ms/step - loss: 1.3297 - accuracy: 0.3876\n",
            "Epoch 68/100\n",
            "6/6 [==============================] - 2s 348ms/step - loss: 1.3189 - accuracy: 0.4109\n",
            "Epoch 69/100\n",
            "6/6 [==============================] - 2s 342ms/step - loss: 1.3086 - accuracy: 0.4341\n",
            "Epoch 70/100\n",
            "6/6 [==============================] - 2s 341ms/step - loss: 1.3092 - accuracy: 0.3953\n",
            "Epoch 71/100\n",
            "6/6 [==============================] - 2s 341ms/step - loss: 1.3097 - accuracy: 0.3876\n",
            "Epoch 72/100\n",
            "6/6 [==============================] - 2s 337ms/step - loss: 1.3089 - accuracy: 0.4264\n",
            "Epoch 73/100\n",
            "6/6 [==============================] - 2s 336ms/step - loss: 1.3365 - accuracy: 0.4186\n",
            "Epoch 74/100\n",
            "6/6 [==============================] - 2s 338ms/step - loss: 1.2979 - accuracy: 0.4341\n",
            "Epoch 75/100\n",
            "6/6 [==============================] - 2s 342ms/step - loss: 1.3213 - accuracy: 0.3953\n",
            "Epoch 76/100\n",
            "6/6 [==============================] - 2s 341ms/step - loss: 1.3075 - accuracy: 0.4186\n",
            "Epoch 77/100\n",
            "6/6 [==============================] - 2s 343ms/step - loss: 1.3235 - accuracy: 0.4031\n",
            "Epoch 78/100\n",
            "6/6 [==============================] - 2s 335ms/step - loss: 1.2832 - accuracy: 0.4109\n",
            "Epoch 79/100\n",
            "6/6 [==============================] - 2s 344ms/step - loss: 1.2952 - accuracy: 0.4341\n",
            "Epoch 80/100\n",
            "6/6 [==============================] - 2s 333ms/step - loss: 1.3083 - accuracy: 0.4341\n",
            "Epoch 81/100\n",
            "6/6 [==============================] - 2s 344ms/step - loss: 1.2984 - accuracy: 0.4109\n",
            "Epoch 82/100\n",
            "6/6 [==============================] - 2s 340ms/step - loss: 1.3099 - accuracy: 0.4109\n",
            "Epoch 83/100\n",
            "6/6 [==============================] - 2s 338ms/step - loss: 1.3288 - accuracy: 0.4186\n",
            "Epoch 84/100\n",
            "6/6 [==============================] - 2s 340ms/step - loss: 1.3075 - accuracy: 0.4419\n",
            "Epoch 85/100\n",
            "6/6 [==============================] - 2s 343ms/step - loss: 1.3234 - accuracy: 0.3876\n",
            "Epoch 86/100\n",
            "6/6 [==============================] - 2s 343ms/step - loss: 1.2808 - accuracy: 0.4419\n",
            "Epoch 87/100\n",
            "6/6 [==============================] - 2s 345ms/step - loss: 1.3102 - accuracy: 0.3798\n",
            "Epoch 88/100\n",
            "6/6 [==============================] - 2s 338ms/step - loss: 1.3055 - accuracy: 0.3876\n",
            "Epoch 89/100\n",
            "6/6 [==============================] - 2s 335ms/step - loss: 1.2884 - accuracy: 0.3876\n",
            "Epoch 90/100\n",
            "6/6 [==============================] - 2s 341ms/step - loss: 1.3149 - accuracy: 0.4186\n",
            "Epoch 91/100\n",
            "6/6 [==============================] - 2s 340ms/step - loss: 1.2974 - accuracy: 0.3721\n",
            "Epoch 92/100\n",
            "6/6 [==============================] - 2s 345ms/step - loss: 1.3118 - accuracy: 0.4264\n",
            "Epoch 93/100\n",
            "6/6 [==============================] - 2s 337ms/step - loss: 1.3159 - accuracy: 0.3876\n",
            "Epoch 94/100\n",
            "6/6 [==============================] - 2s 347ms/step - loss: 1.3140 - accuracy: 0.4186\n",
            "Epoch 95/100\n",
            "6/6 [==============================] - 2s 336ms/step - loss: 1.2886 - accuracy: 0.4651\n",
            "Epoch 96/100\n",
            "6/6 [==============================] - 2s 342ms/step - loss: 1.3012 - accuracy: 0.4264\n",
            "Epoch 97/100\n",
            "6/6 [==============================] - 2s 341ms/step - loss: 1.3067 - accuracy: 0.4496\n",
            "Epoch 98/100\n",
            "6/6 [==============================] - 2s 331ms/step - loss: 1.3168 - accuracy: 0.4574\n",
            "Epoch 99/100\n",
            "6/6 [==============================] - 2s 331ms/step - loss: 1.3018 - accuracy: 0.4419\n",
            "Epoch 100/100\n",
            "6/6 [==============================] - 2s 337ms/step - loss: 1.3226 - accuracy: 0.3798\n"
          ],
          "name": "stdout"
        },
        {
          "output_type": "execute_result",
          "data": {
            "text/plain": [
              "<keras.callbacks.callbacks.History at 0x7f291916c358>"
            ]
          },
          "metadata": {
            "tags": []
          },
          "execution_count": 19
        }
      ]
    },
    {
      "cell_type": "code",
      "metadata": {
        "id": "wVbChGF4Ngpg",
        "colab_type": "code",
        "outputId": "1253c970-e665-46b6-c7ae-2f98a39913cc",
        "colab": {
          "base_uri": "https://localhost:8080/",
          "height": 202
        }
      },
      "source": [
        "test_set.reset()\n",
        "y_pred = model.predict_generator(test_set)\n",
        "\n",
        "predicted_class_indices=np.argmax(y_pred,axis=1)\n",
        "print(classification_report(test_set.classes,predicted_class_indices))"
      ],
      "execution_count": 0,
      "outputs": [
        {
          "output_type": "stream",
          "text": [
            "              precision    recall  f1-score   support\n",
            "\n",
            "           0       0.00      0.00      0.00        23\n",
            "           1       0.43      1.00      0.60        27\n",
            "           2       0.00      0.00      0.00         9\n",
            "           3       0.00      0.00      0.00         4\n",
            "\n",
            "    accuracy                           0.43        63\n",
            "   macro avg       0.11      0.25      0.15        63\n",
            "weighted avg       0.18      0.43      0.26        63\n",
            "\n"
          ],
          "name": "stdout"
        }
      ]
    }
  ]
}