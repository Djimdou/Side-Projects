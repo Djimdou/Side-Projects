{
  "nbformat": 4,
  "nbformat_minor": 0,
  "metadata": {
    "colab": {
      "name": "Mbay Song Classification",
      "provenance": [],
      "collapsed_sections": []
    },
    "kernelspec": {
      "name": "python3",
      "display_name": "Python 3"
    }
  },
  "cells": [
    {
      "cell_type": "markdown",
      "metadata": {
        "id": "cr_y1NN4coZJ",
        "colab_type": "text"
      },
      "source": [
        "Aim: classification on mbay songs: given a mbay song, can we predict its genre?"
      ]
    },
    {
      "cell_type": "code",
      "metadata": {
        "id": "3toIH0FzhJeW",
        "colab_type": "code",
        "colab": {}
      },
      "source": [
        "# Help: \n",
        "# 1) https://www.kdnuggets.com/2020/02/audio-data-analysis-deep-learning-python-part-1.html\n",
        "# 2) https://www.analyticsvidhya.com/blog/2017/08/audio-voice-processing-deep-learning/\n",
        "\n",
        "# Files: https://drive.google.com/drive/folders/0B-znYQjmJbqKTWVGUG9mQVNPZTQ"
      ],
      "execution_count": 0,
      "outputs": []
    },
    {
      "cell_type": "code",
      "metadata": {
        "id": "dHDJD9aKY9YK",
        "colab_type": "code",
        "colab": {}
      },
      "source": [
        "# loading packages\n",
        "\n",
        "%tensorflow_version 1.x\n",
        "import librosa\n",
        "import pandas as pd\n",
        "import numpy as np\n",
        "import matplotlib.pyplot as plt\n",
        "%matplotlib inline\n",
        "import os\n",
        "from PIL import Image\n",
        "import pathlib\n",
        "import csv\n",
        "from sklearn.model_selection import train_test_split\n",
        "from sklearn.preprocessing import LabelEncoder, StandardScaler\n",
        "import keras\n",
        "from keras import layers\n",
        "import keras\n",
        "from keras.models import Sequential\n",
        "import warnings\n",
        "from sklearn.metrics import classification_report,confusion_matrix\n",
        "from numpy import argmax\n",
        "import librosa.display\n",
        "import IPython.display\n",
        "import random\n",
        "from keras.layers import Activation, Dense, Dropout, Conv2D, Flatten, MaxPooling2D, GlobalMaxPooling2D, GlobalAveragePooling1D, AveragePooling2D, Input, Add\n",
        "from keras.optimizers import SGD\n",
        "\n",
        "warnings.filterwarnings('ignore')"
      ],
      "execution_count": 0,
      "outputs": []
    },
    {
      "cell_type": "code",
      "metadata": {
        "id": "JI0u-bZE3edA",
        "colab_type": "code",
        "colab": {}
      },
      "source": [
        "duree = 30\n",
        "genres = 'Lamson Klag Bang Baïgn'.split()"
      ],
      "execution_count": 0,
      "outputs": []
    },
    {
      "cell_type": "code",
      "metadata": {
        "id": "Hkk1bNnBUX1E",
        "colab_type": "code",
        "outputId": "d6c9ea29-92ff-46a6-9393-2023800950fb",
        "colab": {
          "base_uri": "https://localhost:8080/",
          "height": 121
        }
      },
      "source": [
        "# Work directory\n",
        "\n",
        "from google.colab import drive\n",
        "\n",
        "drive.mount('/content/gdrive', force_remount=True)"
      ],
      "execution_count": 0,
      "outputs": [
        {
          "output_type": "stream",
          "text": [
            "Go to this URL in a browser: https://accounts.google.com/o/oauth2/auth?client_id=947318989803-6bn6qk8qdgf4n4g3pfee6491hc0brc4i.apps.googleusercontent.com&redirect_uri=urn%3aietf%3awg%3aoauth%3a2.0%3aoob&response_type=code&scope=email%20https%3a%2f%2fwww.googleapis.com%2fauth%2fdocs.test%20https%3a%2f%2fwww.googleapis.com%2fauth%2fdrive%20https%3a%2f%2fwww.googleapis.com%2fauth%2fdrive.photos.readonly%20https%3a%2f%2fwww.googleapis.com%2fauth%2fpeopleapi.readonly\n",
            "\n",
            "Enter your authorization code:\n",
            "··········\n",
            "Mounted at /content/gdrive\n"
          ],
          "name": "stdout"
        }
      ]
    },
    {
      "cell_type": "markdown",
      "metadata": {
        "id": "1qtT7S44sKRb",
        "colab_type": "text"
      },
      "source": [
        "Waveplots and spectograms of a sample of each genre"
      ]
    },
    {
      "cell_type": "code",
      "metadata": {
        "id": "cynvxHRDjqoP",
        "colab_type": "code",
        "outputId": "30eb50b0-22d2-470e-ec29-34039e655124",
        "colab": {
          "base_uri": "https://localhost:8080/",
          "height": 34
        }
      },
      "source": [
        "pathlib.Path(f'img_data/').mkdir(parents=True, exist_ok=True)\n",
        "\n",
        "cmap = plt.get_cmap('inferno')\n",
        "plt.figure(figsize=(14,5))\n",
        "\n",
        "for g in genres:\n",
        "  filename = os.listdir(f'/content/gdrive/My Drive/Discothèque Mbaye/{g}')[0]\n",
        "  songname = f'/content/gdrive/My Drive/Discothèque Mbaye/{g}/{filename}'\n",
        "\n",
        "  x, srx = librosa.load(songname, mono=True)\n",
        "  y, sr = librosa.load(songname, mono=True,offset=librosa.get_duration(x)/2, duration=duree)\n",
        "\n",
        "  librosa.display.waveplot(y, sr=sr,offset=librosa.get_duration(x)/2);\n",
        "  plt.savefig(f'img_data/wave_{g}.png')\n",
        "  plt.clf()\n",
        "\n",
        "  plt.specgram(y, NFFT=2048, Fs=2, Fc=0, noverlap=128, cmap=cmap, sides='default', mode='default', scale='dB');\n",
        "  plt.savefig(f'img_data/spect_{g}.png')\n",
        "  plt.clf()"
      ],
      "execution_count": 0,
      "outputs": [
        {
          "output_type": "display_data",
          "data": {
            "text/plain": [
              "<Figure size 1008x360 with 0 Axes>"
            ]
          },
          "metadata": {
            "tags": []
          }
        }
      ]
    },
    {
      "cell_type": "markdown",
      "metadata": {
        "id": "t8sqJoeaacyi",
        "colab_type": "text"
      },
      "source": [
        "Working on features from spectogram (stored in a csv file)"
      ]
    },
    {
      "cell_type": "code",
      "metadata": {
        "id": "ZY-O7lbcqYEu",
        "colab_type": "code",
        "colab": {}
      },
      "source": [
        "# # Read the songs, extract the features and write the data in a csv file\n",
        "\n",
        "# Header for our CSV file\n",
        "\n",
        "header = 'filename chroma_stft rmse spectral_centroid spectral_bandwidth rolloff zero_crossing_rate'\n",
        "for i in range(1, 21):\n",
        "    header += f' mfcc{i}'\n",
        "header += ' label'\n",
        "header = header.split()\n",
        "\n",
        "# Extracting features from Spectrogram: Mel-frequency cepstral coefficients (MFCC), Spectral Centroid, Zero Crossing Rate, Chroma Frequencies, and Spectral Roll-off\n",
        "\n",
        "duree = 30\n",
        "\n",
        "file = open('dataset_'+str(duree)+'s.csv', 'w', newline='') # 'a' for openning an existing file for writing\n",
        "with file:\n",
        "    writer = csv.writer(file,delimiter=';')\n",
        "    writer.writerow(header)\n",
        "\n",
        "for g in genres:\n",
        "    i=1\n",
        "    for filename in os.listdir(f'/content/gdrive/My Drive/Discothèque Mbaye/{g}'):\n",
        "        songname = f'/content/gdrive/My Drive/Discothèque Mbaye/{g}/{filename}'\n",
        "        x, srx = librosa.load(songname, mono=True)\n",
        "        y, sr = librosa.load(songname, mono=True,offset=librosa.get_duration(x)/2, duration=duree)\n",
        "        rmse = librosa.feature.rmse(y=y)\n",
        "        chroma_stft = librosa.feature.chroma_stft(y=y, sr=sr)\n",
        "        spec_cent = librosa.feature.spectral_centroid(y=y, sr=sr)\n",
        "        spec_bw = librosa.feature.spectral_bandwidth(y=y, sr=sr)\n",
        "        rolloff = librosa.feature.spectral_rolloff(y=y, sr=sr)\n",
        "        zcr = librosa.feature.zero_crossing_rate(y)\n",
        "        mfcc = librosa.feature.mfcc(y=y, sr=sr)\n",
        "        filename = 'chanson' + str(i)\n",
        "        to_append = f'{filename} {np.mean(chroma_stft)} {np.mean(rmse)} {np.mean(spec_cent)} {np.mean(spec_bw)} {np.mean(rolloff)} {np.mean(zcr)}'    \n",
        "        for e in mfcc:\n",
        "            to_append += f' {np.mean(e)}'\n",
        "        to_append += f' {g}'\n",
        "        file = open('dataset_'+str(duree)+'s.csv', 'a', newline='')\n",
        "        with file:\n",
        "            writer = csv.writer(file,delimiter=';')\n",
        "            writer.writerow(to_append.split())\n",
        "        i=i+1"
      ],
      "execution_count": 0,
      "outputs": []
    },
    {
      "cell_type": "code",
      "metadata": {
        "id": "Fi8Z86coKZc_",
        "colab_type": "code",
        "outputId": "43ef34f1-51b3-4fb6-a1bc-13a1a44fca6e",
        "colab": {
          "base_uri": "https://localhost:8080/",
          "height": 50
        }
      },
      "source": [
        "# Reading the csv file\n",
        "\n",
        "data = pd.read_csv('/content/dataset_30s.csv', sep=';')\n",
        "data.head()# Dropping unneccesary columns\n",
        "data = data.drop(['filename'],axis=1)\n",
        "\n",
        "# Converting to numeric type\n",
        "numeric = list(data.columns)\n",
        "del numeric[-1]\n",
        "data[numeric] = data[numeric].apply(pd.to_numeric, errors='coerce')\n",
        "\n",
        "#data['label'].unique() # checking we have all the genres\n",
        "\n",
        "# Encoding the Labels\n",
        "genre_list = data.iloc[:, -1]\n",
        "encoder = LabelEncoder()\n",
        "y = encoder.fit_transform(genre_list)#Scaling the Feature columns\n",
        "scaler = StandardScaler()\n",
        "X = scaler.fit_transform(np.array(data.iloc[:, :-1], dtype = float))\n",
        "\n",
        "# Dividing data into training and Testing set\n",
        "X_train, X_test, y_train, y_test = train_test_split(X, y, random_state = 0,test_size=0.3)\n",
        "\n",
        "print(X_train.shape); print(X_test.shape)"
      ],
      "execution_count": 0,
      "outputs": [
        {
          "output_type": "stream",
          "text": [
            "(113, 26)\n",
            "(49, 26)\n"
          ],
          "name": "stdout"
        }
      ]
    },
    {
      "cell_type": "markdown",
      "metadata": {
        "id": "TnpsmFwSaOFL",
        "colab_type": "text"
      },
      "source": [
        "Multi-Layer Perceptron Classifier"
      ]
    },
    {
      "cell_type": "code",
      "metadata": {
        "id": "qHGQIdR6LtSV",
        "colab_type": "code",
        "outputId": "2df36878-b18c-42fd-9193-2210b6088385",
        "colab": {
          "base_uri": "https://localhost:8080/",
          "height": 202
        }
      },
      "source": [
        "# From https://www.pluralsight.com/guides/machine-learning-neural-networks-scikit-learn\n",
        "\n",
        "from sklearn.neural_network import MLPClassifier\n",
        "\n",
        "mlp = MLPClassifier(hidden_layer_sizes=(8,8,8), activation='relu', solver='adam', max_iter=500)\n",
        "y_pred = mlp.fit(X_train,y_train).predict(X_test)\n",
        "#print(confusion_matrix(y_test,predict_test))\n",
        "print(classification_report(y_pred,y_test))"
      ],
      "execution_count": 0,
      "outputs": [
        {
          "output_type": "stream",
          "text": [
            "              precision    recall  f1-score   support\n",
            "\n",
            "           0       0.71      0.77      0.74        22\n",
            "           1       0.00      0.00      0.00         0\n",
            "           2       0.20      0.20      0.20         5\n",
            "           3       0.84      0.73      0.78        22\n",
            "\n",
            "    accuracy                           0.69        49\n",
            "   macro avg       0.44      0.42      0.43        49\n",
            "weighted avg       0.72      0.69      0.70        49\n",
            "\n"
          ],
          "name": "stdout"
        }
      ]
    },
    {
      "cell_type": "markdown",
      "metadata": {
        "id": "EiwMTtORapGE",
        "colab_type": "text"
      },
      "source": [
        "Artificial Neural Networks"
      ]
    },
    {
      "cell_type": "code",
      "metadata": {
        "id": "trbF5wv2i1mb",
        "colab_type": "code",
        "outputId": "b48487d8-ed6f-4916-9484-0e15ed2359f2",
        "colab": {
          "base_uri": "https://localhost:8080/",
          "height": 1000
        }
      },
      "source": [
        "ANN = Sequential()\n",
        "ANN.add(layers.Dense(256, activation='relu', input_shape=(X_train.shape[1],)))\n",
        "ANN.add(layers.Dense(128, activation='relu'))\n",
        "ANN.add(layers.Dense(64, activation='relu'))\n",
        "ANN.add(layers.Dense(10, activation='softmax'))\n",
        "ANN.compile(optimizer='adam',\n",
        "              loss='sparse_categorical_crossentropy',\n",
        "              metrics=['accuracy'])\n",
        "\n",
        "ANN.fit(X_train,y_train,epochs=100,batch_size=128)\n",
        "\n",
        "y_pred = ANN.predict_classes(X_test)\n",
        "print(classification_report(y_pred,y_test))"
      ],
      "execution_count": 0,
      "outputs": [
        {
          "output_type": "stream",
          "text": [
            "Epoch 1/100\n",
            "113/113 [==============================] - 0s 967us/step - loss: 2.3948 - accuracy: 0.0354\n",
            "Epoch 2/100\n",
            "113/113 [==============================] - 0s 43us/step - loss: 2.2143 - accuracy: 0.1504\n",
            "Epoch 3/100\n",
            "113/113 [==============================] - 0s 39us/step - loss: 2.0550 - accuracy: 0.4336\n",
            "Epoch 4/100\n",
            "113/113 [==============================] - 0s 40us/step - loss: 1.9148 - accuracy: 0.6283\n",
            "Epoch 5/100\n",
            "113/113 [==============================] - 0s 44us/step - loss: 1.7854 - accuracy: 0.6991\n",
            "Epoch 6/100\n",
            "113/113 [==============================] - 0s 31us/step - loss: 1.6601 - accuracy: 0.6903\n",
            "Epoch 7/100\n",
            "113/113 [==============================] - 0s 37us/step - loss: 1.5382 - accuracy: 0.6903\n",
            "Epoch 8/100\n",
            "113/113 [==============================] - 0s 34us/step - loss: 1.4208 - accuracy: 0.7257\n",
            "Epoch 9/100\n",
            "113/113 [==============================] - 0s 47us/step - loss: 1.3084 - accuracy: 0.7257\n",
            "Epoch 10/100\n",
            "113/113 [==============================] - 0s 29us/step - loss: 1.2038 - accuracy: 0.7257\n",
            "Epoch 11/100\n",
            "113/113 [==============================] - 0s 34us/step - loss: 1.1086 - accuracy: 0.7168\n",
            "Epoch 12/100\n",
            "113/113 [==============================] - 0s 46us/step - loss: 1.0252 - accuracy: 0.7168\n",
            "Epoch 13/100\n",
            "113/113 [==============================] - 0s 36us/step - loss: 0.9523 - accuracy: 0.7257\n",
            "Epoch 14/100\n",
            "113/113 [==============================] - 0s 51us/step - loss: 0.8887 - accuracy: 0.7434\n",
            "Epoch 15/100\n",
            "113/113 [==============================] - 0s 32us/step - loss: 0.8323 - accuracy: 0.7522\n",
            "Epoch 16/100\n",
            "113/113 [==============================] - 0s 35us/step - loss: 0.7807 - accuracy: 0.7699\n",
            "Epoch 17/100\n",
            "113/113 [==============================] - 0s 32us/step - loss: 0.7326 - accuracy: 0.7699\n",
            "Epoch 18/100\n",
            "113/113 [==============================] - 0s 30us/step - loss: 0.6883 - accuracy: 0.7699\n",
            "Epoch 19/100\n",
            "113/113 [==============================] - 0s 37us/step - loss: 0.6485 - accuracy: 0.8053\n",
            "Epoch 20/100\n",
            "113/113 [==============================] - 0s 38us/step - loss: 0.6132 - accuracy: 0.8496\n",
            "Epoch 21/100\n",
            "113/113 [==============================] - 0s 64us/step - loss: 0.5814 - accuracy: 0.8673\n",
            "Epoch 22/100\n",
            "113/113 [==============================] - 0s 42us/step - loss: 0.5516 - accuracy: 0.8673\n",
            "Epoch 23/100\n",
            "113/113 [==============================] - 0s 30us/step - loss: 0.5224 - accuracy: 0.8584\n",
            "Epoch 24/100\n",
            "113/113 [==============================] - 0s 29us/step - loss: 0.4930 - accuracy: 0.8761\n",
            "Epoch 25/100\n",
            "113/113 [==============================] - 0s 35us/step - loss: 0.4641 - accuracy: 0.8761\n",
            "Epoch 26/100\n",
            "113/113 [==============================] - 0s 33us/step - loss: 0.4365 - accuracy: 0.8761\n",
            "Epoch 27/100\n",
            "113/113 [==============================] - 0s 39us/step - loss: 0.4112 - accuracy: 0.8584\n",
            "Epoch 28/100\n",
            "113/113 [==============================] - 0s 38us/step - loss: 0.3890 - accuracy: 0.8673\n",
            "Epoch 29/100\n",
            "113/113 [==============================] - 0s 39us/step - loss: 0.3696 - accuracy: 0.8938\n",
            "Epoch 30/100\n",
            "113/113 [==============================] - 0s 40us/step - loss: 0.3522 - accuracy: 0.8938\n",
            "Epoch 31/100\n",
            "113/113 [==============================] - 0s 30us/step - loss: 0.3359 - accuracy: 0.9115\n",
            "Epoch 32/100\n",
            "113/113 [==============================] - 0s 62us/step - loss: 0.3205 - accuracy: 0.9292\n",
            "Epoch 33/100\n",
            "113/113 [==============================] - 0s 59us/step - loss: 0.3061 - accuracy: 0.9381\n",
            "Epoch 34/100\n",
            "113/113 [==============================] - 0s 43us/step - loss: 0.2923 - accuracy: 0.9381\n",
            "Epoch 35/100\n",
            "113/113 [==============================] - 0s 38us/step - loss: 0.2787 - accuracy: 0.9381\n",
            "Epoch 36/100\n",
            "113/113 [==============================] - 0s 36us/step - loss: 0.2655 - accuracy: 0.9381\n",
            "Epoch 37/100\n",
            "113/113 [==============================] - 0s 30us/step - loss: 0.2525 - accuracy: 0.9381\n",
            "Epoch 38/100\n",
            "113/113 [==============================] - 0s 30us/step - loss: 0.2398 - accuracy: 0.9381\n",
            "Epoch 39/100\n",
            "113/113 [==============================] - 0s 39us/step - loss: 0.2280 - accuracy: 0.9381\n",
            "Epoch 40/100\n",
            "113/113 [==============================] - 0s 59us/step - loss: 0.2172 - accuracy: 0.9381\n",
            "Epoch 41/100\n",
            "113/113 [==============================] - 0s 61us/step - loss: 0.2071 - accuracy: 0.9381\n",
            "Epoch 42/100\n",
            "113/113 [==============================] - 0s 43us/step - loss: 0.1973 - accuracy: 0.9469\n",
            "Epoch 43/100\n",
            "113/113 [==============================] - 0s 38us/step - loss: 0.1876 - accuracy: 0.9469\n",
            "Epoch 44/100\n",
            "113/113 [==============================] - 0s 33us/step - loss: 0.1781 - accuracy: 0.9558\n",
            "Epoch 45/100\n",
            "113/113 [==============================] - 0s 33us/step - loss: 0.1691 - accuracy: 0.9646\n",
            "Epoch 46/100\n",
            "113/113 [==============================] - 0s 34us/step - loss: 0.1607 - accuracy: 0.9735\n",
            "Epoch 47/100\n",
            "113/113 [==============================] - 0s 34us/step - loss: 0.1528 - accuracy: 0.9735\n",
            "Epoch 48/100\n",
            "113/113 [==============================] - 0s 35us/step - loss: 0.1453 - accuracy: 0.9735\n",
            "Epoch 49/100\n",
            "113/113 [==============================] - 0s 58us/step - loss: 0.1381 - accuracy: 0.9735\n",
            "Epoch 50/100\n",
            "113/113 [==============================] - 0s 39us/step - loss: 0.1310 - accuracy: 0.9823\n",
            "Epoch 51/100\n",
            "113/113 [==============================] - 0s 53us/step - loss: 0.1241 - accuracy: 0.9823\n",
            "Epoch 52/100\n",
            "113/113 [==============================] - 0s 57us/step - loss: 0.1176 - accuracy: 0.9823\n",
            "Epoch 53/100\n",
            "113/113 [==============================] - 0s 37us/step - loss: 0.1117 - accuracy: 0.9823\n",
            "Epoch 54/100\n",
            "113/113 [==============================] - 0s 64us/step - loss: 0.1060 - accuracy: 0.9823\n",
            "Epoch 55/100\n",
            "113/113 [==============================] - 0s 51us/step - loss: 0.1006 - accuracy: 0.9823\n",
            "Epoch 56/100\n",
            "113/113 [==============================] - 0s 36us/step - loss: 0.0956 - accuracy: 0.9912\n",
            "Epoch 57/100\n",
            "113/113 [==============================] - 0s 43us/step - loss: 0.0910 - accuracy: 0.9912\n",
            "Epoch 58/100\n",
            "113/113 [==============================] - 0s 55us/step - loss: 0.0866 - accuracy: 0.9912\n",
            "Epoch 59/100\n",
            "113/113 [==============================] - 0s 76us/step - loss: 0.0823 - accuracy: 0.9912\n",
            "Epoch 60/100\n",
            "113/113 [==============================] - 0s 35us/step - loss: 0.0781 - accuracy: 0.9912\n",
            "Epoch 61/100\n",
            "113/113 [==============================] - 0s 44us/step - loss: 0.0742 - accuracy: 0.9912\n",
            "Epoch 62/100\n",
            "113/113 [==============================] - 0s 44us/step - loss: 0.0704 - accuracy: 0.9912\n",
            "Epoch 63/100\n",
            "113/113 [==============================] - 0s 39us/step - loss: 0.0670 - accuracy: 0.9912\n",
            "Epoch 64/100\n",
            "113/113 [==============================] - 0s 46us/step - loss: 0.0638 - accuracy: 0.9912\n",
            "Epoch 65/100\n",
            "113/113 [==============================] - 0s 33us/step - loss: 0.0606 - accuracy: 0.9912\n",
            "Epoch 66/100\n",
            "113/113 [==============================] - 0s 50us/step - loss: 0.0576 - accuracy: 0.9912\n",
            "Epoch 67/100\n",
            "113/113 [==============================] - 0s 34us/step - loss: 0.0547 - accuracy: 0.9912\n",
            "Epoch 68/100\n",
            "113/113 [==============================] - 0s 48us/step - loss: 0.0520 - accuracy: 0.9912\n",
            "Epoch 69/100\n",
            "113/113 [==============================] - 0s 68us/step - loss: 0.0494 - accuracy: 0.9912\n",
            "Epoch 70/100\n",
            "113/113 [==============================] - 0s 59us/step - loss: 0.0469 - accuracy: 0.9912\n",
            "Epoch 71/100\n",
            "113/113 [==============================] - 0s 44us/step - loss: 0.0446 - accuracy: 0.9912\n",
            "Epoch 72/100\n",
            "113/113 [==============================] - 0s 55us/step - loss: 0.0423 - accuracy: 0.9912\n",
            "Epoch 73/100\n",
            "113/113 [==============================] - 0s 47us/step - loss: 0.0402 - accuracy: 0.9912\n",
            "Epoch 74/100\n",
            "113/113 [==============================] - 0s 34us/step - loss: 0.0382 - accuracy: 0.9912\n",
            "Epoch 75/100\n",
            "113/113 [==============================] - 0s 50us/step - loss: 0.0363 - accuracy: 0.9912\n",
            "Epoch 76/100\n",
            "113/113 [==============================] - 0s 54us/step - loss: 0.0346 - accuracy: 0.9912\n",
            "Epoch 77/100\n",
            "113/113 [==============================] - 0s 54us/step - loss: 0.0329 - accuracy: 1.0000\n",
            "Epoch 78/100\n",
            "113/113 [==============================] - 0s 51us/step - loss: 0.0314 - accuracy: 1.0000\n",
            "Epoch 79/100\n",
            "113/113 [==============================] - 0s 46us/step - loss: 0.0299 - accuracy: 1.0000\n",
            "Epoch 80/100\n",
            "113/113 [==============================] - 0s 42us/step - loss: 0.0284 - accuracy: 1.0000\n",
            "Epoch 81/100\n",
            "113/113 [==============================] - 0s 40us/step - loss: 0.0271 - accuracy: 1.0000\n",
            "Epoch 82/100\n",
            "113/113 [==============================] - 0s 82us/step - loss: 0.0258 - accuracy: 1.0000\n",
            "Epoch 83/100\n",
            "113/113 [==============================] - 0s 57us/step - loss: 0.0246 - accuracy: 1.0000\n",
            "Epoch 84/100\n",
            "113/113 [==============================] - 0s 62us/step - loss: 0.0234 - accuracy: 1.0000\n",
            "Epoch 85/100\n",
            "113/113 [==============================] - 0s 48us/step - loss: 0.0223 - accuracy: 1.0000\n",
            "Epoch 86/100\n",
            "113/113 [==============================] - 0s 53us/step - loss: 0.0213 - accuracy: 1.0000\n",
            "Epoch 87/100\n",
            "113/113 [==============================] - 0s 60us/step - loss: 0.0204 - accuracy: 1.0000\n",
            "Epoch 88/100\n",
            "113/113 [==============================] - 0s 45us/step - loss: 0.0194 - accuracy: 1.0000\n",
            "Epoch 89/100\n",
            "113/113 [==============================] - 0s 28us/step - loss: 0.0186 - accuracy: 1.0000\n",
            "Epoch 90/100\n",
            "113/113 [==============================] - 0s 56us/step - loss: 0.0177 - accuracy: 1.0000\n",
            "Epoch 91/100\n",
            "113/113 [==============================] - 0s 52us/step - loss: 0.0170 - accuracy: 1.0000\n",
            "Epoch 92/100\n",
            "113/113 [==============================] - 0s 60us/step - loss: 0.0162 - accuracy: 1.0000\n",
            "Epoch 93/100\n",
            "113/113 [==============================] - 0s 49us/step - loss: 0.0155 - accuracy: 1.0000\n",
            "Epoch 94/100\n",
            "113/113 [==============================] - 0s 53us/step - loss: 0.0149 - accuracy: 1.0000\n",
            "Epoch 95/100\n",
            "113/113 [==============================] - 0s 39us/step - loss: 0.0142 - accuracy: 1.0000\n",
            "Epoch 96/100\n",
            "113/113 [==============================] - 0s 29us/step - loss: 0.0137 - accuracy: 1.0000\n",
            "Epoch 97/100\n",
            "113/113 [==============================] - 0s 29us/step - loss: 0.0131 - accuracy: 1.0000\n",
            "Epoch 98/100\n",
            "113/113 [==============================] - 0s 39us/step - loss: 0.0126 - accuracy: 1.0000\n",
            "Epoch 99/100\n",
            "113/113 [==============================] - 0s 29us/step - loss: 0.0121 - accuracy: 1.0000\n",
            "Epoch 100/100\n",
            "113/113 [==============================] - 0s 32us/step - loss: 0.0116 - accuracy: 1.0000\n",
            "              precision    recall  f1-score   support\n",
            "\n",
            "           0       0.79      0.73      0.76        26\n",
            "           1       1.00      0.50      0.67         2\n",
            "           2       0.20      0.33      0.25         3\n",
            "           3       0.79      0.83      0.81        18\n",
            "\n",
            "    accuracy                           0.73        49\n",
            "   macro avg       0.70      0.60      0.62        49\n",
            "weighted avg       0.76      0.73      0.74        49\n",
            "\n"
          ],
          "name": "stdout"
        }
      ]
    },
    {
      "cell_type": "markdown",
      "metadata": {
        "id": "D2uDFaRiawzR",
        "colab_type": "text"
      },
      "source": [
        "Multinomial regression"
      ]
    },
    {
      "cell_type": "code",
      "metadata": {
        "id": "-HZOpcDlMF3c",
        "colab_type": "code",
        "outputId": "a51cc51c-3851-4c01-8d17-4cea9baeb083",
        "colab": {
          "base_uri": "https://localhost:8080/",
          "height": 202
        }
      },
      "source": [
        "from sklearn.linear_model import LogisticRegression\n",
        "\n",
        "multi = LogisticRegression(random_state=0).fit(X_train, y_train)\n",
        "y_pred = multi.predict(X_test)\n",
        "print(classification_report(y_pred,y_test))"
      ],
      "execution_count": 0,
      "outputs": [
        {
          "output_type": "stream",
          "text": [
            "              precision    recall  f1-score   support\n",
            "\n",
            "           0       0.71      0.68      0.69        25\n",
            "           1       0.00      0.00      0.00         0\n",
            "           2       0.20      0.50      0.29         2\n",
            "           3       0.68      0.59      0.63        22\n",
            "\n",
            "    accuracy                           0.63        49\n",
            "   macro avg       0.40      0.44      0.40        49\n",
            "weighted avg       0.68      0.63      0.65        49\n",
            "\n"
          ],
          "name": "stdout"
        }
      ]
    },
    {
      "cell_type": "markdown",
      "metadata": {
        "id": "wcRIffXta7cX",
        "colab_type": "text"
      },
      "source": [
        "K-Nearest Neighbors"
      ]
    },
    {
      "cell_type": "code",
      "metadata": {
        "id": "kqpaCpNvXm2B",
        "colab_type": "code",
        "outputId": "fd8711b0-652d-4238-88e3-d6a6748d6dca",
        "colab": {
          "base_uri": "https://localhost:8080/",
          "height": 202
        }
      },
      "source": [
        "# https://scikit-learn.org/stable/modules/neighbors.html#classification\n",
        "# https://scikit-learn.org/stable/auto_examples/neighbors/plot_classification.html#sphx-glr-auto-examples-neighbors-plot-classification-py\n",
        "\n",
        "from sklearn import neighbors, datasets\n",
        "\n",
        "n_neighbors = 10\n",
        "nghbs = neighbors.KNeighborsClassifier(n_neighbors).fit(X_train, y_train)\n",
        "y_pred = nghbs.predict(X_test)\n",
        "print(classification_report(y_pred,y_test))"
      ],
      "execution_count": 0,
      "outputs": [
        {
          "output_type": "stream",
          "text": [
            "              precision    recall  f1-score   support\n",
            "\n",
            "           0       0.75      0.64      0.69        28\n",
            "           1       0.00      0.00      0.00         0\n",
            "           2       0.20      0.50      0.29         2\n",
            "           3       0.68      0.68      0.68        19\n",
            "\n",
            "    accuracy                           0.65        49\n",
            "   macro avg       0.41      0.46      0.42        49\n",
            "weighted avg       0.70      0.65      0.67        49\n",
            "\n"
          ],
          "name": "stdout"
        }
      ]
    },
    {
      "cell_type": "markdown",
      "metadata": {
        "id": "1PN5VKgqbLoG",
        "colab_type": "text"
      },
      "source": [
        "Support Vector Machines"
      ]
    },
    {
      "cell_type": "code",
      "metadata": {
        "id": "_Ud7SS7pXw8p",
        "colab_type": "code",
        "outputId": "d266ca16-70e2-46a1-c0c7-e29a5d59c0f1",
        "colab": {
          "base_uri": "https://localhost:8080/",
          "height": 202
        }
      },
      "source": [
        "from sklearn import svm\n",
        "\n",
        "SVM_model = svm.SVC()#(kernel='linear')\n",
        "SVM_model.fit(X_train,y_train)\n",
        "y_pred = SVM_model.predict(X_test)\n",
        "print(classification_report(y_test,y_pred))"
      ],
      "execution_count": 0,
      "outputs": [
        {
          "output_type": "stream",
          "text": [
            "              precision    recall  f1-score   support\n",
            "\n",
            "           0       0.71      0.83      0.77        24\n",
            "           1       0.00      0.00      0.00         1\n",
            "           2       1.00      0.20      0.33         5\n",
            "           3       0.80      0.84      0.82        19\n",
            "\n",
            "    accuracy                           0.76        49\n",
            "   macro avg       0.63      0.47      0.48        49\n",
            "weighted avg       0.76      0.76      0.73        49\n",
            "\n"
          ],
          "name": "stdout"
        }
      ]
    },
    {
      "cell_type": "markdown",
      "metadata": {
        "id": "PuN2GDEXbTTv",
        "colab_type": "text"
      },
      "source": [
        "Random Forests"
      ]
    },
    {
      "cell_type": "code",
      "metadata": {
        "id": "vSvRbbCFXyte",
        "colab_type": "code",
        "outputId": "e4bf67d7-7849-469b-8b17-187b6f4034a6",
        "colab": {
          "base_uri": "https://localhost:8080/",
          "height": 202
        }
      },
      "source": [
        "from sklearn.ensemble import RandomForestClassifier\n",
        "from sklearn.datasets import make_classification\n",
        "\n",
        "ForAlea = RandomForestClassifier(max_depth=2, random_state=0)\n",
        "y_pred = ForAlea.fit(X_train, y_train).predict(X_test)\n",
        "print(classification_report(y_test,y_pred))"
      ],
      "execution_count": 0,
      "outputs": [
        {
          "output_type": "stream",
          "text": [
            "              precision    recall  f1-score   support\n",
            "\n",
            "           0       0.70      0.79      0.75        24\n",
            "           1       0.00      0.00      0.00         1\n",
            "           2       0.00      0.00      0.00         5\n",
            "           3       0.73      0.84      0.78        19\n",
            "\n",
            "    accuracy                           0.71        49\n",
            "   macro avg       0.36      0.41      0.38        49\n",
            "weighted avg       0.63      0.71      0.67        49\n",
            "\n"
          ],
          "name": "stdout"
        }
      ]
    },
    {
      "cell_type": "markdown",
      "metadata": {
        "id": "3Kd399XPbXrp",
        "colab_type": "text"
      },
      "source": [
        "Naive Bayes"
      ]
    },
    {
      "cell_type": "code",
      "metadata": {
        "id": "b0ODWNxPX0uX",
        "colab_type": "code",
        "outputId": "a431b211-c86c-48af-c0e5-fdb3d5f597e1",
        "colab": {
          "base_uri": "https://localhost:8080/",
          "height": 202
        }
      },
      "source": [
        "from sklearn.naive_bayes import GaussianNB\n",
        "gnb = GaussianNB()\n",
        "y_pred = gnb.fit(X_train, y_train).predict(X_test)\n",
        "print(classification_report(y_pred,y_test))"
      ],
      "execution_count": 0,
      "outputs": [
        {
          "output_type": "stream",
          "text": [
            "              precision    recall  f1-score   support\n",
            "\n",
            "           0       0.38      0.45      0.41        20\n",
            "           1       1.00      0.11      0.20         9\n",
            "           2       0.20      0.20      0.20         5\n",
            "           3       0.47      0.60      0.53        15\n",
            "\n",
            "    accuracy                           0.41        49\n",
            "   macro avg       0.51      0.34      0.33        49\n",
            "weighted avg       0.50      0.41      0.39        49\n",
            "\n"
          ],
          "name": "stdout"
        }
      ]
    },
    {
      "cell_type": "markdown",
      "metadata": {
        "id": "Nbd8IaisbbZI",
        "colab_type": "text"
      },
      "source": [
        "Linear Discriminant Analysis"
      ]
    },
    {
      "cell_type": "code",
      "metadata": {
        "id": "SM5TDvJsX3Sg",
        "colab_type": "code",
        "outputId": "38b0c5c4-6d4f-4173-be7d-482d030a3b9e",
        "colab": {
          "base_uri": "https://localhost:8080/",
          "height": 202
        }
      },
      "source": [
        "from sklearn.discriminant_analysis import LinearDiscriminantAnalysis\n",
        "\n",
        "LinDis = LinearDiscriminantAnalysis()\n",
        "y_pred = LinDis.fit(X_train, y_train).predict(X_test)\n",
        "print(classification_report(y_pred,y_test))"
      ],
      "execution_count": 0,
      "outputs": [
        {
          "output_type": "stream",
          "text": [
            "              precision    recall  f1-score   support\n",
            "\n",
            "           0       0.79      0.66      0.72        29\n",
            "           1       1.00      0.50      0.67         2\n",
            "           2       0.20      0.50      0.29         2\n",
            "           3       0.58      0.69      0.63        16\n",
            "\n",
            "    accuracy                           0.65        49\n",
            "   macro avg       0.64      0.59      0.57        49\n",
            "weighted avg       0.71      0.65      0.67        49\n",
            "\n"
          ],
          "name": "stdout"
        }
      ]
    },
    {
      "cell_type": "markdown",
      "metadata": {
        "id": "ErUCrzoebkkY",
        "colab_type": "text"
      },
      "source": [
        "Convolutional Neural Networks"
      ]
    },
    {
      "cell_type": "code",
      "metadata": {
        "id": "7oyk3h1Xr4S6",
        "colab_type": "code",
        "outputId": "930cf574-6f38-4cee-c200-63077f54feb1",
        "colab": {
          "base_uri": "https://localhost:8080/",
          "height": 104
        }
      },
      "source": [
        "# https://levelup.gitconnected.com/audio-data-analysis-using-deep-learning-with-python-part-2-4a1f40d3708d\n",
        "# https://missinglink.ai/guides/convolutional-neural-networks/python-convolutional-neural-network-creating-cnn-keras-tensorflow-plain-python/\n",
        "\n",
        "# Extracting spectograms\n",
        "\n",
        "cmap = plt.get_cmap('inferno')\n",
        "plt.figure(figsize=(8,8))\n",
        "\n",
        "for g in genres:\n",
        "    pathlib.Path(f'img_data/{g}').mkdir(parents=True, exist_ok=True)\n",
        "    i=1\n",
        "    for filename in os.listdir(f'/content/gdrive/My Drive/Discothèque Mbaye/{g}'):\n",
        "        songname = f'/content/gdrive/My Drive/Discothèque Mbaye/{g}/{filename}'\n",
        "        x, srx = librosa.load(songname, mono=True)\n",
        "        y, sr = librosa.load(songname, mono=True,offset=librosa.get_duration(x)/2, duration=duree)\n",
        "        plt.specgram(y, NFFT=2048, Fs=2, Fc=0, noverlap=128, cmap=cmap, sides='default', mode='default', scale='dB');\n",
        "        plt.axis('off');\n",
        "        filename = 'chanson' + str(i)\n",
        "        plt.savefig(f'img_data/{g}/{filename}.png')\n",
        "        plt.clf()\n",
        "        i=i+1\n",
        "\n",
        "model = Sequential()\n",
        "model.add(Conv2D(64, kernel_size=3, activation='relu', input_shape=(28,28,1)))\n",
        "model.add(Conv2D(32, kernel_size=3, activation='relu'))\n",
        "model.add(Flatten())\n",
        "model.add(Dense(10, activation='softmax'))"
      ],
      "execution_count": 0,
      "outputs": [
        {
          "output_type": "stream",
          "text": [
            "WARNING:tensorflow:From /tensorflow-1.15.2/python3.6/tensorflow_core/python/ops/resource_variable_ops.py:1630: calling BaseResourceVariable.__init__ (from tensorflow.python.ops.resource_variable_ops) with constraint is deprecated and will be removed in a future version.\n",
            "Instructions for updating:\n",
            "If using Keras pass *_constraint arguments to layers.\n"
          ],
          "name": "stdout"
        },
        {
          "output_type": "display_data",
          "data": {
            "text/plain": [
              "<Figure size 576x576 with 0 Axes>"
            ]
          },
          "metadata": {
            "tags": []
          }
        }
      ]
    },
    {
      "cell_type": "code",
      "metadata": {
        "id": "yZ9rax7xswk5",
        "colab_type": "code",
        "outputId": "777094ec-3afa-408a-d8fc-6d9c700e35f4",
        "colab": {
          "base_uri": "https://localhost:8080/",
          "height": 34
        }
      },
      "source": [
        "# Split the data into the train set and test set\n",
        "#!pip install split_folders\n",
        "\n",
        "import split_folders\n",
        "\n",
        "split_folders.ratio('/content/img_data', output=\"/content/data\", seed=0, ratio=(.7, .3))"
      ],
      "execution_count": 0,
      "outputs": [
        {
          "output_type": "stream",
          "text": [
            "Copying files: 162 files [00:00, 1314.73 files/s]\n"
          ],
          "name": "stderr"
        }
      ]
    },
    {
      "cell_type": "code",
      "metadata": {
        "id": "KXPBTci90eI9",
        "colab_type": "code",
        "outputId": "0ace8257-6887-4eb0-9cf1-bd2530a8eea7",
        "colab": {
          "base_uri": "https://localhost:8080/",
          "height": 50
        }
      },
      "source": [
        "from keras.preprocessing.image import ImageDataGenerator\n",
        "\n",
        "train_datagen = ImageDataGenerator(\n",
        "        rescale=1./255, # rescale all pixel values from 0-255, so after this step all our pixel values are in range (0,1)\n",
        "        shear_range=0.2, #to apply some random tranfromations\n",
        "        zoom_range=0.2, #to apply zoom\n",
        "        horizontal_flip=True) # image will be flipped horizontally\n",
        "\n",
        "test_datagen = ImageDataGenerator(rescale=1./255)\n",
        "\n",
        "training_set = train_datagen.flow_from_directory(\n",
        "        '/content/data/train',\n",
        "        target_size=(64, 64),\n",
        "        batch_size=25,\n",
        "        classes = genres,\n",
        "        class_mode='categorical',\n",
        "        shuffle = False)\n",
        "\n",
        "test_set = test_datagen.flow_from_directory(\n",
        "        '/content/data/val',\n",
        "        target_size=(64, 64),\n",
        "        batch_size=25,\n",
        "        classes = genres,\n",
        "        class_mode='categorical',\n",
        "        shuffle = False )"
      ],
      "execution_count": 0,
      "outputs": [
        {
          "output_type": "stream",
          "text": [
            "Found 112 images belonging to 4 classes.\n",
            "Found 50 images belonging to 4 classes.\n"
          ],
          "name": "stdout"
        }
      ]
    },
    {
      "cell_type": "code",
      "metadata": {
        "id": "kSx0zueksMPu",
        "colab_type": "code",
        "colab": {}
      },
      "source": [
        "model = Sequential()\n",
        "input_shape=(64, 64, 3)\n",
        "\n",
        "#1st hidden layer\n",
        "model.add(Conv2D(32, (3, 3), strides=(2, 2), input_shape=input_shape))\n",
        "model.add(AveragePooling2D((2, 2), strides=(2,2)))\n",
        "model.add(Activation('relu'))\n",
        "\n",
        "#2nd hidden layer\n",
        "model.add(Conv2D(64, (3, 3), padding=\"same\"))\n",
        "model.add(AveragePooling2D((2, 2), strides=(2,2)))\n",
        "model.add(Activation('relu'))\n",
        "\n",
        "#3rd hidden layer\n",
        "model.add(Conv2D(64, (3, 3), padding=\"same\"))\n",
        "model.add(AveragePooling2D((2, 2), strides=(2,2)))\n",
        "model.add(Activation('relu'))\n",
        "\n",
        "#Flatten\n",
        "model.add(Flatten())\n",
        "model.add(Dropout(rate=0.5))\n",
        "\n",
        "#Add fully connected layer.\n",
        "model.add(Dense(64))\n",
        "model.add(Activation('relu'))\n",
        "model.add(Dropout(rate=0.5))\n",
        "\n",
        "#Output layer\n",
        "model.add(Dense(4))\n",
        "model.add(Activation('softmax'))\n",
        "#model.summary()\n",
        "\n",
        "epochs = 100\n",
        "batch_size = 25\n",
        "learning_rate = 0.01\n",
        "decay_rate = learning_rate / epochs\n",
        "momentum = 0.9\n",
        "sgd = SGD(lr=learning_rate, momentum=momentum, decay=decay_rate, nesterov=False)\n",
        "model.compile(optimizer=\"sgd\", loss=\"categorical_crossentropy\", metrics=['accuracy'])\n",
        "\n",
        "model.fit_generator(training_set,\n",
        "        #steps_per_epoch=25,\n",
        "        epochs=100 #,validation_data=test_set,validation_steps=25\n",
        "        )"
      ],
      "execution_count": 0,
      "outputs": []
    },
    {
      "cell_type": "code",
      "metadata": {
        "id": "wVbChGF4Ngpg",
        "colab_type": "code",
        "outputId": "cb7c66ba-dc82-417c-c495-4d2fe94c4ac6",
        "colab": {
          "base_uri": "https://localhost:8080/",
          "height": 218
        }
      },
      "source": [
        "test_set.reset()\n",
        "y_pred = model.predict_generator(test_set, verbose=1)\n",
        "\n",
        "predicted_class_indices=np.argmax(y_pred,axis=1)\n",
        "print(classification_report(test_set.classes,predicted_class_indices))"
      ],
      "execution_count": 0,
      "outputs": [
        {
          "output_type": "stream",
          "text": [
            "2/2 [==============================] - 1s 362ms/step\n",
            "              precision    recall  f1-score   support\n",
            "\n",
            "           0       0.00      0.00      0.00        19\n",
            "           1       0.00      0.00      0.00         8\n",
            "           2       0.40      1.00      0.57        20\n",
            "           3       0.00      0.00      0.00         3\n",
            "\n",
            "    accuracy                           0.40        50\n",
            "   macro avg       0.10      0.25      0.14        50\n",
            "weighted avg       0.16      0.40      0.23        50\n",
            "\n"
          ],
          "name": "stdout"
        }
      ]
    }
  ]
}