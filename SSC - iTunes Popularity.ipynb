{
 "cells": [
  {
   "cell_type": "code",
   "execution_count": 1,
   "metadata": {},
   "outputs": [],
   "source": [
    "# # # SSC 8th edition case study 2, poster competition\n",
    "\n",
    "# Link for description: https://ssc.ca/en/case-study/predicting-podcast-popularity-itunes"
   ]
  },
  {
   "cell_type": "code",
   "execution_count": null,
   "metadata": {},
   "outputs": [],
   "source": [
    "# Packages\n",
    "\n",
    "import pandas as pd\n",
    "import csv"
   ]
  },
  {
   "cell_type": "code",
   "execution_count": 2,
   "metadata": {},
   "outputs": [],
   "source": [
    "# # Importing data sets\n",
    "\n",
    "data_test = pd.read_csv('C:/Users/m_loudeg/Downloads/podcast_data_unlabelled_test.csv', delimiter=',')\n",
    "data_train = pd.read_csv('C:/Users/m_loudeg/Downloads/podcast_data.csv', delimiter=',')"
   ]
  },
  {
   "cell_type": "code",
   "execution_count": 3,
   "metadata": {},
   "outputs": [
    {
     "data": {
      "text/plain": [
       "((462885, 9), (1408901, 10))"
      ]
     },
     "execution_count": 3,
     "metadata": {},
     "output_type": "execute_result"
    }
   ],
   "source": [
    "data_test.shape,data_train.shape"
   ]
  },
  {
   "cell_type": "code",
   "execution_count": 4,
   "metadata": {},
   "outputs": [
    {
     "data": {
      "text/plain": [
       "Index(['title', 'summary', 'subcategory', 'artist', 'date', 'hour', 'release',\n",
       "       'rating_value', 'number_of_reviews', 'url'],\n",
       "      dtype='object')"
      ]
     },
     "execution_count": 4,
     "metadata": {},
     "output_type": "execute_result"
    }
   ],
   "source": [
    "data_train.columns"
   ]
  },
  {
   "cell_type": "code",
   "execution_count": 5,
   "metadata": {},
   "outputs": [
    {
     "data": {
      "text/plain": [
       "Index(['title', 'summary', 'subcategory', 'artist', 'date', 'hour', 'release',\n",
       "       'rating_value', 'url'],\n",
       "      dtype='object')"
      ]
     },
     "execution_count": 5,
     "metadata": {},
     "output_type": "execute_result"
    }
   ],
   "source": [
    "data_test.columns"
   ]
  },
  {
   "cell_type": "code",
   "execution_count": 6,
   "metadata": {},
   "outputs": [
    {
     "data": {
      "text/plain": [
       "pandas.core.frame.DataFrame"
      ]
     },
     "execution_count": 6,
     "metadata": {},
     "output_type": "execute_result"
    }
   ],
   "source": [
    "type(data_train)"
   ]
  },
  {
   "cell_type": "code",
   "execution_count": 7,
   "metadata": {},
   "outputs": [
    {
     "data": {
      "text/plain": [
       "count        1408901\n",
       "unique            85\n",
       "top       Technology\n",
       "freq          144228\n",
       "Name: subcategory, dtype: object"
      ]
     },
     "execution_count": 7,
     "metadata": {},
     "output_type": "execute_result"
    }
   ],
   "source": [
    "# Are subcategories the same in the two data sets?\n",
    "\n",
    "data_train.subcategory.describe()"
   ]
  },
  {
   "cell_type": "code",
   "execution_count": 8,
   "metadata": {},
   "outputs": [
    {
     "data": {
      "text/plain": [
       "array(['Music', 'Comedy', 'Music Interviews', 'Music History',\n",
       "       'Education for Kids', 'Design', 'Personal Journals',\n",
       "       'Fashion & Beauty', 'Food', 'Visual Arts', 'Arts', 'Documentary',\n",
       "       'Technology', 'Tech News', 'Courses', 'Language Learning',\n",
       "       'Self-Improvement', 'Education', 'How To', 'Society & Culture',\n",
       "       'Relationships', 'Christianity', 'Religion & Spirituality',\n",
       "       'Spirituality', 'Judaism', 'Philosophy', 'Places & Travel',\n",
       "       'Religion', 'Buddhism', 'Books', 'Performing Arts', 'Investing',\n",
       "       'Entrepreneurship', 'Business', 'Careers', 'Hinduism', 'Marketing',\n",
       "       'Management', 'True Crime', 'Sports', 'Politics', 'Life Sciences',\n",
       "       'News', 'Drama', 'Mental Health', 'Daily News', 'Health & Fitness',\n",
       "       'History', 'Fantasy Sports', 'Kids & Family', 'Pets & Animals',\n",
       "       'Parenting', 'Comedy Interviews', 'Science', 'News Commentary',\n",
       "       'Science Fiction', 'Wilderness', 'TV & Film', 'Stories for Kids',\n",
       "       'Improv', 'Social Sciences', 'Fiction', 'Film Reviews',\n",
       "       'After Shows', 'Film History', 'TV Reviews', 'Film Interviews',\n",
       "       'Wrestling', 'Natural Sciences', 'Basketball', 'Music Commentary',\n",
       "       'Sports News', 'Islam', 'Nutrition', 'Automotive', 'Home & Garden',\n",
       "       'Nature', 'Stand-Up', 'Medicine', 'Non-Profit', 'Podcasts',\n",
       "       'Comedy Fiction', 'Alternative Health', 'Leisure', 'Astronomy'],\n",
       "      dtype=object)"
      ]
     },
     "execution_count": 8,
     "metadata": {},
     "output_type": "execute_result"
    }
   ],
   "source": [
    "data_train.subcategory.unique()"
   ]
  },
  {
   "cell_type": "code",
   "execution_count": 9,
   "metadata": {},
   "outputs": [
    {
     "data": {
      "text/plain": [
       "count         462885\n",
       "unique            79\n",
       "top       Technology\n",
       "freq           45481\n",
       "Name: subcategory, dtype: object"
      ]
     },
     "execution_count": 9,
     "metadata": {},
     "output_type": "execute_result"
    }
   ],
   "source": [
    "data_test.subcategory.describe()"
   ]
  },
  {
   "cell_type": "code",
   "execution_count": 10,
   "metadata": {},
   "outputs": [
    {
     "data": {
      "text/plain": [
       "array(['TV & Film', 'History', 'Entrepreneurship', 'Language Learning',\n",
       "       'Self-Improvement', 'Society & Culture', 'Business', 'Food',\n",
       "       'Investing', 'Arts', 'Books', 'Christianity', 'Improv',\n",
       "       'Performing Arts', 'Visual Arts', 'Education', 'Design',\n",
       "       'Fashion & Beauty', 'Careers', 'Management', 'Marketing',\n",
       "       'Documentary', 'Personal Journals', 'Philosophy',\n",
       "       'Places & Travel', 'Relationships', 'Technology', 'Spirituality',\n",
       "       'Judaism', 'Religion & Spirituality', 'Courses', 'How To',\n",
       "       'Buddhism', 'Religion', 'Islam', 'Kids & Family',\n",
       "       'Education for Kids', 'Stories for Kids', 'Parenting',\n",
       "       'Pets & Animals', 'Music Commentary', 'Music', 'Music Interviews',\n",
       "       'Hinduism', 'Music History', 'Comedy Interviews', 'Comedy',\n",
       "       'Stand-Up', 'Basketball', 'Business News', 'Football',\n",
       "       'True Crime', 'News', 'Health & Fitness', 'Sports', 'Nutrition',\n",
       "       'Medicine', 'Politics', 'Science', 'Wilderness',\n",
       "       'Entertainment News', 'Natural Sciences', 'Drama',\n",
       "       'News Commentary', 'Life Sciences', 'Mental Health', 'Daily News',\n",
       "       'Social Sciences', 'After Shows', 'Film Reviews', 'TV Reviews',\n",
       "       'Film Interviews', 'Film History', 'Science Fiction', 'Fiction',\n",
       "       'Astronomy', 'Sports News', 'Automotive', 'Alternative Health'],\n",
       "      dtype=object)"
      ]
     },
     "execution_count": 10,
     "metadata": {},
     "output_type": "execute_result"
    }
   ],
   "source": [
    "data_test.subcategory.unique()"
   ]
  },
  {
   "cell_type": "code",
   "execution_count": 11,
   "metadata": {},
   "outputs": [
    {
     "name": "stdout",
     "output_type": "stream",
     "text": [
      "Business News\n",
      "Football\n",
      "Entertainment News\n"
     ]
    }
   ],
   "source": [
    "# subcategories of the test (unlabelled) that do not appear in the training data set\n",
    "\n",
    "for i in data_test.subcategory.unique():\n",
    "    if not(i in data_train.subcategory.unique()):\n",
    "        print(i)\n",
    "        \n",
    "# No: subcategories 'Business News', 'Football', and 'Entertainment News' are in the test, but not the training data sets."
   ]
  },
  {
   "cell_type": "code",
   "execution_count": 13,
   "metadata": {},
   "outputs": [],
   "source": [
    "#pd.DataFrame({'subcategory': data_train.subcategory.unique()}).sort_values(by='subcategory')"
   ]
  },
  {
   "cell_type": "code",
   "execution_count": 18,
   "metadata": {},
   "outputs": [
    {
     "data": {
      "text/plain": [
       "0                The Watch\n",
       "1    Reality Steve Podcast\n",
       "2          Challenge Mania\n",
       "3         American Scandal\n",
       "4       THE ED MYLETT SHOW\n",
       "Name: title, dtype: object"
      ]
     },
     "execution_count": 18,
     "metadata": {},
     "output_type": "execute_result"
    }
   ],
   "source": [
    "# # Descriptive stat"
   ]
  },
  {
   "cell_type": "code",
   "execution_count": null,
   "metadata": {},
   "outputs": [],
   "source": [
    "# # Text mining\n",
    "\n",
    "# Help: https://medium.com/towards-artificial-intelligence/text-mining-in-python-steps-and-examples-78b3f8fd913b"
   ]
  },
  {
   "cell_type": "code",
   "execution_count": 19,
   "metadata": {},
   "outputs": [],
   "source": [
    "# Importing necessary library\n",
    "\n",
    "import numpy as np\n",
    "import nltk\n",
    "import os\n",
    "import nltk.corpus"
   ]
  },
  {
   "cell_type": "code",
   "execution_count": 20,
   "metadata": {},
   "outputs": [],
   "source": [
    "# Importing word_tokenize from nltk\n",
    "from nltk.tokenize import word_tokenize"
   ]
  },
  {
   "cell_type": "code",
   "execution_count": 26,
   "metadata": {},
   "outputs": [
    {
     "name": "stderr",
     "output_type": "stream",
     "text": [
      "[nltk_data] Downloading package punkt to\n",
      "[nltk_data]     C:\\Users\\m_loudeg\\AppData\\Roaming\\nltk_data...\n",
      "[nltk_data]   Unzipping tokenizers\\punkt.zip.\n"
     ]
    },
    {
     "data": {
      "text/plain": [
       "True"
      ]
     },
     "execution_count": 26,
     "metadata": {},
     "output_type": "execute_result"
    }
   ],
   "source": [
    "nltk.download('punkt')"
   ]
  },
  {
   "cell_type": "code",
   "execution_count": 27,
   "metadata": {},
   "outputs": [],
   "source": [
    "# Passing the string text into word tokenize for breaking the sentences\n",
    "token = word_tokenize(data_train.summary[0])"
   ]
  },
  {
   "cell_type": "code",
   "execution_count": 29,
   "metadata": {},
   "outputs": [
    {
     "data": {
      "text/plain": [
       "FreqDist({',': 9, '(': 6, ')': 6, 'by': 5, '.': 4, 'of': 3, 'a': 2, 'per': 2, 'dissecting': 2, 'the': 2, ...})"
      ]
     },
     "execution_count": 29,
     "metadata": {},
     "output_type": "execute_result"
    }
   ],
   "source": [
    "# finding the frequency distinct in the tokens\n",
    "# Importing FreqDist library from nltk and passing token into FreqDist\n",
    "from nltk.probability import FreqDist\n",
    "fdist = FreqDist(token)\n",
    "fdist"
   ]
  },
  {
   "cell_type": "code",
   "execution_count": 30,
   "metadata": {},
   "outputs": [
    {
     "data": {
      "text/plain": [
       "[(',', 9),\n",
       " ('(', 6),\n",
       " (')', 6),\n",
       " ('by', 5),\n",
       " ('.', 4),\n",
       " ('of', 3),\n",
       " ('a', 2),\n",
       " ('per', 2),\n",
       " ('dissecting', 2),\n",
       " ('the', 2)]"
      ]
     },
     "execution_count": 30,
     "metadata": {},
     "output_type": "execute_result"
    }
   ],
   "source": [
    "# To find the frequency of top 10 words\n",
    "fdist.most_common(10)"
   ]
  }
 ],
 "metadata": {
  "kernelspec": {
   "display_name": "Python 3",
   "language": "python",
   "name": "python3"
  },
  "language_info": {
   "codemirror_mode": {
    "name": "ipython",
    "version": 3
   },
   "file_extension": ".py",
   "mimetype": "text/x-python",
   "name": "python",
   "nbconvert_exporter": "python",
   "pygments_lexer": "ipython3",
   "version": "3.7.4"
  }
 },
 "nbformat": 4,
 "nbformat_minor": 2
}
