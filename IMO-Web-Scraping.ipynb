{
 "cells": [
  {
   "cell_type": "code",
   "execution_count": 1,
   "metadata": {},
   "outputs": [],
   "source": [
    "# # # # Web scraping: Africa in International Math Olympiads # # # # "
   ]
  },
  {
   "cell_type": "code",
   "execution_count": 64,
   "metadata": {},
   "outputs": [],
   "source": [
    "import requests\n",
    "import numpy as np\n",
    "from bs4 import BeautifulSoup"
   ]
  },
  {
   "cell_type": "code",
   "execution_count": 65,
   "metadata": {},
   "outputs": [],
   "source": [
    "# # Data about performance of countries at the IMO\n",
    "\n",
    "URL_imo = 'https://www.imo-official.org/results.aspx'\n",
    "page_imo = requests.get(URL_imo)\n",
    "imo = BeautifulSoup(page_imo.content, 'html.parser')\n",
    "results_imo = imo.find(id='main')\n",
    "\n",
    "countries_imo = results_imo.find_all('tr')\n",
    "countries_imo.pop(0)\n",
    "countries_imo.pop(0)\n",
    "\n",
    "year = [results_imo.find_all('tr')[0]('th')[i]('a')[0]['title'][4:] for i in range(1,len(results_imo.find_all('tr')[0]('th'))-1)]\n",
    "code = [0 for i in range(len(countries_imo))] # country codes\n",
    "name = [0 for i in range(len(countries_imo))] # country names\n",
    "data = [[0 for y in year] for i in code] # country performance at IMO\n",
    "\n",
    "for i in range(len(countries_imo)):\n",
    "    code[i] = countries_imo[i].a.text\n",
    "    name[i] = countries_imo[i].a['title']\n",
    "    \n",
    "for c in range(len(code)):\n",
    "    for y in range(len(year)):\n",
    "        if not (countries_imo[c].find_all('td')[y+1].a is None): # making sure <a> exists\n",
    "            if (\"team_r.aspx?\" in countries_imo[c].find_all('td')[y+1].a[\"href\"]): # if the country c participated the year y\n",
    "                data[c][y] = countries_imo[c].find_all('td')[y+1].a.text"
   ]
  },
  {
   "cell_type": "code",
   "execution_count": 66,
   "metadata": {},
   "outputs": [],
   "source": [
    "# # African countries\n",
    "\n",
    "URL_africa = 'https://allafrica.com/misc/sitemap/countries.html' # list of African countries\n",
    "page_africa = requests.get(URL_africa)\n",
    "africa = BeautifulSoup(page_africa.content, 'html.parser')\n",
    "results_africa = africa.find(class_='category-grid')\n",
    "countries_africa = [results_africa.find_all('a')[c].text.replace(u'\\xa0', u' ') for c in range(1,len(results_africa.find_all('a')))]"
   ]
  },
  {
   "cell_type": "code",
   "execution_count": 67,
   "metadata": {},
   "outputs": [],
   "source": [
    "# # Need to identify African countries (linking the two data bases)\n",
    "\n",
    "#african_participant = [0 for c in name] # value 0 if African country never participated to IMO\n",
    "african_participant = []\n",
    "\n",
    "i=0\n",
    "for c in range(len(name)):\n",
    "    if name[c] in countries_africa:\n",
    "        #african_participant[c] = 1 # value 1 if African country  participated to at least one IMO edition\n",
    "        african_participant.append(c) # their position in IMO countries list ('name')\n",
    "    i=i+1\n",
    "\n",
    "    "
   ]
  },
  {
   "cell_type": "code",
   "execution_count": 68,
   "metadata": {},
   "outputs": [
    {
     "data": {
      "text/plain": [
       "19"
      ]
     },
     "execution_count": 68,
     "metadata": {},
     "output_type": "execute_result"
    }
   ],
   "source": []
  }
 ],
 "metadata": {
  "kernelspec": {
   "display_name": "Python 3",
   "language": "python",
   "name": "python3"
  },
  "language_info": {
   "codemirror_mode": {
    "name": "ipython",
    "version": 3
   },
   "file_extension": ".py",
   "mimetype": "text/x-python",
   "name": "python",
   "nbconvert_exporter": "python",
   "pygments_lexer": "ipython3",
   "version": "3.7.1"
  }
 },
 "nbformat": 4,
 "nbformat_minor": 2
}
