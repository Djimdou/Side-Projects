{
  "nbformat": 4,
  "nbformat_minor": 0,
  "metadata": {
    "colab": {
      "name": "Dico Mbay.ipynb",
      "provenance": [],
      "collapsed_sections": [],
      "authorship_tag": "ABX9TyO07rF13roI5Oh3Jc2TeiC2"
    },
    "kernelspec": {
      "name": "python3",
      "display_name": "Python 3"
    }
  },
  "cells": [
    {
      "cell_type": "code",
      "metadata": {
        "id": "iZBjcBLoxlBS",
        "colab_type": "code",
        "colab": {}
      },
      "source": [
        "import requests\n",
        "from bs4 import BeautifulSoup\n",
        "#!pip install audioscrape\n",
        "#import audioscrape"
      ],
      "execution_count": 1,
      "outputs": []
    },
    {
      "cell_type": "code",
      "metadata": {
        "id": "hqwITPf94wzL",
        "colab_type": "code",
        "colab": {}
      },
      "source": [
        "URL = 'http://morkegbooks.com/Services/World/Languages/SaraBagirmi/SoundDictionary/Mbay/'\n",
        "page = requests.get(URL)\n",
        "dico_mbaye = BeautifulSoup(page.content, 'html.parser').find(id='dict-content')\n",
        "phrases = dico_mbaye.find_all('div',{\"class\": \"def\"})#.find_all('span',{\"class\": \"word\"})"
      ],
      "execution_count": 2,
      "outputs": []
    },
    {
      "cell_type": "markdown",
      "metadata": {
        "id": "EKkh4WX6OgSl",
        "colab_type": "text"
      },
      "source": [
        "Structure of the information"
      ]
    },
    {
      "cell_type": "code",
      "metadata": {
        "id": "hgI5KE2D9qBs",
        "colab_type": "code",
        "colab": {}
      },
      "source": [
        "word = ['' for i in range(len(phrases))]\n",
        "alternative = ['' for i in range(len(phrases))]\n",
        "synonym = ['' for i in range(len(phrases))]\n",
        "borrow_language = ['' for i in range(len(phrases))]\n",
        "phrase_type = ['' for i in range(len(phrases))]\n",
        "\n",
        "for i in range(len(phrases)):\n",
        "\n",
        "# Phrases, words, main entries and alternative spellings\n",
        "\n",
        "  end_word =  phrases[i].span.text.find('\\n',2)\n",
        "  if (phrases[i].span.text.find('\\n',1) != phrases[i].span.text.find('\\n',2)):# if the text is in the form \"\\n\\n à\\n\\n\"\n",
        "    begin_word = phrases[i].span.text.find('\\n',1)\n",
        "    word[i] = phrases[i].span.text[(begin_word+2):end_word].replace(\" \", \"\").split(\",\")\n",
        "  else:# if the text is in the form \"\\n-á\\n\"\n",
        "    begin_word = phrases[i].span.text.find('\\n')\n",
        "    word[i] = phrases[i].span.text[(begin_word+1):end_word].replace(\" \", \"\").split(\",\")\n",
        "\n",
        "# Alternative spellings\n",
        "\n",
        "  if (phrases[i].span.text.find('[') != -1): # there is an alternative spelling\n",
        "    begin_alter = phrases[i].span.text.find('[')\n",
        "    end_alter = phrases[i].span.text.find(']')\n",
        "    alternative[i] = phrases[i].span.text[(begin_alter+1):end_alter]\n",
        "\n",
        "# Synonyms\n",
        "\n",
        "  if (phrases[i].span.text.find('Syn:') != -1):\n",
        "    begin_synonym = phrases[i].span.text.find('Syn:')\n",
        "    end_synonym = phrases[i].span.text.find(')')\n",
        "    synonym[i] = phrases[i].span.text[(begin_synonym+5):end_synonym].replace(\"=\", \"\")\n",
        "\n",
        "# Borrowings\n",
        "\n",
        "  if (phrases[i].span.text.find(\"Arabic\")>0):\n",
        "    borrow_language[i] = \"Arabic\"\n",
        "  if (phrases[i].span.text.find(\"French\")>0):\n",
        "    borrow_language[i] = \"French\"\n",
        "  if (phrases[i].span.text.find(\"Sango\")>0):\n",
        "    borrow_language[i] = \"Sango\"\n",
        "  if (phrases[i].span.text.find(\"Bagirmi\")>0):\n",
        "    borrow_language[i] = \"Bagirmi\"\n",
        "\n",
        "# Types\n",
        "\n",
        "  phrase_type[i] = [phrases[i].find_all('span',{\"class\": \"type\"})[j].text.replace(\" \", \"\") for j in range(len(phrases[i].find_all('span',{\"class\": \"type\"})))]\n",
        "\n",
        "# Meaning\n",
        "\n"
      ],
      "execution_count": 3,
      "outputs": []
    },
    {
      "cell_type": "code",
      "metadata": {
        "id": "CnwBZ3Cmtl9L",
        "colab_type": "code",
        "colab": {}
      },
      "source": [
        ""
      ],
      "execution_count": null,
      "outputs": []
    },
    {
      "cell_type": "code",
      "metadata": {
        "id": "i0Mbgj3u4b_b",
        "colab_type": "code",
        "colab": {}
      },
      "source": [
        ""
      ],
      "execution_count": 85,
      "outputs": []
    },
    {
      "cell_type": "code",
      "metadata": {
        "id": "RCEjPcYKtlWO",
        "colab_type": "code",
        "colab": {}
      },
      "source": [
        "meaning = ['' for i in range(len(phrases))];\n",
        "\n",
        "for i in range(len(phrases)):\n",
        "  #i=0;\n",
        "  mean = ['' for j in range(len(phrase_type[i]))];\n",
        "                            \n",
        "  begin = 0;\n",
        "\n",
        "  for j in range(len(phrase_type[i])):\n",
        "    #j=1;\n",
        "    begin = phrases[i].text.find(phrase_type[i][j],begin)+len(phrase_type[i][j]);\n",
        "    end = phrases[i].text.find('.',begin);\n",
        "    #print(phrases[i].text[begin:end].replace('\\n','').strip())\n",
        "    mean[j] = phrases[i].text[begin:end].replace('\\n','').strip()\n",
        "\n",
        "  meaning[i] = mean"
      ],
      "execution_count": 96,
      "outputs": []
    },
    {
      "cell_type": "code",
      "metadata": {
        "id": "FmNvTt4G8UcA",
        "colab_type": "code",
        "colab": {
          "base_uri": "https://localhost:8080/",
          "height": 184
        },
        "outputId": "d8d77c91-721d-4d04-c0c9-801f46937486"
      },
      "source": [
        "for i in range(10):\n",
        "  if (meaning[i] != ''):\n",
        "    print(meaning[i])"
      ],
      "execution_count": 98,
      "outputs": [
        {
          "output_type": "stream",
          "text": [
            "['will {future marker}', '{habitual marker}']\n",
            "['particle marking an interrogative sentence (alternate towà)']\n",
            "['general connector of two independant clauses; then; and so, and then, and']\n",
            "['will (future marker, 1/2 pers']\n",
            "[\"in, at {locative suffix} (follows stems containing 'a'; see also-é,-í,-ó,-ɔ́,-ú)\"]\n",
            "['him, her, it {obj', 'him, her, it {obl', 'his, her, its']\n",
            "['oh good (man, woman, etc']\n",
            "['go (seeàw̄)', 'go in search of']\n",
            "['skunk, winning in cards so that opponent has no points']\n",
            "['airplane']\n"
          ],
          "name": "stdout"
        }
      ]
    },
    {
      "cell_type": "code",
      "metadata": {
        "id": "MMlbigUZ7VTs",
        "colab_type": "code",
        "colab": {}
      },
      "source": [
        ""
      ],
      "execution_count": null,
      "outputs": []
    },
    {
      "cell_type": "code",
      "metadata": {
        "id": "SgDOtDko66vL",
        "colab_type": "code",
        "colab": {}
      },
      "source": [
        ""
      ],
      "execution_count": null,
      "outputs": []
    },
    {
      "cell_type": "code",
      "metadata": {
        "id": "42nq86ifxURp",
        "colab_type": "code",
        "colab": {
          "base_uri": "https://localhost:8080/",
          "height": 35
        },
        "outputId": "32ba5323-f791-45c6-ba1a-142367d8aaa0"
      },
      "source": [
        "#meaning = \n",
        "phrases[i].text.replace('\\n','')[0:end]\n",
        "#; print(meaning)"
      ],
      "execution_count": 41,
      "outputs": [
        {
          "output_type": "execute_result",
          "data": {
            "application/vnd.google.colaboratory.intrinsic": {
              "type": "string"
            },
            "text/plain": [
              "' à(Syn: ànḛ̄)CNJ  general connector of two independant clauses; then; and so, and then, and'"
            ]
          },
          "metadata": {
            "tags": []
          },
          "execution_count": 41
        }
      ]
    },
    {
      "cell_type": "code",
      "metadata": {
        "id": "4UMal9aKxwSY",
        "colab_type": "code",
        "colab": {}
      },
      "source": [
        "meaning.replace()"
      ],
      "execution_count": null,
      "outputs": []
    },
    {
      "cell_type": "code",
      "metadata": {
        "id": "kyGNr0cyvNxm",
        "colab_type": "code",
        "colab": {
          "base_uri": "https://localhost:8080/",
          "height": 33
        },
        "outputId": "268ff24c-a1c3-435e-ec1c-91eaf94089ab"
      },
      "source": [
        "phrases[i].find_all('span',{\"class\": \"type\"})"
      ],
      "execution_count": 28,
      "outputs": [
        {
          "output_type": "execute_result",
          "data": {
            "text/plain": [
              "[<span class=\"type\">VAU  </span>, <span class=\"type\">VAU  </span>]"
            ]
          },
          "metadata": {
            "tags": []
          },
          "execution_count": 28
        }
      ]
    },
    {
      "cell_type": "code",
      "metadata": {
        "id": "l1SmY-35ec5B",
        "colab_type": "code",
        "colab": {}
      },
      "source": [
        "!pip install deepl\n",
        "\n",
        "from translate import Translator\n",
        "\n",
        "# Translation using Google Translate\n",
        "\n",
        "translation = Translator(to_lang=\"fr\").translate(\"This is a pen!\")"
      ],
      "execution_count": null,
      "outputs": []
    },
    {
      "cell_type": "code",
      "metadata": {
        "id": "6l780w-qf1AW",
        "colab_type": "code",
        "colab": {
          "base_uri": "https://localhost:8080/",
          "height": 33
        },
        "outputId": "0a4b24da-4d02-4336-a8ce-7d69ef177685"
      },
      "source": [
        "translation = Translator(to_lang=\"fr\").translate(\"This is a beautiful pencil!\")\n",
        "print(translation)"
      ],
      "execution_count": null,
      "outputs": [
        {
          "output_type": "stream",
          "text": [
            "Ceci est un beau crayon!\n"
          ],
          "name": "stdout"
        }
      ]
    }
  ]
}