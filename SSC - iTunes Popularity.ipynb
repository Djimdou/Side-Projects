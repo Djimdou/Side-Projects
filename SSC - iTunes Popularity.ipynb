{
  "nbformat": 4,
  "nbformat_minor": 0,
  "metadata": {
    "kernelspec": {
      "display_name": "Python 3",
      "language": "python",
      "name": "python3"
    },
    "language_info": {
      "codemirror_mode": {
        "name": "ipython",
        "version": 3
      },
      "file_extension": ".py",
      "mimetype": "text/x-python",
      "name": "python",
      "nbconvert_exporter": "python",
      "pygments_lexer": "ipython3",
      "version": "3.7.4"
    },
    "colab": {
      "name": "SSC - iTunes Popularity.ipynb",
      "provenance": []
    }
  },
  "cells": [
    {
      "cell_type": "code",
      "metadata": {
        "id": "F-UOqUyl7EF6",
        "colab_type": "code",
        "colab": {}
      },
      "source": [
        "# # # SSC 8th edition case study 2, poster competition\n",
        "\n",
        "# Link for description: https://ssc.ca/en/case-study/predicting-podcast-popularity-itunes"
      ],
      "execution_count": 0,
      "outputs": []
    },
    {
      "cell_type": "code",
      "metadata": {
        "id": "JdclsWWi7EF-",
        "colab_type": "code",
        "colab": {}
      },
      "source": [
        "# Packages\n",
        "\n",
        "import pandas as pd\n",
        "import csv\n",
        "# !pip install nltk # Needed if code line below does not compile\n",
        "import nltk"
      ],
      "execution_count": 0,
      "outputs": []
    },
    {
      "cell_type": "code",
      "metadata": {
        "id": "xjLml2DC7EGA",
        "colab_type": "code",
        "colab": {}
      },
      "source": [
        "# # Importing data sets\n",
        "\n",
        "data_test = pd.read_csv('/content/podcast_data_unlabelled_test.csv', delimiter=',')\n",
        "data_train = pd.read_csv('/content/podcast_data.csv', delimiter=',')"
      ],
      "execution_count": 0,
      "outputs": []
    },
    {
      "cell_type": "code",
      "metadata": {
        "id": "_5QsOz827EGC",
        "colab_type": "code",
        "colab": {
          "base_uri": "https://localhost:8080/",
          "height": 33
        },
        "outputId": "68fc347c-d0d3-453e-a0b9-e3bb903788e1"
      },
      "source": [
        "data_test.shape,data_train.shape"
      ],
      "execution_count": 7,
      "outputs": [
        {
          "output_type": "execute_result",
          "data": {
            "text/plain": [
              "((462885, 9), (1408901, 10))"
            ]
          },
          "metadata": {
            "tags": []
          },
          "execution_count": 7
        }
      ]
    },
    {
      "cell_type": "code",
      "metadata": {
        "id": "m5eCCkyq7EGF",
        "colab_type": "code",
        "colab": {
          "base_uri": "https://localhost:8080/",
          "height": 67
        },
        "outputId": "9c0210cd-10bf-47df-a51e-b7f653c2ee2f"
      },
      "source": [
        "data_train.columns"
      ],
      "execution_count": 8,
      "outputs": [
        {
          "output_type": "execute_result",
          "data": {
            "text/plain": [
              "Index(['title', 'summary', 'subcategory', 'artist', 'date', 'hour', 'release',\n",
              "       'rating_value', 'number_of_reviews', 'url'],\n",
              "      dtype='object')"
            ]
          },
          "metadata": {
            "tags": []
          },
          "execution_count": 8
        }
      ]
    },
    {
      "cell_type": "code",
      "metadata": {
        "id": "4xbnsVAD7EGI",
        "colab_type": "code",
        "colab": {
          "base_uri": "https://localhost:8080/",
          "height": 67
        },
        "outputId": "59ae87b3-c4a2-49f7-efc9-92b6fad86afd"
      },
      "source": [
        "data_test.columns"
      ],
      "execution_count": 9,
      "outputs": [
        {
          "output_type": "execute_result",
          "data": {
            "text/plain": [
              "Index(['title', 'summary', 'subcategory', 'artist', 'date', 'hour', 'release',\n",
              "       'rating_value', 'url'],\n",
              "      dtype='object')"
            ]
          },
          "metadata": {
            "tags": []
          },
          "execution_count": 9
        }
      ]
    },
    {
      "cell_type": "code",
      "metadata": {
        "id": "27RrvFTp7EGN",
        "colab_type": "code",
        "colab": {},
        "outputId": "e61cfc43-26d1-4552-f9a0-b563dd98f360"
      },
      "source": [
        "# Are subcategories the same in the two data sets?\n",
        "\n",
        "data_train.subcategory.describe()"
      ],
      "execution_count": 0,
      "outputs": [
        {
          "output_type": "execute_result",
          "data": {
            "text/plain": [
              "count        1408901\n",
              "unique            85\n",
              "top       Technology\n",
              "freq          144228\n",
              "Name: subcategory, dtype: object"
            ]
          },
          "metadata": {
            "tags": []
          },
          "execution_count": 7
        }
      ]
    },
    {
      "cell_type": "code",
      "metadata": {
        "id": "E3ZNH5zZ7EGQ",
        "colab_type": "code",
        "colab": {},
        "outputId": "bb37a359-df70-4c6e-d990-b027d87d7adc"
      },
      "source": [
        "data_train.subcategory.unique()"
      ],
      "execution_count": 0,
      "outputs": [
        {
          "output_type": "execute_result",
          "data": {
            "text/plain": [
              "array(['Music', 'Comedy', 'Music Interviews', 'Music History',\n",
              "       'Education for Kids', 'Design', 'Personal Journals',\n",
              "       'Fashion & Beauty', 'Food', 'Visual Arts', 'Arts', 'Documentary',\n",
              "       'Technology', 'Tech News', 'Courses', 'Language Learning',\n",
              "       'Self-Improvement', 'Education', 'How To', 'Society & Culture',\n",
              "       'Relationships', 'Christianity', 'Religion & Spirituality',\n",
              "       'Spirituality', 'Judaism', 'Philosophy', 'Places & Travel',\n",
              "       'Religion', 'Buddhism', 'Books', 'Performing Arts', 'Investing',\n",
              "       'Entrepreneurship', 'Business', 'Careers', 'Hinduism', 'Marketing',\n",
              "       'Management', 'True Crime', 'Sports', 'Politics', 'Life Sciences',\n",
              "       'News', 'Drama', 'Mental Health', 'Daily News', 'Health & Fitness',\n",
              "       'History', 'Fantasy Sports', 'Kids & Family', 'Pets & Animals',\n",
              "       'Parenting', 'Comedy Interviews', 'Science', 'News Commentary',\n",
              "       'Science Fiction', 'Wilderness', 'TV & Film', 'Stories for Kids',\n",
              "       'Improv', 'Social Sciences', 'Fiction', 'Film Reviews',\n",
              "       'After Shows', 'Film History', 'TV Reviews', 'Film Interviews',\n",
              "       'Wrestling', 'Natural Sciences', 'Basketball', 'Music Commentary',\n",
              "       'Sports News', 'Islam', 'Nutrition', 'Automotive', 'Home & Garden',\n",
              "       'Nature', 'Stand-Up', 'Medicine', 'Non-Profit', 'Podcasts',\n",
              "       'Comedy Fiction', 'Alternative Health', 'Leisure', 'Astronomy'],\n",
              "      dtype=object)"
            ]
          },
          "metadata": {
            "tags": []
          },
          "execution_count": 8
        }
      ]
    },
    {
      "cell_type": "code",
      "metadata": {
        "id": "C3tyI1kM7EGS",
        "colab_type": "code",
        "colab": {},
        "outputId": "c7d7d936-f64a-49b0-9ce4-7a289d408077"
      },
      "source": [
        "data_test.subcategory.describe()"
      ],
      "execution_count": 0,
      "outputs": [
        {
          "output_type": "execute_result",
          "data": {
            "text/plain": [
              "count         462885\n",
              "unique            79\n",
              "top       Technology\n",
              "freq           45481\n",
              "Name: subcategory, dtype: object"
            ]
          },
          "metadata": {
            "tags": []
          },
          "execution_count": 9
        }
      ]
    },
    {
      "cell_type": "code",
      "metadata": {
        "id": "KQkoEh5H7EGU",
        "colab_type": "code",
        "colab": {},
        "outputId": "5dfb944d-9dff-4927-e4e0-6c61e0c26be2"
      },
      "source": [
        "data_test.subcategory.unique()"
      ],
      "execution_count": 0,
      "outputs": [
        {
          "output_type": "execute_result",
          "data": {
            "text/plain": [
              "array(['TV & Film', 'History', 'Entrepreneurship', 'Language Learning',\n",
              "       'Self-Improvement', 'Society & Culture', 'Business', 'Food',\n",
              "       'Investing', 'Arts', 'Books', 'Christianity', 'Improv',\n",
              "       'Performing Arts', 'Visual Arts', 'Education', 'Design',\n",
              "       'Fashion & Beauty', 'Careers', 'Management', 'Marketing',\n",
              "       'Documentary', 'Personal Journals', 'Philosophy',\n",
              "       'Places & Travel', 'Relationships', 'Technology', 'Spirituality',\n",
              "       'Judaism', 'Religion & Spirituality', 'Courses', 'How To',\n",
              "       'Buddhism', 'Religion', 'Islam', 'Kids & Family',\n",
              "       'Education for Kids', 'Stories for Kids', 'Parenting',\n",
              "       'Pets & Animals', 'Music Commentary', 'Music', 'Music Interviews',\n",
              "       'Hinduism', 'Music History', 'Comedy Interviews', 'Comedy',\n",
              "       'Stand-Up', 'Basketball', 'Business News', 'Football',\n",
              "       'True Crime', 'News', 'Health & Fitness', 'Sports', 'Nutrition',\n",
              "       'Medicine', 'Politics', 'Science', 'Wilderness',\n",
              "       'Entertainment News', 'Natural Sciences', 'Drama',\n",
              "       'News Commentary', 'Life Sciences', 'Mental Health', 'Daily News',\n",
              "       'Social Sciences', 'After Shows', 'Film Reviews', 'TV Reviews',\n",
              "       'Film Interviews', 'Film History', 'Science Fiction', 'Fiction',\n",
              "       'Astronomy', 'Sports News', 'Automotive', 'Alternative Health'],\n",
              "      dtype=object)"
            ]
          },
          "metadata": {
            "tags": []
          },
          "execution_count": 10
        }
      ]
    },
    {
      "cell_type": "code",
      "metadata": {
        "id": "fSw6LSBv7EGW",
        "colab_type": "code",
        "colab": {},
        "outputId": "0486a436-2902-466e-b329-c7961db594b1"
      },
      "source": [
        "# subcategories of the test (unlabelled) that do not appear in the training data set\n",
        "\n",
        "for i in data_test.subcategory.unique():\n",
        "    if not(i in data_train.subcategory.unique()):\n",
        "        print(i)\n",
        "        \n",
        "# No: subcategories 'Business News', 'Football', and 'Entertainment News' are in the test, but not the training data sets."
      ],
      "execution_count": 0,
      "outputs": [
        {
          "output_type": "stream",
          "text": [
            "Business News\n",
            "Football\n",
            "Entertainment News\n"
          ],
          "name": "stdout"
        }
      ]
    },
    {
      "cell_type": "code",
      "metadata": {
        "id": "P8Dpwfxb7EGZ",
        "colab_type": "code",
        "colab": {}
      },
      "source": [
        "#pd.DataFrame({'subcategory': data_train.subcategory.unique()}).sort_values(by='subcategory')"
      ],
      "execution_count": 0,
      "outputs": []
    },
    {
      "cell_type": "code",
      "metadata": {
        "id": "nz_GFwlN7EGb",
        "colab_type": "code",
        "colab": {},
        "outputId": "eb467e4a-40fe-4864-ced4-9aa3a2346646"
      },
      "source": [
        "# # Descriptive stat"
      ],
      "execution_count": 0,
      "outputs": [
        {
          "output_type": "execute_result",
          "data": {
            "text/plain": [
              "0                The Watch\n",
              "1    Reality Steve Podcast\n",
              "2          Challenge Mania\n",
              "3         American Scandal\n",
              "4       THE ED MYLETT SHOW\n",
              "Name: title, dtype: object"
            ]
          },
          "metadata": {
            "tags": []
          },
          "execution_count": 18
        }
      ]
    },
    {
      "cell_type": "code",
      "metadata": {
        "id": "kQnzkfRZ7EGd",
        "colab_type": "code",
        "colab": {}
      },
      "source": [
        "# # Text mining\n",
        "\n",
        "# Help: https://medium.com/towards-artificial-intelligence/text-mining-in-python-steps-and-examples-78b3f8fd913b"
      ],
      "execution_count": 0,
      "outputs": []
    },
    {
      "cell_type": "code",
      "metadata": {
        "id": "N0SRXLqn7EGg",
        "colab_type": "code",
        "colab": {}
      },
      "source": [
        "# Importing necessary library\n",
        "\n",
        "import numpy as np\n",
        "import nltk\n",
        "import os\n",
        "import nltk.corpus"
      ],
      "execution_count": 0,
      "outputs": []
    },
    {
      "cell_type": "code",
      "metadata": {
        "id": "KgP-pnee7EGi",
        "colab_type": "code",
        "colab": {}
      },
      "source": [
        "# Importing word_tokenize from nltk\n",
        "from nltk.tokenize import word_tokenize"
      ],
      "execution_count": 0,
      "outputs": []
    },
    {
      "cell_type": "code",
      "metadata": {
        "id": "SzPfm5xN7EGk",
        "colab_type": "code",
        "colab": {},
        "outputId": "78220478-86ba-44c3-f574-033b9cbefd7c"
      },
      "source": [
        "nltk.download('punkt')"
      ],
      "execution_count": 0,
      "outputs": [
        {
          "output_type": "stream",
          "text": [
            "[nltk_data] Downloading package punkt to\n",
            "[nltk_data]     C:\\Users\\m_loudeg\\AppData\\Roaming\\nltk_data...\n",
            "[nltk_data]   Unzipping tokenizers\\punkt.zip.\n"
          ],
          "name": "stderr"
        },
        {
          "output_type": "execute_result",
          "data": {
            "text/plain": [
              "True"
            ]
          },
          "metadata": {
            "tags": []
          },
          "execution_count": 26
        }
      ]
    },
    {
      "cell_type": "code",
      "metadata": {
        "id": "MzQIj26M7EGp",
        "colab_type": "code",
        "colab": {}
      },
      "source": [
        "# Passing the string text into word tokenize for breaking the sentences\n",
        "token = word_tokenize(data_train.summary[0])"
      ],
      "execution_count": 0,
      "outputs": []
    },
    {
      "cell_type": "code",
      "metadata": {
        "id": "Td4SICTI7EGr",
        "colab_type": "code",
        "colab": {},
        "outputId": "b8b28979-339e-4d35-a2ca-8c1e96e1fb8a"
      },
      "source": [
        "# finding the frequency distinct in the tokens\n",
        "# Importing FreqDist library from nltk and passing token into FreqDist\n",
        "from nltk.probability import FreqDist\n",
        "fdist = FreqDist(token)\n",
        "fdist"
      ],
      "execution_count": 0,
      "outputs": [
        {
          "output_type": "execute_result",
          "data": {
            "text/plain": [
              "FreqDist({',': 9, '(': 6, ')': 6, 'by': 5, '.': 4, 'of': 3, 'a': 2, 'per': 2, 'dissecting': 2, 'the': 2, ...})"
            ]
          },
          "metadata": {
            "tags": []
          },
          "execution_count": 29
        }
      ]
    },
    {
      "cell_type": "code",
      "metadata": {
        "id": "TF0tRazb7EGt",
        "colab_type": "code",
        "colab": {},
        "outputId": "8e1976cc-f755-4dfb-c4fa-92c155c3a21b"
      },
      "source": [
        "# To find the frequency of top 10 words\n",
        "fdist.most_common(10)"
      ],
      "execution_count": 0,
      "outputs": [
        {
          "output_type": "execute_result",
          "data": {
            "text/plain": [
              "[(',', 9),\n",
              " ('(', 6),\n",
              " (')', 6),\n",
              " ('by', 5),\n",
              " ('.', 4),\n",
              " ('of', 3),\n",
              " ('a', 2),\n",
              " ('per', 2),\n",
              " ('dissecting', 2),\n",
              " ('the', 2)]"
            ]
          },
          "metadata": {
            "tags": []
          },
          "execution_count": 30
        }
      ]
    }
  ]
}