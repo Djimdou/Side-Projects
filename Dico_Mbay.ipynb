{
  "nbformat": 4,
  "nbformat_minor": 0,
  "metadata": {
    "colab": {
      "name": "Dico Mbay.ipynb",
      "provenance": [],
      "collapsed_sections": [],
      "authorship_tag": "ABX9TyNJfDjtk1NHEdnpqXBh9i93"
    },
    "kernelspec": {
      "name": "python3",
      "display_name": "Python 3"
    }
  },
  "cells": [
    {
      "cell_type": "code",
      "metadata": {
        "id": "iZBjcBLoxlBS",
        "colab_type": "code",
        "colab": {}
      },
      "source": [
        "import requests\n",
        "from bs4 import BeautifulSoup\n",
        "#!pip install audioscrape\n",
        "#import audioscrape"
      ],
      "execution_count": 1,
      "outputs": []
    },
    {
      "cell_type": "code",
      "metadata": {
        "id": "hqwITPf94wzL",
        "colab_type": "code",
        "colab": {}
      },
      "source": [
        "URL = 'http://morkegbooks.com/Services/World/Languages/SaraBagirmi/SoundDictionary/Mbay/'\n",
        "page = requests.get(URL)\n",
        "dico_mbaye = BeautifulSoup(page.content, 'html.parser').find(id='dict-content')\n",
        "phrases = dico_mbaye.find_all('div',{\"class\": \"def\"})#.find_all('span',{\"class\": \"word\"})"
      ],
      "execution_count": 2,
      "outputs": []
    },
    {
      "cell_type": "markdown",
      "metadata": {
        "id": "EKkh4WX6OgSl",
        "colab_type": "text"
      },
      "source": [
        "Structure of the information"
      ]
    },
    {
      "cell_type": "code",
      "metadata": {
        "id": "hgI5KE2D9qBs",
        "colab_type": "code",
        "colab": {}
      },
      "source": [
        "word = ['' for i in range(len(phrases))]\n",
        "alternative = ['' for i in range(len(phrases))]\n",
        "synonym = ['' for i in range(len(phrases))]\n",
        "borrow_language = ['' for i in range(len(phrases))]\n",
        "phrase_type = ['' for i in range(len(phrases))]\n",
        "\n",
        "for i in range(len(phrases)):\n",
        "\n",
        "# Phrases, words, main entries and alternative spellings\n",
        "\n",
        "  end_word =  phrases[i].span.text.find('\\n',2)\n",
        "  if (phrases[i].span.text.find('\\n',1) != phrases[i].span.text.find('\\n',2)):# if the text is in the form \"\\n\\n à\\n\\n\"\n",
        "    begin_word = phrases[i].span.text.find('\\n',1)\n",
        "    word[i] = phrases[i].span.text[(begin_word+2):end_word].replace(\" \", \"\").split(\",\")\n",
        "  else:# if the text is in the form \"\\n-á\\n\"\n",
        "    begin_word = phrases[i].span.text.find('\\n')\n",
        "    word[i] = phrases[i].span.text[(begin_word+1):end_word].replace(\" \", \"\").split(\",\")\n",
        "\n",
        "# Alternative spellings\n",
        "\n",
        "  if (phrases[i].span.text.find('[') != -1): # there is an alternative spelling\n",
        "    begin_alter = phrases[i].span.text.find('[')\n",
        "    end_alter = phrases[i].span.text.find(']')\n",
        "    alternative[i] = phrases[i].span.text[(begin_alter+1):end_alter]\n",
        "\n",
        "# Synonyms\n",
        "\n",
        "  if (phrases[i].span.text.find('Syn:') != -1):\n",
        "    begin_synonym = phrases[i].span.text.find('Syn:')\n",
        "    end_synonym = phrases[i].span.text.find(')')\n",
        "    synonym[i] = phrases[i].span.text[(begin_synonym+5):end_synonym].replace(\"=\", \"\")\n",
        "\n",
        "# Borrowings\n",
        "\n",
        "  if (phrases[i].span.text.find(\"Arabic\")>0):\n",
        "    borrow_language[i] = \"Arabic\"\n",
        "  if (phrases[i].span.text.find(\"French\")>0):\n",
        "    borrow_language[i] = \"French\"\n",
        "  if (phrases[i].span.text.find(\"Sango\")>0):\n",
        "    borrow_language[i] = \"Sango\"\n",
        "  if (phrases[i].span.text.find(\"Bagirmi\")>0):\n",
        "    borrow_language[i] = \"Bagirmi\"\n",
        "\n",
        "# Types\n",
        "\n",
        "  phrase_type[i] = phrases[i].find_all('span',{\"class\": \"type\"})[0].text.replace(\" \", \"\")\n",
        "\n",
        "# Meaning\n",
        "\n"
      ],
      "execution_count": 98,
      "outputs": []
    },
    {
      "cell_type": "code",
      "metadata": {
        "id": "8m7SAHuhLBFR",
        "colab_type": "code",
        "colab": {
          "base_uri": "https://localhost:8080/",
          "height": 33
        },
        "outputId": "512a5597-8677-4898-f0d3-7c46746ba0cf"
      },
      "source": [
        "i=0;\n",
        "phrases[i].find_all('span',{\"class\": \"type\"})"
      ],
      "execution_count": 113,
      "outputs": [
        {
          "output_type": "execute_result",
          "data": {
            "text/plain": [
              "[<span class=\"type\">VAU  </span>, <span class=\"type\">VAU  </span>]"
            ]
          },
          "metadata": {
            "tags": []
          },
          "execution_count": 113
        }
      ]
    },
    {
      "cell_type": "code",
      "metadata": {
        "id": "N3Js7VCxQCH1",
        "colab_type": "code",
        "colab": {
          "base_uri": "https://localhost:8080/",
          "height": 301
        },
        "outputId": "0538f2ce-552e-4407-8088-ec8febed4371"
      },
      "source": [
        "phrases[i]"
      ],
      "execution_count": 112,
      "outputs": [
        {
          "output_type": "execute_result",
          "data": {
            "text/plain": [
              "<div class=\"def\">\n",
              "<span class=\"word\">\n",
              "<span class=\"w sara-bagirmi-lang\">\n",
              "<a class=\"play-sound\" onclick=\"playSound('Sound/Mba386W.mp3')\"> à</a>\n",
              "</span>\n",
              "</span>\n",
              "<span class=\"type\">VAU  </span>\n",
              "will {future marker}.\n",
              "<span class=\"sara-bagirmi-lang\">\n",
              "<a class=\"play-sound\" onclick=\"playSound('Sound/Mba386SS01.mp3')\"> à ɗèē lòo-tīi.</a> </span>\n",
              "He will come tomorrow.\n",
              "<span class=\"type\">VAU  </span>\n",
              "{habitual marker}.\n",
              "<span class=\"sara-bagirmi-lang\">\n",
              "<a class=\"play-sound\" onclick=\"playSound('Sound/MBAY01A22.mp3')\"> à ɗāa-n̄ tá̰a̰-kúl̄ kɨ̀ gúm.</a> </span>\n",
              "'Long sauce' is made with the plant called \"gum\".\n",
              "</div>"
            ]
          },
          "metadata": {
            "tags": []
          },
          "execution_count": 112
        }
      ]
    },
    {
      "cell_type": "code",
      "metadata": {
        "id": "l1SmY-35ec5B",
        "colab_type": "code",
        "colab": {}
      },
      "source": [
        "!pip install deepl\n",
        "\n",
        "from translate import Translator\n",
        "\n",
        "# Translation using Google Translate\n",
        "\n",
        "translation = Translator(to_lang=\"fr\").translate(\"This is a pen!\")"
      ],
      "execution_count": null,
      "outputs": []
    },
    {
      "cell_type": "code",
      "metadata": {
        "id": "6l780w-qf1AW",
        "colab_type": "code",
        "colab": {
          "base_uri": "https://localhost:8080/",
          "height": 33
        },
        "outputId": "0a4b24da-4d02-4336-a8ce-7d69ef177685"
      },
      "source": [
        "translation = Translator(to_lang=\"fr\").translate(\"This is a beautiful pencil!\")\n",
        "print(translation)"
      ],
      "execution_count": null,
      "outputs": [
        {
          "output_type": "stream",
          "text": [
            "Ceci est un beau crayon!\n"
          ],
          "name": "stdout"
        }
      ]
    }
  ]
}