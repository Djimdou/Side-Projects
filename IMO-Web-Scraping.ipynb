{
 "cells": [
  {
   "cell_type": "code",
   "execution_count": 1,
   "metadata": {},
   "outputs": [],
   "source": [
    "# # # # Web scraping: Africa in International Math Olympiads # # # # "
   ]
  },
  {
   "cell_type": "code",
   "execution_count": 2,
   "metadata": {},
   "outputs": [],
   "source": [
    "# Importing packages\n",
    "\n",
    "import requests,math\n",
    "import numpy as np\n",
    "from bs4 import BeautifulSoup"
   ]
  },
  {
   "cell_type": "code",
   "execution_count": 3,
   "metadata": {},
   "outputs": [],
   "source": [
    "# # Data about performance of countries at the IMO\n",
    "\n",
    "URL_imo = 'https://www.imo-official.org/results.aspx'\n",
    "page_imo = requests.get(URL_imo)\n",
    "imo = BeautifulSoup(page_imo.content, 'html.parser')\n",
    "results_imo = imo.find(id='main')\n",
    "\n",
    "countries_imo = results_imo.find_all('tr')\n",
    "countries_imo.pop(0)\n",
    "countries_imo.pop(0)\n",
    "\n",
    "year = [results_imo.find_all('tr')[0]('th')[i]('a')[0]['title'][4:] for i in range(1,len(results_imo.find_all('tr')[0]('th'))-1)]\n",
    "code = [0 for i in range(len(countries_imo))] # country codes\n",
    "name = [0 for i in range(len(countries_imo))] # country names\n",
    "data = [[float('nan') for y in year] for i in code] # country performance at IMO\n",
    "\n",
    "for i in range(len(countries_imo)):\n",
    "    code[i] = countries_imo[i].a.text\n",
    "    name[i] = countries_imo[i].a['title']\n",
    "    \n",
    "for c in range(len(code)):\n",
    "    for y in range(len(year)):\n",
    "        if not (countries_imo[c].find_all('td')[y+1].a is None): # making sure <a> exists\n",
    "            if (\"team_r.aspx?\" in countries_imo[c].find_all('td')[y+1].a[\"href\"]): # if the country c participated the year y\n",
    "                data[c][y] = int(countries_imo[c].find_all('td')[y+1].a.text)"
   ]
  },
  {
   "cell_type": "code",
   "execution_count": 4,
   "metadata": {},
   "outputs": [],
   "source": [
    "# # African countries\n",
    "\n",
    "URL_africa = 'https://allafrica.com/misc/sitemap/countries.html' # list of African countries\n",
    "page_africa = requests.get(URL_africa)\n",
    "africa = BeautifulSoup(page_africa.content, 'html.parser')\n",
    "results_africa = africa.find(class_='category-grid')\n",
    "countries_africa = [results_africa.find_all('a')[c].text.replace(u'\\xa0', u' ') for c in range(1,len(results_africa.find_all('a')))]"
   ]
  },
  {
   "cell_type": "code",
   "execution_count": 5,
   "metadata": {},
   "outputs": [],
   "source": [
    "# # Need to identify African countries (linking the two data bases)\n",
    "\n",
    "#african_participant = [0 for c in name] # value 0 if African country never participated to IMO\n",
    "african_participant = []\n",
    "\n",
    "i=0\n",
    "for c in range(len(name)):\n",
    "    if name[c] in countries_africa:\n",
    "        #african_participant[c] = 1 # value 1 if African country  participated to at least one IMO edition\n",
    "        african_participant.append(c) # their position in IMO countries list ('name')\n",
    "    i=i+1\n",
    "\n",
    "africa_performance = [data[a] for a in african_participant] # performance of African countries"
   ]
  },
  {
   "cell_type": "code",
   "execution_count": 6,
   "metadata": {},
   "outputs": [
    {
     "data": {
      "text/plain": [
       "(110.0, 3)"
      ]
     },
     "execution_count": 6,
     "metadata": {},
     "output_type": "execute_result"
    }
   ],
   "source": [
    "# # Some statistics\n",
    "\n",
    "len(african_participant) # 19 African countries at the IMO\n",
    "\n",
    "np.nanmin(africa_performance,axis=1) # best performance for each African country\n",
    "name[african_participant[np.argmin(np.nanmin(africa_performance,axis=1))]],np.nanmin(africa_performance),year[np.nanargmin(data[african_participant[np.argmin(np.nanmin(africa_performance,axis=1))]])]\n",
    "# Morocco achieved the best performance for an African country, 18, in 1982\n",
    "\n",
    "np.nanmax(africa_performance),sum(sum(africa_performance[a]==np.nanmax(africa_performance) for a in range(len(africa_performance)-1))) # worst performance accross all African countries:110. Achieved 3 times"
   ]
  },
  {
   "cell_type": "code",
   "execution_count": 8,
   "metadata": {},
   "outputs": [],
   "source": [
    "# Relative performance: rank divided by number of participants\n",
    "\n",
    "data_standardized = [[float('nan') for y in year] for i in code]\n",
    "\n",
    "for i in range(len(code)):\n",
    "    for y in range(len(year)):\n",
    "        if not(math.isnan(data[i][y])):\n",
    "            data_standardized[i][y] = np.divide(data[i][y],np.nanmax(data,axis=0)[y])\n",
    "            \n",
    "africa_performance_standardized = [data_standardized[a] for a in african_participant] # performance of African countries"
   ]
  },
  {
   "cell_type": "code",
   "execution_count": 9,
   "metadata": {},
   "outputs": [
    {
     "data": {
      "text/plain": [
       "('Morocco', 0.3287671232876712, '1986')"
      ]
     },
     "execution_count": 9,
     "metadata": {},
     "output_type": "execute_result"
    }
   ],
   "source": [
    "np.nanmin(africa_performance_standardized,axis=1) # best relative performance for each African country\n",
    "name[african_participant[np.argmin(np.nanmin(africa_performance_standardized,axis=1))]],np.nanmin(africa_performance_standardized),year[np.nanargmin(data[african_participant[np.argmin(np.nanmin(africa_performance_standardized,axis=1))]])]\n",
    "# Morocco achieved the best relative performance for an African country in 1982"
   ]
  },
  {
   "cell_type": "code",
   "execution_count": null,
   "metadata": {},
   "outputs": [],
   "source": [
    "# Plot: for each African country, evolution of its performance at IMO"
   ]
  },
  {
   "cell_type": "code",
   "execution_count": null,
   "metadata": {},
   "outputs": [],
   "source": [
    "# Map: for each African country, number of its participations at IMO\n",
    "\n",
    "# Help 1: https://ramiro.org/notebook/basemap-choropleth/ # Not working properly\n",
    "\n",
    "# Help 2: https://medium.com/using-specialist-business-databases/creating-a-choropleth-map-using-geopandas-and-financial-data-c76419258746"
   ]
  },
  {
   "cell_type": "code",
   "execution_count": null,
   "metadata": {},
   "outputs": [],
   "source": [
    "# Needed to install geopandas through Anaconda Prompt, by running the code \"conda install -c conda-forge geopandas\""
   ]
  },
  {
   "cell_type": "code",
   "execution_count": 15,
   "metadata": {},
   "outputs": [
    {
     "name": "stderr",
     "output_type": "stream",
     "text": [
      "Unable to open EPSG support file gcs.csv.  Try setting the GDAL_DATA environment variable to point to the directory containing EPSG csv files.\n"
     ]
    }
   ],
   "source": [
    "import pandas as pd #used to read in the revenue file \n",
    "import matplotlib.pyplot as plt #for plotting\n",
    "#to read in shape file and provides high #level interface with #matplotlib library for making maps\n",
    "import geopandas as gpd\n",
    "\n",
    "#import world shape map externally, no need to have a saved file\n",
    "world = gpd.read_file(gpd.datasets.get_path('naturalearth_lowres'))"
   ]
  },
  {
   "cell_type": "code",
   "execution_count": 18,
   "metadata": {},
   "outputs": [
    {
     "data": {
      "text/html": [
       "<div>\n",
       "<style scoped>\n",
       "    .dataframe tbody tr th:only-of-type {\n",
       "        vertical-align: middle;\n",
       "    }\n",
       "\n",
       "    .dataframe tbody tr th {\n",
       "        vertical-align: top;\n",
       "    }\n",
       "\n",
       "    .dataframe thead th {\n",
       "        text-align: right;\n",
       "    }\n",
       "</style>\n",
       "<table border=\"1\" class=\"dataframe\">\n",
       "  <thead>\n",
       "    <tr style=\"text-align: right;\">\n",
       "      <th></th>\n",
       "      <th>pop_est</th>\n",
       "      <th>continent</th>\n",
       "      <th>name</th>\n",
       "      <th>iso_a3</th>\n",
       "      <th>gdp_md_est</th>\n",
       "      <th>geometry</th>\n",
       "    </tr>\n",
       "  </thead>\n",
       "  <tbody>\n",
       "    <tr>\n",
       "      <th>0</th>\n",
       "      <td>920938</td>\n",
       "      <td>Oceania</td>\n",
       "      <td>Fiji</td>\n",
       "      <td>FJI</td>\n",
       "      <td>8374.0</td>\n",
       "      <td>(POLYGON ((180 -16.06713266364245, 180 -16.555...</td>\n",
       "    </tr>\n",
       "    <tr>\n",
       "      <th>1</th>\n",
       "      <td>53950935</td>\n",
       "      <td>Africa</td>\n",
       "      <td>Tanzania</td>\n",
       "      <td>TZA</td>\n",
       "      <td>150600.0</td>\n",
       "      <td>POLYGON ((33.90371119710453 -0.950000000000000...</td>\n",
       "    </tr>\n",
       "    <tr>\n",
       "      <th>2</th>\n",
       "      <td>603253</td>\n",
       "      <td>Africa</td>\n",
       "      <td>W. Sahara</td>\n",
       "      <td>ESH</td>\n",
       "      <td>906.5</td>\n",
       "      <td>POLYGON ((-8.665589565454809 27.65642588959236...</td>\n",
       "    </tr>\n",
       "    <tr>\n",
       "      <th>3</th>\n",
       "      <td>35623680</td>\n",
       "      <td>North America</td>\n",
       "      <td>Canada</td>\n",
       "      <td>CAN</td>\n",
       "      <td>1674000.0</td>\n",
       "      <td>(POLYGON ((-122.84 49.00000000000011, -122.974...</td>\n",
       "    </tr>\n",
       "    <tr>\n",
       "      <th>4</th>\n",
       "      <td>326625791</td>\n",
       "      <td>North America</td>\n",
       "      <td>United States of America</td>\n",
       "      <td>USA</td>\n",
       "      <td>18560000.0</td>\n",
       "      <td>(POLYGON ((-122.84 49.00000000000011, -120 49....</td>\n",
       "    </tr>\n",
       "  </tbody>\n",
       "</table>\n",
       "</div>"
      ],
      "text/plain": [
       "     pop_est      continent                      name iso_a3  gdp_md_est  \\\n",
       "0     920938        Oceania                      Fiji    FJI      8374.0   \n",
       "1   53950935         Africa                  Tanzania    TZA    150600.0   \n",
       "2     603253         Africa                 W. Sahara    ESH       906.5   \n",
       "3   35623680  North America                    Canada    CAN   1674000.0   \n",
       "4  326625791  North America  United States of America    USA  18560000.0   \n",
       "\n",
       "                                            geometry  \n",
       "0  (POLYGON ((180 -16.06713266364245, 180 -16.555...  \n",
       "1  POLYGON ((33.90371119710453 -0.950000000000000...  \n",
       "2  POLYGON ((-8.665589565454809 27.65642588959236...  \n",
       "3  (POLYGON ((-122.84 49.00000000000011, -122.974...  \n",
       "4  (POLYGON ((-122.84 49.00000000000011, -120 49....  "
      ]
     },
     "execution_count": 18,
     "metadata": {},
     "output_type": "execute_result"
    }
   ],
   "source": [
    "#view first 5 rows\n",
    "world.head()"
   ]
  },
  {
   "cell_type": "code",
   "execution_count": 19,
   "metadata": {},
   "outputs": [
    {
     "name": "stdout",
     "output_type": "stream",
     "text": [
      "<class 'geopandas.geodataframe.GeoDataFrame'>\n",
      "RangeIndex: 177 entries, 0 to 176\n",
      "Data columns (total 6 columns):\n",
      "pop_est       177 non-null int64\n",
      "continent     177 non-null object\n",
      "name          177 non-null object\n",
      "iso_a3        177 non-null object\n",
      "gdp_md_est    177 non-null float64\n",
      "geometry      177 non-null geometry\n",
      "dtypes: float64(1), geometry(1), int64(1), object(3)\n",
      "memory usage: 8.4+ KB\n"
     ]
    }
   ],
   "source": [
    "#inspect count\n",
    "world.info()"
   ]
  },
  {
   "cell_type": "code",
   "execution_count": 12,
   "metadata": {},
   "outputs": [
    {
     "ename": "SyntaxError",
     "evalue": "invalid syntax (<ipython-input-12-cd3cd598c912>, line 1)",
     "output_type": "error",
     "traceback": [
      "\u001b[1;36m  File \u001b[1;32m\"<ipython-input-12-cd3cd598c912>\"\u001b[1;36m, line \u001b[1;32m1\u001b[0m\n\u001b[1;33m    conda install -c conda-forge geopandas\u001b[0m\n\u001b[1;37m                ^\u001b[0m\n\u001b[1;31mSyntaxError\u001b[0m\u001b[1;31m:\u001b[0m invalid syntax\n"
     ]
    }
   ],
   "source": [
    "#merge both data sets using country code/iso_a3 as unique identifiers\n",
    "for_plotting = world.merge(revenue, left_on = 'iso_a3', right_on = 'Country Code')\n",
    "#check the occurrence\n",
    "for_plotting.info()"
   ]
  }
 ],
 "metadata": {
  "kernelspec": {
   "display_name": "Python 3",
   "language": "python",
   "name": "python3"
  },
  "language_info": {
   "codemirror_mode": {
    "name": "ipython",
    "version": 3
   },
   "file_extension": ".py",
   "mimetype": "text/x-python",
   "name": "python",
   "nbconvert_exporter": "python",
   "pygments_lexer": "ipython3",
   "version": "3.7.1"
  }
 },
 "nbformat": 4,
 "nbformat_minor": 2
}
